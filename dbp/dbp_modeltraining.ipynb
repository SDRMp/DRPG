{
 "cells": [
  {
   "cell_type": "code",
   "execution_count": 1,
   "metadata": {},
   "outputs": [],
   "source": [
    "dstype = 'dbp' \n",
    "mname = 'debertaV3'"
   ]
  },
  {
   "cell_type": "code",
   "execution_count": 2,
   "metadata": {},
   "outputs": [],
   "source": [
    "import pandas as pd"
   ]
  },
  {
   "cell_type": "code",
   "execution_count": 3,
   "metadata": {},
   "outputs": [
    {
     "name": "stdout",
     "output_type": "stream",
     "text": [
      "PyTorch version: 2.4.0+cu121\n",
      "CUDA available: True\n",
      "Number of GPUs: 1\n",
      "/home/bhairavi/om/om5/dbp/debertaV3_dbp\n"
     ]
    }
   ],
   "source": [
    "# %%\n",
    "# %%\n",
    "import torch\n",
    "import torchvision\n",
    "\n",
    "# Check PyTorch version\n",
    "print(\"PyTorch version:\", torch.__version__)\n",
    "\n",
    "# Check if CUDA is available (GPU support)\n",
    "print(\"CUDA available:\", torch.cuda.is_available())\n",
    "\n",
    "# Check the number of GPUs\n",
    "print(\"Number of GPUs:\", torch.cuda.device_count())\n",
    "\n",
    "\n",
    "\n",
    "# %%-----------------------------------++++++++++++++++++++++++++---------------------------------------\n",
    "\n",
    "# %%\n",
    "# %%\n",
    "modelpath = 'microsoft/deberta-v3-base'\n",
    "# modelpath = \"bert-base-uncased\"\n",
    "\n",
    "\n",
    "datapath = None\n",
    "saveDIR = f\"/home/bhairavi/om/om5/{dstype}/{mname}_{dstype}\"\n",
    "print(saveDIR)\n",
    "# %%\n"
   ]
  },
  {
   "cell_type": "code",
   "execution_count": 4,
   "metadata": {},
   "outputs": [],
   "source": [
    "modelpath  = saveDIR"
   ]
  },
  {
   "cell_type": "code",
   "execution_count": 5,
   "metadata": {},
   "outputs": [
    {
     "name": "stderr",
     "output_type": "stream",
     "text": [
      "/home/bhairavi/om/lib/python3.10/site-packages/tqdm/auto.py:21: TqdmWarning: IProgress not found. Please update jupyter and ipywidgets. See https://ipywidgets.readthedocs.io/en/stable/user_install.html\n",
      "  from .autonotebook import tqdm as notebook_tqdm\n"
     ]
    },
    {
     "data": {
      "text/plain": [
       "DatasetDict({\n",
       "    train: Dataset({\n",
       "        features: ['text', 'l1', 'l2', 'l3'],\n",
       "        num_rows: 240942\n",
       "    })\n",
       "    validation: Dataset({\n",
       "        features: ['text', 'l1', 'l2', 'l3'],\n",
       "        num_rows: 36003\n",
       "    })\n",
       "    test: Dataset({\n",
       "        features: ['text', 'l1', 'l2', 'l3'],\n",
       "        num_rows: 60794\n",
       "    })\n",
       "})"
      ]
     },
     "execution_count": 5,
     "metadata": {},
     "output_type": "execute_result"
    }
   ],
   "source": [
    "\n",
    "\n",
    "# %%\n",
    "from datasets import load_dataset\n",
    "\n",
    "dataset = load_dataset(\"DeveloperOats/DBPedia_Classes\", name='default' )\n",
    "\n",
    "\n",
    "# %%\n",
    "dataset\n"
   ]
  },
  {
   "cell_type": "code",
   "execution_count": 6,
   "metadata": {},
   "outputs": [
    {
     "data": {
      "text/plain": [
       "DatasetDict({\n",
       "    train: Dataset({\n",
       "        features: ['text', 'l1', 'l2', 'l3'],\n",
       "        num_rows: 240942\n",
       "    })\n",
       "    validation: Dataset({\n",
       "        features: ['text', 'l1', 'l2', 'l3'],\n",
       "        num_rows: 36003\n",
       "    })\n",
       "    test: Dataset({\n",
       "        features: ['text', 'l1', 'l2', 'l3'],\n",
       "        num_rows: 60794\n",
       "    })\n",
       "})"
      ]
     },
     "execution_count": 6,
     "metadata": {},
     "output_type": "execute_result"
    }
   ],
   "source": [
    "dataset"
   ]
  },
  {
   "cell_type": "code",
   "execution_count": 7,
   "metadata": {},
   "outputs": [],
   "source": [
    "train_df = pd.DataFrame(dataset['train'])\n",
    "test_df = pd.DataFrame(dataset['test'])\n",
    "validation_df = pd.DataFrame(dataset['validation'])"
   ]
  },
  {
   "cell_type": "code",
   "execution_count": 8,
   "metadata": {},
   "outputs": [],
   "source": [
    "train_df['split'] = 'train'\n",
    "\n",
    "test_df['split'] = 'test'\n",
    "\n",
    "validation_df['split'] = 'validation'"
   ]
  },
  {
   "cell_type": "code",
   "execution_count": 9,
   "metadata": {},
   "outputs": [],
   "source": [
    "df = pd.concat([train_df, test_df, validation_df], ignore_index=True)"
   ]
  },
  {
   "cell_type": "code",
   "execution_count": 10,
   "metadata": {},
   "outputs": [
    {
     "data": {
      "text/plain": [
       "(337739, 5)"
      ]
     },
     "execution_count": 10,
     "metadata": {},
     "output_type": "execute_result"
    }
   ],
   "source": [
    "df.shape"
   ]
  },
  {
   "cell_type": "code",
   "execution_count": 11,
   "metadata": {},
   "outputs": [
    {
     "data": {
      "text/plain": [
       "Index(['text', 'l1', 'l2', 'l3', 'split'], dtype='object')"
      ]
     },
     "execution_count": 11,
     "metadata": {},
     "output_type": "execute_result"
    }
   ],
   "source": [
    "df.columns"
   ]
  },
  {
   "cell_type": "code",
   "execution_count": 12,
   "metadata": {},
   "outputs": [
    {
     "data": {
      "text/plain": [
       "219"
      ]
     },
     "execution_count": 12,
     "metadata": {},
     "output_type": "execute_result"
    }
   ],
   "source": [
    " \n",
    "\n",
    "# %%\n",
    "df['l3'].nunique()\n",
    "\n",
    "# %%\n"
   ]
  },
  {
   "cell_type": "code",
   "execution_count": 13,
   "metadata": {},
   "outputs": [],
   "source": [
    "\n",
    "# %%\n",
    "df['label'] = df['l3']\n"
   ]
  },
  {
   "cell_type": "code",
   "execution_count": 14,
   "metadata": {},
   "outputs": [],
   "source": [
    "\n",
    "# %%\n",
    "from sklearn.preprocessing import LabelEncoder\n",
    "\n",
    "# %%\n",
    "le = LabelEncoder()\n",
    "df['target'] = le.fit_transform(df['label'])\n"
   ]
  },
  {
   "cell_type": "code",
   "execution_count": 15,
   "metadata": {},
   "outputs": [
    {
     "data": {
      "text/plain": [
       "Index(['text', 'l1', 'l2', 'l3', 'split', 'label', 'target'], dtype='object')"
      ]
     },
     "execution_count": 15,
     "metadata": {},
     "output_type": "execute_result"
    }
   ],
   "source": [
    "\n",
    "# %%\n",
    "\n",
    "# %%\n",
    "df.columns\n",
    "\n",
    "# %%\n"
   ]
  },
  {
   "cell_type": "code",
   "execution_count": 16,
   "metadata": {},
   "outputs": [
    {
     "data": {
      "text/plain": [
       "(337739, 7)"
      ]
     },
     "execution_count": 16,
     "metadata": {},
     "output_type": "execute_result"
    }
   ],
   "source": [
    "df.shape\n",
    "\n",
    "# %%\n"
   ]
  },
  {
   "cell_type": "code",
   "execution_count": 17,
   "metadata": {},
   "outputs": [
    {
     "data": {
      "text/plain": [
       "219"
      ]
     },
     "execution_count": 17,
     "metadata": {},
     "output_type": "execute_result"
    }
   ],
   "source": [
    "\n",
    "  \n",
    " \n",
    "import os\n",
    "import torch \n",
    "os.environ[\"CUDA_VISIBLE_DEVICES\"] = \"2\" \n",
    "\n",
    "torch.cuda.empty_cache() \n",
    "\n",
    "import pandas as pd\n",
    "from datasets import Dataset, DatasetDict, load_metric\n",
    "from transformers import AutoTokenizer, AutoModelForSequenceClassification, TrainingArguments, Trainer\n",
    "import numpy as np\n",
    "import matplotlib.pyplot as plt\n",
    "from sklearn.model_selection import train_test_split\n",
    "from sklearn.metrics import accuracy_score, precision_recall_fscore_support, classification_report\n",
    " \n",
    "\n",
    "# %%\n",
    "numlabel = df['target'].nunique()\n",
    "numlabel\n"
   ]
  },
  {
   "cell_type": "code",
   "execution_count": 18,
   "metadata": {},
   "outputs": [
    {
     "data": {
      "text/plain": [
       "DebertaV2ForSequenceClassification(\n",
       "  (deberta): DebertaV2Model(\n",
       "    (embeddings): DebertaV2Embeddings(\n",
       "      (word_embeddings): Embedding(128100, 768, padding_idx=0)\n",
       "      (LayerNorm): LayerNorm((768,), eps=1e-07, elementwise_affine=True)\n",
       "      (dropout): StableDropout()\n",
       "    )\n",
       "    (encoder): DebertaV2Encoder(\n",
       "      (layer): ModuleList(\n",
       "        (0-11): 12 x DebertaV2Layer(\n",
       "          (attention): DebertaV2Attention(\n",
       "            (self): DisentangledSelfAttention(\n",
       "              (query_proj): Linear(in_features=768, out_features=768, bias=True)\n",
       "              (key_proj): Linear(in_features=768, out_features=768, bias=True)\n",
       "              (value_proj): Linear(in_features=768, out_features=768, bias=True)\n",
       "              (pos_dropout): StableDropout()\n",
       "              (dropout): StableDropout()\n",
       "            )\n",
       "            (output): DebertaV2SelfOutput(\n",
       "              (dense): Linear(in_features=768, out_features=768, bias=True)\n",
       "              (LayerNorm): LayerNorm((768,), eps=1e-07, elementwise_affine=True)\n",
       "              (dropout): StableDropout()\n",
       "            )\n",
       "          )\n",
       "          (intermediate): DebertaV2Intermediate(\n",
       "            (dense): Linear(in_features=768, out_features=3072, bias=True)\n",
       "            (intermediate_act_fn): GELUActivation()\n",
       "          )\n",
       "          (output): DebertaV2Output(\n",
       "            (dense): Linear(in_features=3072, out_features=768, bias=True)\n",
       "            (LayerNorm): LayerNorm((768,), eps=1e-07, elementwise_affine=True)\n",
       "            (dropout): StableDropout()\n",
       "          )\n",
       "        )\n",
       "      )\n",
       "      (rel_embeddings): Embedding(512, 768)\n",
       "      (LayerNorm): LayerNorm((768,), eps=1e-07, elementwise_affine=True)\n",
       "    )\n",
       "  )\n",
       "  (pooler): ContextPooler(\n",
       "    (dense): Linear(in_features=768, out_features=768, bias=True)\n",
       "    (dropout): StableDropout()\n",
       "  )\n",
       "  (classifier): Linear(in_features=768, out_features=219, bias=True)\n",
       "  (dropout): StableDropout()\n",
       ")"
      ]
     },
     "execution_count": 18,
     "metadata": {},
     "output_type": "execute_result"
    }
   ],
   "source": [
    "\n",
    "\n",
    "# %%\n",
    "\n",
    "# %%\n",
    "from transformers import AutoTokenizer, AutoModelForSequenceClassification\n",
    "\n",
    "device = \"cuda\"  # the device to load the model onto\n",
    "\n",
    "# Load the tokenizer and model\n",
    "tokenizer = AutoTokenizer.from_pretrained(modelpath)\n",
    "model = AutoModelForSequenceClassification.from_pretrained(modelpath, num_labels=numlabel)\n",
    "\n",
    "# Move the model to the specified device\n",
    "model.to(device)\n"
   ]
  },
  {
   "cell_type": "code",
   "execution_count": 19,
   "metadata": {},
   "outputs": [],
   "source": [
    "\n",
    "\n",
    "# %%\n",
    "# df['token_length'] = df['text'].apply(lambda x: len(tokenizer.tokenize(x)))\n",
    "\n",
    "# # Calculate the maximum token length\n",
    "# max_length = df['token_length'].max()\n",
    "# Calculate the token length using the split method\n",
    "df['token_length'] = df['text'].apply(lambda x: len(x.split()))\n",
    "\n",
    "# Calculate the maximum token length\n",
    "max_length = df['token_length'].max()\n",
    "\n"
   ]
  },
  {
   "cell_type": "code",
   "execution_count": 20,
   "metadata": {},
   "outputs": [
    {
     "data": {
      "text/plain": [
       "499"
      ]
     },
     "execution_count": 20,
     "metadata": {},
     "output_type": "execute_result"
    }
   ],
   "source": [
    "max_length"
   ]
  },
  {
   "cell_type": "code",
   "execution_count": 21,
   "metadata": {},
   "outputs": [
    {
     "name": "stdout",
     "output_type": "stream",
     "text": [
      "Maximum token length: 499\n",
      "Next maximum token length: 499\n",
      "Average token length: 102.76\n"
     ]
    },
    {
     "data": {
      "text/plain": [
       "11"
      ]
     },
     "execution_count": 21,
     "metadata": {},
     "output_type": "execute_result"
    }
   ],
   "source": [
    "\n",
    "# Calculate the next maximum token length\n",
    "next_max_token_length = df['token_length'].nlargest(2).iloc[1] \n",
    "\n",
    "\n",
    "# Calculate the average token length\n",
    "average_token_length = df['token_length'].mean()\n",
    "\n",
    "# Display the results\n",
    "print(f\"Maximum token length: {max_length}\")\n",
    "print(f\"Next maximum token length: {next_max_token_length}\") \n",
    "print(f\"Average token length: {average_token_length:.2f}\")\n",
    "\n",
    "# %%\n",
    "min(df['token_length'])\n"
   ]
  },
  {
   "cell_type": "code",
   "execution_count": 22,
   "metadata": {},
   "outputs": [
    {
     "data": {
      "text/plain": [
       "(337739, 8)"
      ]
     },
     "execution_count": 22,
     "metadata": {},
     "output_type": "execute_result"
    }
   ],
   "source": [
    "\n",
    "# %%\n",
    "fdf = df[df['token_length'] == 5]\n",
    "\n",
    "# %%\n",
    "fdf\n",
    "\n",
    "# %%\n",
    "df = df[df['token_length'] >= 5]\n",
    "\n",
    "# %%\n",
    "df.shape\n",
    " \n"
   ]
  },
  {
   "cell_type": "code",
   "execution_count": 23,
   "metadata": {},
   "outputs": [
    {
     "data": {
      "text/plain": [
       "Index(['text', 'l1', 'l2', 'l3', 'split', 'label', 'target', 'token_length'], dtype='object')"
      ]
     },
     "execution_count": 23,
     "metadata": {},
     "output_type": "execute_result"
    }
   ],
   "source": [
    "df.columns"
   ]
  },
  {
   "cell_type": "code",
   "execution_count": 24,
   "metadata": {},
   "outputs": [],
   "source": [
    "train_df = df[df['split'] == 'train'].drop(columns=['split'])\n",
    "\n",
    "test_df = df[df['split'] == 'test'].drop(columns=['split'])\n",
    "\n",
    "val_df = df[df['split'] == 'validation'].drop(columns=['split'])"
   ]
  },
  {
   "cell_type": "code",
   "execution_count": 25,
   "metadata": {},
   "outputs": [
    {
     "data": {
      "text/plain": [
       "((240942, 7), (60794, 7), (36003, 7))"
      ]
     },
     "execution_count": 25,
     "metadata": {},
     "output_type": "execute_result"
    }
   ],
   "source": [
    "train_df.shape, test_df.shape, val_df.shape"
   ]
  },
  {
   "cell_type": "code",
   "execution_count": 26,
   "metadata": {},
   "outputs": [
    {
     "name": "stderr",
     "output_type": "stream",
     "text": [
      "Map: 100%|██████████| 240942/240942 [02:29<00:00, 1616.33 examples/s]\n",
      "Map: 100%|██████████| 36003/36003 [00:22<00:00, 1598.12 examples/s]\n",
      "Map: 100%|██████████| 60794/60794 [00:38<00:00, 1596.06 examples/s]\n"
     ]
    }
   ],
   "source": [
    "\n",
    "def tokenize_and_format(examples):\n",
    "    # Tokenize the texts\n",
    "    tokenized_inputs = tokenizer(examples['text'], padding=\"max_length\", truncation=True, max_length=max_length)\n",
    "    tokenized_inputs['label'] = list(map(int, examples['target']))\n",
    "    return tokenized_inputs\n",
    "\n",
    "\n",
    "\n",
    "\n",
    "\n",
    "# %%\n",
    "# Convert pandas DataFrame to Hugging Face's Dataset\n",
    "train_dataset = Dataset.from_pandas(train_df)\n",
    "eval_dataset = Dataset.from_pandas(val_df) \n",
    "test_dataset = Dataset.from_pandas(test_df)\n",
    "\n",
    "# Map the tokenization function across the datasets\n",
    "train_dataset = train_dataset.map(tokenize_and_format, batched=True,batch_size=16)\n",
    "eval_dataset = eval_dataset.map(tokenize_and_format, batched=True,batch_size=16) \n",
    "test_dataset = test_dataset.map(tokenize_and_format, batched=True,batch_size=16)\n",
    "\n",
    "\n",
    "# %%\n",
    " \n",
    "\n",
    "# %%\n",
    "from sklearn.metrics import f1_score, precision_score, recall_score\n",
    "\n",
    "def compute_metrics(pred):\n",
    "    labels = pred.label_ids\n",
    "    preds = pred.predictions.argmax(-1)\n",
    "    f1 = f1_score(labels, preds, average='weighted')\n",
    "    precision = precision_score(labels, preds, average='weighted')\n",
    "    recall = recall_score(labels, preds, average='weighted')\n",
    "    return {\n",
    "        'eval_f1': f1,\n",
    "        'eval_precision': precision,\n",
    "        'eval_recall': recall,\n",
    "    }\n",
    "\n"
   ]
  },
  {
   "cell_type": "code",
   "execution_count": 27,
   "metadata": {},
   "outputs": [],
   "source": [
    "test_df = test_df.reset_index(drop=True)"
   ]
  },
  {
   "cell_type": "code",
   "execution_count": 28,
   "metadata": {},
   "outputs": [
    {
     "data": {
      "text/html": [
       "<div>\n",
       "<style scoped>\n",
       "    .dataframe tbody tr th:only-of-type {\n",
       "        vertical-align: middle;\n",
       "    }\n",
       "\n",
       "    .dataframe tbody tr th {\n",
       "        vertical-align: top;\n",
       "    }\n",
       "\n",
       "    .dataframe thead th {\n",
       "        text-align: right;\n",
       "    }\n",
       "</style>\n",
       "<table border=\"1\" class=\"dataframe\">\n",
       "  <thead>\n",
       "    <tr style=\"text-align: right;\">\n",
       "      <th></th>\n",
       "      <th>text</th>\n",
       "      <th>l1</th>\n",
       "      <th>l2</th>\n",
       "      <th>l3</th>\n",
       "      <th>split</th>\n",
       "      <th>label</th>\n",
       "      <th>target</th>\n",
       "      <th>token_length</th>\n",
       "    </tr>\n",
       "  </thead>\n",
       "  <tbody>\n",
       "    <tr>\n",
       "      <th>0</th>\n",
       "      <td>William Alexander Massey (October 7, 1856 – Ma...</td>\n",
       "      <td>Agent</td>\n",
       "      <td>Politician</td>\n",
       "      <td>Senator</td>\n",
       "      <td>train</td>\n",
       "      <td>Senator</td>\n",
       "      <td>185</td>\n",
       "      <td>251</td>\n",
       "    </tr>\n",
       "    <tr>\n",
       "      <th>1</th>\n",
       "      <td>Lions is the sixth studio album by American ro...</td>\n",
       "      <td>Work</td>\n",
       "      <td>MusicalWork</td>\n",
       "      <td>Album</td>\n",
       "      <td>train</td>\n",
       "      <td>Album</td>\n",
       "      <td>4</td>\n",
       "      <td>204</td>\n",
       "    </tr>\n",
       "    <tr>\n",
       "      <th>2</th>\n",
       "      <td>Pirqa (Aymara and Quechua for wall, hispaniciz...</td>\n",
       "      <td>Place</td>\n",
       "      <td>NaturalPlace</td>\n",
       "      <td>Mountain</td>\n",
       "      <td>train</td>\n",
       "      <td>Mountain</td>\n",
       "      <td>132</td>\n",
       "      <td>56</td>\n",
       "    </tr>\n",
       "    <tr>\n",
       "      <th>3</th>\n",
       "      <td>Cancer Prevention Research is a biweekly peer-...</td>\n",
       "      <td>Work</td>\n",
       "      <td>PeriodicalLiterature</td>\n",
       "      <td>AcademicJournal</td>\n",
       "      <td>train</td>\n",
       "      <td>AcademicJournal</td>\n",
       "      <td>0</td>\n",
       "      <td>52</td>\n",
       "    </tr>\n",
       "    <tr>\n",
       "      <th>4</th>\n",
       "      <td>The Princeton University Chapel is located on ...</td>\n",
       "      <td>Place</td>\n",
       "      <td>Building</td>\n",
       "      <td>HistoricBuilding</td>\n",
       "      <td>train</td>\n",
       "      <td>HistoricBuilding</td>\n",
       "      <td>98</td>\n",
       "      <td>252</td>\n",
       "    </tr>\n",
       "    <tr>\n",
       "      <th>...</th>\n",
       "      <td>...</td>\n",
       "      <td>...</td>\n",
       "      <td>...</td>\n",
       "      <td>...</td>\n",
       "      <td>...</td>\n",
       "      <td>...</td>\n",
       "      <td>...</td>\n",
       "      <td>...</td>\n",
       "    </tr>\n",
       "    <tr>\n",
       "      <th>337734</th>\n",
       "      <td>The Great Pershing Balloon Derby is a hot air ...</td>\n",
       "      <td>Event</td>\n",
       "      <td>SocietalEvent</td>\n",
       "      <td>Convention</td>\n",
       "      <td>validation</td>\n",
       "      <td>Convention</td>\n",
       "      <td>56</td>\n",
       "      <td>90</td>\n",
       "    </tr>\n",
       "    <tr>\n",
       "      <th>337735</th>\n",
       "      <td>Microsystems was a personal computing magazine...</td>\n",
       "      <td>Work</td>\n",
       "      <td>PeriodicalLiterature</td>\n",
       "      <td>Magazine</td>\n",
       "      <td>validation</td>\n",
       "      <td>Magazine</td>\n",
       "      <td>118</td>\n",
       "      <td>118</td>\n",
       "    </tr>\n",
       "    <tr>\n",
       "      <th>337736</th>\n",
       "      <td>The 1899 Open Championship was the 39th Open C...</td>\n",
       "      <td>Event</td>\n",
       "      <td>Tournament</td>\n",
       "      <td>GolfTournament</td>\n",
       "      <td>validation</td>\n",
       "      <td>GolfTournament</td>\n",
       "      <td>89</td>\n",
       "      <td>411</td>\n",
       "    </tr>\n",
       "    <tr>\n",
       "      <th>337737</th>\n",
       "      <td>Kristina Repelewska (born 7 January 1981) is a...</td>\n",
       "      <td>Agent</td>\n",
       "      <td>Athlete</td>\n",
       "      <td>HandballPlayer</td>\n",
       "      <td>validation</td>\n",
       "      <td>HandballPlayer</td>\n",
       "      <td>95</td>\n",
       "      <td>37</td>\n",
       "    </tr>\n",
       "    <tr>\n",
       "      <th>337738</th>\n",
       "      <td>Lamhara is a small town and rural commune in T...</td>\n",
       "      <td>Place</td>\n",
       "      <td>Settlement</td>\n",
       "      <td>Town</td>\n",
       "      <td>validation</td>\n",
       "      <td>Town</td>\n",
       "      <td>209</td>\n",
       "      <td>37</td>\n",
       "    </tr>\n",
       "  </tbody>\n",
       "</table>\n",
       "<p>337739 rows × 8 columns</p>\n",
       "</div>"
      ],
      "text/plain": [
       "                                                     text     l1  \\\n",
       "0       William Alexander Massey (October 7, 1856 – Ma...  Agent   \n",
       "1       Lions is the sixth studio album by American ro...   Work   \n",
       "2       Pirqa (Aymara and Quechua for wall, hispaniciz...  Place   \n",
       "3       Cancer Prevention Research is a biweekly peer-...   Work   \n",
       "4       The Princeton University Chapel is located on ...  Place   \n",
       "...                                                   ...    ...   \n",
       "337734  The Great Pershing Balloon Derby is a hot air ...  Event   \n",
       "337735  Microsystems was a personal computing magazine...   Work   \n",
       "337736  The 1899 Open Championship was the 39th Open C...  Event   \n",
       "337737  Kristina Repelewska (born 7 January 1981) is a...  Agent   \n",
       "337738  Lamhara is a small town and rural commune in T...  Place   \n",
       "\n",
       "                          l2                l3       split             label  \\\n",
       "0                 Politician           Senator       train           Senator   \n",
       "1                MusicalWork             Album       train             Album   \n",
       "2               NaturalPlace          Mountain       train          Mountain   \n",
       "3       PeriodicalLiterature   AcademicJournal       train   AcademicJournal   \n",
       "4                   Building  HistoricBuilding       train  HistoricBuilding   \n",
       "...                      ...               ...         ...               ...   \n",
       "337734         SocietalEvent        Convention  validation        Convention   \n",
       "337735  PeriodicalLiterature          Magazine  validation          Magazine   \n",
       "337736            Tournament    GolfTournament  validation    GolfTournament   \n",
       "337737               Athlete    HandballPlayer  validation    HandballPlayer   \n",
       "337738            Settlement              Town  validation              Town   \n",
       "\n",
       "        target  token_length  \n",
       "0          185           251  \n",
       "1            4           204  \n",
       "2          132            56  \n",
       "3            0            52  \n",
       "4           98           252  \n",
       "...        ...           ...  \n",
       "337734      56            90  \n",
       "337735     118           118  \n",
       "337736      89           411  \n",
       "337737      95            37  \n",
       "337738     209            37  \n",
       "\n",
       "[337739 rows x 8 columns]"
      ]
     },
     "execution_count": 28,
     "metadata": {},
     "output_type": "execute_result"
    }
   ],
   "source": [
    "df"
   ]
  },
  {
   "cell_type": "code",
   "execution_count": 29,
   "metadata": {},
   "outputs": [],
   "source": [
    " \n",
    "# import pandas as pd\n",
    "# import numpy as np\n",
    "# import submodlib\n",
    "# from datasets import Dataset \n",
    "\n",
    "\n",
    "# def select_representative_samples(tokenized_data, num_samples_per_class):\n",
    "#     selected_indices = []\n",
    "     \n",
    "#     for class_label in set(tokenized_data['label']):\n",
    "#         print(f\"Processing class: {class_label}\")\n",
    "#         class_indices = [i for i, label in enumerate(tokenized_data['label']) if label == class_label]\n",
    "#         X_class = np.array(tokenized_data['input_ids'])[class_indices]\n",
    " \n",
    "#         similarity_kernel = np.dot(X_class, X_class.T)\n",
    " \n",
    "#         facility_location_function = submodlib.FacilityLocationFunction(n=len(X_class), mode=\"dense\", sijs=similarity_kernel)\n",
    "\n",
    "         \n",
    "#         selected = facility_location_function.maximize(budget=num_samples_per_class, optimizer='NaiveGreedy')\n",
    " \n",
    "#         selected_indices.extend([class_indices[i] for i in selected])\n",
    "\n",
    "#     return selected_indices\n",
    " \n",
    " \n",
    "# num_samples_per_class = 1000 // len(set(test_dataset['label']))   \n",
    "# selected_indices = select_representative_samples(test_dataset, num_samples_per_class)\n",
    "\n",
    " \n",
    "# test_dataset_subset = test_dataset.select(selected_indices)\n",
    "\n",
    "# print(test_dataset_subset)\n"
   ]
  },
  {
   "cell_type": "code",
   "execution_count": 30,
   "metadata": {},
   "outputs": [
    {
     "name": "stdout",
     "output_type": "stream",
     "text": [
      "Data Preparation:\n",
      "\n",
      "The text data is first extracted and then transformed into numerical features using TF-IDF vectorization. This process converts the text into a matrix of features where each feature represents the importance of a word in the document relative to the entire corpus.\n",
      "Clustering for Representative Sample Selection:\n",
      "\n",
      "The goal is to select a representative subset of samples for each class. To achieve this, the data is first clustered using the K-Means algorithm, which groups the data into a specified number of clusters.\n",
      "Selecting Closest Points to Cluster Centroids:\n",
      "\n",
      "For each cluster, the data points closest to the centroid (center) of the cluster are identified. These points are considered the most representative samples of the data within that cluster.\n"
     ]
    }
   ],
   "source": [
    "print(\"\"\"Data Preparation:\n",
    "\n",
    "The text data is first extracted and then transformed into numerical features using TF-IDF vectorization. This process converts the text into a matrix of features where each feature represents the importance of a word in the document relative to the entire corpus.\n",
    "Clustering for Representative Sample Selection:\n",
    "\n",
    "The goal is to select a representative subset of samples for each class. To achieve this, the data is first clustered using the K-Means algorithm, which groups the data into a specified number of clusters.\n",
    "Selecting Closest Points to Cluster Centroids:\n",
    "\n",
    "For each cluster, the data points closest to the centroid (center) of the cluster are identified. These points are considered the most representative samples of the data within that cluster.\"\"\")"
   ]
  },
  {
   "cell_type": "markdown",
   "metadata": {},
   "source": [
    "submodelib fro each class"
   ]
  },
  {
   "cell_type": "code",
   "execution_count": 31,
   "metadata": {},
   "outputs": [
    {
     "name": "stderr",
     "output_type": "stream",
     "text": [
      "/home/bhairavi/om/lib/python3.10/site-packages/numba/np/ufunc/parallel.py:371: NumbaWarning: \u001b[1mThe TBB threading layer requires TBB version 2021 update 6 or later i.e., TBB_INTERFACE_VERSION >= 12060. Found TBB_INTERFACE_VERSION = 12050. The TBB threading layer is disabled.\u001b[0m\n",
      "  warnings.warn(problem)\n"
     ]
    },
    {
     "name": "stdout",
     "output_type": "stream",
     "text": [
      "Processing class: 0\n"
     ]
    },
    {
     "name": "stderr",
     "output_type": "stream",
     "text": [
      "100%|██████████| 4.00/4.00 [00:00<00:00, 680it/s]\n"
     ]
    },
    {
     "name": "stdout",
     "output_type": "stream",
     "text": [
      "Processing class: 1\n"
     ]
    },
    {
     "name": "stderr",
     "output_type": "stream",
     "text": [
      "100%|██████████| 4.00/4.00 [00:00<00:00, 1.32kit/s]\n"
     ]
    },
    {
     "name": "stdout",
     "output_type": "stream",
     "text": [
      "Processing class: 2\n"
     ]
    },
    {
     "name": "stderr",
     "output_type": "stream",
     "text": [
      "100%|██████████| 4.00/4.00 [00:00<00:00, 677it/s]\n"
     ]
    },
    {
     "name": "stdout",
     "output_type": "stream",
     "text": [
      "Processing class: 3\n"
     ]
    },
    {
     "name": "stderr",
     "output_type": "stream",
     "text": [
      "100%|██████████| 4.00/4.00 [00:00<00:00, 716it/s]\n"
     ]
    },
    {
     "name": "stdout",
     "output_type": "stream",
     "text": [
      "Processing class: 4\n"
     ]
    },
    {
     "name": "stderr",
     "output_type": "stream",
     "text": [
      "100%|██████████| 4.00/4.00 [00:00<00:00, 727it/s]\n"
     ]
    },
    {
     "name": "stdout",
     "output_type": "stream",
     "text": [
      "Processing class: 5\n"
     ]
    },
    {
     "name": "stderr",
     "output_type": "stream",
     "text": [
      "100%|██████████| 4.00/4.00 [00:00<00:00, 3.46kit/s]\n"
     ]
    },
    {
     "name": "stdout",
     "output_type": "stream",
     "text": [
      "Processing class: 6\n"
     ]
    },
    {
     "name": "stderr",
     "output_type": "stream",
     "text": [
      "100%|██████████| 4.00/4.00 [00:00<00:00, 2.94kit/s]\n"
     ]
    },
    {
     "name": "stdout",
     "output_type": "stream",
     "text": [
      "Processing class: 7\n"
     ]
    },
    {
     "name": "stderr",
     "output_type": "stream",
     "text": [
      "100%|██████████| 4.00/4.00 [00:00<00:00, 683it/s]\n"
     ]
    },
    {
     "name": "stdout",
     "output_type": "stream",
     "text": [
      "Processing class: 8\n"
     ]
    },
    {
     "name": "stderr",
     "output_type": "stream",
     "text": [
      "100%|██████████| 4.00/4.00 [00:00<00:00, 672it/s]\n"
     ]
    },
    {
     "name": "stdout",
     "output_type": "stream",
     "text": [
      "Processing class: 9\n"
     ]
    },
    {
     "name": "stderr",
     "output_type": "stream",
     "text": [
      "100%|██████████| 4.00/4.00 [00:00<00:00, 5.08kit/s]\n"
     ]
    },
    {
     "name": "stdout",
     "output_type": "stream",
     "text": [
      "Processing class: 10\n"
     ]
    },
    {
     "name": "stderr",
     "output_type": "stream",
     "text": [
      "100%|██████████| 4.00/4.00 [00:00<00:00, 1.43kit/s]\n"
     ]
    },
    {
     "name": "stdout",
     "output_type": "stream",
     "text": [
      "Processing class: 11\n"
     ]
    },
    {
     "name": "stderr",
     "output_type": "stream",
     "text": [
      "100%|██████████| 4.00/4.00 [00:00<00:00, 876it/s]\n"
     ]
    },
    {
     "name": "stdout",
     "output_type": "stream",
     "text": [
      "Processing class: 12\n"
     ]
    },
    {
     "name": "stderr",
     "output_type": "stream",
     "text": [
      "100%|██████████| 4.00/4.00 [00:00<00:00, 754it/s]\n"
     ]
    },
    {
     "name": "stdout",
     "output_type": "stream",
     "text": [
      "Processing class: 13\n"
     ]
    },
    {
     "name": "stderr",
     "output_type": "stream",
     "text": [
      "100%|██████████| 4.00/4.00 [00:00<00:00, 861it/s]\n"
     ]
    },
    {
     "name": "stdout",
     "output_type": "stream",
     "text": [
      "Processing class: 14\n"
     ]
    },
    {
     "name": "stderr",
     "output_type": "stream",
     "text": [
      "100%|██████████| 4.00/4.00 [00:00<00:00, 535it/s]\n"
     ]
    },
    {
     "name": "stdout",
     "output_type": "stream",
     "text": [
      "Processing class: 15\n"
     ]
    },
    {
     "name": "stderr",
     "output_type": "stream",
     "text": [
      "100%|██████████| 4.00/4.00 [00:00<00:00, 2.87kit/s]\n"
     ]
    },
    {
     "name": "stdout",
     "output_type": "stream",
     "text": [
      "Processing class: 16\n"
     ]
    },
    {
     "name": "stderr",
     "output_type": "stream",
     "text": [
      "100%|██████████| 4.00/4.00 [00:00<00:00, 3.44kit/s]\n"
     ]
    },
    {
     "name": "stdout",
     "output_type": "stream",
     "text": [
      "Processing class: 17\n"
     ]
    },
    {
     "name": "stderr",
     "output_type": "stream",
     "text": [
      "100%|██████████| 4.00/4.00 [00:00<00:00, 707it/s]\n"
     ]
    },
    {
     "name": "stdout",
     "output_type": "stream",
     "text": [
      "Processing class: 18\n"
     ]
    },
    {
     "name": "stderr",
     "output_type": "stream",
     "text": [
      "100%|██████████| 4.00/4.00 [00:00<00:00, 3.83kit/s]\n"
     ]
    },
    {
     "name": "stdout",
     "output_type": "stream",
     "text": [
      "Processing class: 19\n"
     ]
    },
    {
     "name": "stderr",
     "output_type": "stream",
     "text": [
      "100%|██████████| 4.00/4.00 [00:00<00:00, 1.46kit/s]\n"
     ]
    },
    {
     "name": "stdout",
     "output_type": "stream",
     "text": [
      "Processing class: 20\n"
     ]
    },
    {
     "name": "stderr",
     "output_type": "stream",
     "text": [
      "100%|██████████| 4.00/4.00 [00:00<00:00, 723it/s]\n"
     ]
    },
    {
     "name": "stdout",
     "output_type": "stream",
     "text": [
      "Processing class: 21\n"
     ]
    },
    {
     "name": "stderr",
     "output_type": "stream",
     "text": [
      "100%|██████████| 4.00/4.00 [00:00<00:00, 590it/s]\n"
     ]
    },
    {
     "name": "stdout",
     "output_type": "stream",
     "text": [
      "Processing class: 22\n"
     ]
    },
    {
     "name": "stderr",
     "output_type": "stream",
     "text": [
      "100%|██████████| 4.00/4.00 [00:00<00:00, 2.48kit/s]\n"
     ]
    },
    {
     "name": "stdout",
     "output_type": "stream",
     "text": [
      "Processing class: 23\n"
     ]
    },
    {
     "name": "stderr",
     "output_type": "stream",
     "text": [
      "100%|██████████| 4.00/4.00 [00:00<00:00, 4.53kit/s]\n"
     ]
    },
    {
     "name": "stdout",
     "output_type": "stream",
     "text": [
      "Processing class: 24\n"
     ]
    },
    {
     "name": "stderr",
     "output_type": "stream",
     "text": [
      "100%|██████████| 4.00/4.00 [00:00<00:00, 701it/s]\n"
     ]
    },
    {
     "name": "stdout",
     "output_type": "stream",
     "text": [
      "Processing class: 25\n"
     ]
    },
    {
     "name": "stderr",
     "output_type": "stream",
     "text": [
      "100%|██████████| 4.00/4.00 [00:00<00:00, 5.38kit/s]\n"
     ]
    },
    {
     "name": "stdout",
     "output_type": "stream",
     "text": [
      "Processing class: 26\n"
     ]
    },
    {
     "name": "stderr",
     "output_type": "stream",
     "text": [
      "100%|██████████| 4.00/4.00 [00:00<00:00, 3.17kit/s]\n"
     ]
    },
    {
     "name": "stdout",
     "output_type": "stream",
     "text": [
      "Processing class: 27\n"
     ]
    },
    {
     "name": "stderr",
     "output_type": "stream",
     "text": [
      "100%|██████████| 4.00/4.00 [00:00<00:00, 625it/s]\n"
     ]
    },
    {
     "name": "stdout",
     "output_type": "stream",
     "text": [
      "Processing class: 28\n"
     ]
    },
    {
     "name": "stderr",
     "output_type": "stream",
     "text": [
      "100%|██████████| 4.00/4.00 [00:00<00:00, 1.17kit/s]\n"
     ]
    },
    {
     "name": "stdout",
     "output_type": "stream",
     "text": [
      "Processing class: 29\n"
     ]
    },
    {
     "name": "stderr",
     "output_type": "stream",
     "text": [
      "100%|██████████| 4.00/4.00 [00:00<00:00, 5.71kit/s]\n"
     ]
    },
    {
     "name": "stdout",
     "output_type": "stream",
     "text": [
      "Processing class: 30\n"
     ]
    },
    {
     "name": "stderr",
     "output_type": "stream",
     "text": [
      "100%|██████████| 4.00/4.00 [00:00<00:00, 809it/s]\n"
     ]
    },
    {
     "name": "stdout",
     "output_type": "stream",
     "text": [
      "Processing class: 31\n"
     ]
    },
    {
     "name": "stderr",
     "output_type": "stream",
     "text": [
      "100%|██████████| 4.00/4.00 [00:00<00:00, 5.20kit/s]\n"
     ]
    },
    {
     "name": "stdout",
     "output_type": "stream",
     "text": [
      "Processing class: 32\n"
     ]
    },
    {
     "name": "stderr",
     "output_type": "stream",
     "text": [
      "100%|██████████| 4.00/4.00 [00:00<00:00, 699it/s]\n"
     ]
    },
    {
     "name": "stdout",
     "output_type": "stream",
     "text": [
      "Processing class: 33\n"
     ]
    },
    {
     "name": "stderr",
     "output_type": "stream",
     "text": [
      "100%|██████████| 4.00/4.00 [00:00<00:00, 5.21kit/s]\n"
     ]
    },
    {
     "name": "stdout",
     "output_type": "stream",
     "text": [
      "Processing class: 34\n"
     ]
    },
    {
     "name": "stderr",
     "output_type": "stream",
     "text": [
      "100%|██████████| 4.00/4.00 [00:00<00:00, 5.03kit/s]\n"
     ]
    },
    {
     "name": "stdout",
     "output_type": "stream",
     "text": [
      "Processing class: 35\n"
     ]
    },
    {
     "name": "stderr",
     "output_type": "stream",
     "text": [
      "100%|██████████| 4.00/4.00 [00:00<00:00, 678it/s]\n"
     ]
    },
    {
     "name": "stdout",
     "output_type": "stream",
     "text": [
      "Processing class: 36\n"
     ]
    },
    {
     "name": "stderr",
     "output_type": "stream",
     "text": [
      "100%|██████████| 4.00/4.00 [00:00<00:00, 1.61kit/s]\n"
     ]
    },
    {
     "name": "stdout",
     "output_type": "stream",
     "text": [
      "Processing class: 37\n"
     ]
    },
    {
     "name": "stderr",
     "output_type": "stream",
     "text": [
      "100%|██████████| 4.00/4.00 [00:00<00:00, 1.44kit/s]\n"
     ]
    },
    {
     "name": "stdout",
     "output_type": "stream",
     "text": [
      "Processing class: 38\n"
     ]
    },
    {
     "name": "stderr",
     "output_type": "stream",
     "text": [
      "100%|██████████| 4.00/4.00 [00:00<00:00, 2.57kit/s]\n"
     ]
    },
    {
     "name": "stdout",
     "output_type": "stream",
     "text": [
      "Processing class: 39\n"
     ]
    },
    {
     "name": "stderr",
     "output_type": "stream",
     "text": [
      "100%|██████████| 4.00/4.00 [00:00<00:00, 5.79kit/s]\n"
     ]
    },
    {
     "name": "stdout",
     "output_type": "stream",
     "text": [
      "Processing class: 40\n"
     ]
    },
    {
     "name": "stderr",
     "output_type": "stream",
     "text": [
      "100%|██████████| 4.00/4.00 [00:00<00:00, 3.89kit/s]\n"
     ]
    },
    {
     "name": "stdout",
     "output_type": "stream",
     "text": [
      "Processing class: 41\n"
     ]
    },
    {
     "name": "stderr",
     "output_type": "stream",
     "text": [
      "100%|██████████| 4.00/4.00 [00:00<00:00, 3.14kit/s]\n"
     ]
    },
    {
     "name": "stdout",
     "output_type": "stream",
     "text": [
      "Processing class: 42\n"
     ]
    },
    {
     "name": "stderr",
     "output_type": "stream",
     "text": [
      "100%|██████████| 4.00/4.00 [00:00<00:00, 2.49kit/s]\n"
     ]
    },
    {
     "name": "stdout",
     "output_type": "stream",
     "text": [
      "Processing class: 43\n"
     ]
    },
    {
     "name": "stderr",
     "output_type": "stream",
     "text": [
      "100%|██████████| 4.00/4.00 [00:00<00:00, 1.57kit/s]\n"
     ]
    },
    {
     "name": "stdout",
     "output_type": "stream",
     "text": [
      "Processing class: 44\n"
     ]
    },
    {
     "name": "stderr",
     "output_type": "stream",
     "text": [
      "100%|██████████| 4.00/4.00 [00:00<00:00, 3.37kit/s]\n"
     ]
    },
    {
     "name": "stdout",
     "output_type": "stream",
     "text": [
      "Processing class: 45\n"
     ]
    },
    {
     "name": "stderr",
     "output_type": "stream",
     "text": [
      "100%|██████████| 4.00/4.00 [00:00<00:00, 3.12kit/s]\n"
     ]
    },
    {
     "name": "stdout",
     "output_type": "stream",
     "text": [
      "Processing class: 46\n"
     ]
    },
    {
     "name": "stderr",
     "output_type": "stream",
     "text": [
      "100%|██████████| 4.00/4.00 [00:00<00:00, 1.35kit/s]\n"
     ]
    },
    {
     "name": "stdout",
     "output_type": "stream",
     "text": [
      "Processing class: 47\n"
     ]
    },
    {
     "name": "stderr",
     "output_type": "stream",
     "text": [
      "100%|██████████| 4.00/4.00 [00:00<00:00, 722it/s]\n"
     ]
    },
    {
     "name": "stdout",
     "output_type": "stream",
     "text": [
      "Processing class: 48\n"
     ]
    },
    {
     "name": "stderr",
     "output_type": "stream",
     "text": [
      "100%|██████████| 4.00/4.00 [00:00<00:00, 4.77kit/s]\n"
     ]
    },
    {
     "name": "stdout",
     "output_type": "stream",
     "text": [
      "Processing class: 49\n"
     ]
    },
    {
     "name": "stderr",
     "output_type": "stream",
     "text": [
      "100%|██████████| 4.00/4.00 [00:00<00:00, 2.78kit/s]\n"
     ]
    },
    {
     "name": "stdout",
     "output_type": "stream",
     "text": [
      "Processing class: 50\n"
     ]
    },
    {
     "name": "stderr",
     "output_type": "stream",
     "text": [
      "100%|██████████| 4.00/4.00 [00:00<00:00, 717it/s]\n"
     ]
    },
    {
     "name": "stdout",
     "output_type": "stream",
     "text": [
      "Processing class: 51\n"
     ]
    },
    {
     "name": "stderr",
     "output_type": "stream",
     "text": [
      "100%|██████████| 4.00/4.00 [00:00<00:00, 1.61kit/s]\n"
     ]
    },
    {
     "name": "stdout",
     "output_type": "stream",
     "text": [
      "Processing class: 52\n"
     ]
    },
    {
     "name": "stderr",
     "output_type": "stream",
     "text": [
      "100%|██████████| 4.00/4.00 [00:00<00:00, 4.18kit/s]\n"
     ]
    },
    {
     "name": "stdout",
     "output_type": "stream",
     "text": [
      "Processing class: 53\n"
     ]
    },
    {
     "name": "stderr",
     "output_type": "stream",
     "text": [
      "100%|██████████| 4.00/4.00 [00:00<00:00, 761it/s]\n"
     ]
    },
    {
     "name": "stdout",
     "output_type": "stream",
     "text": [
      "Processing class: 54\n"
     ]
    },
    {
     "name": "stderr",
     "output_type": "stream",
     "text": [
      "100%|██████████| 4.00/4.00 [00:00<00:00, 639it/s]\n"
     ]
    },
    {
     "name": "stdout",
     "output_type": "stream",
     "text": [
      "Processing class: 55\n"
     ]
    },
    {
     "name": "stderr",
     "output_type": "stream",
     "text": [
      "100%|██████████| 4.00/4.00 [00:00<00:00, 2.51kit/s]\n"
     ]
    },
    {
     "name": "stdout",
     "output_type": "stream",
     "text": [
      "Processing class: 56\n"
     ]
    },
    {
     "name": "stderr",
     "output_type": "stream",
     "text": [
      "100%|██████████| 4.00/4.00 [00:00<00:00, 941it/s]\n"
     ]
    },
    {
     "name": "stdout",
     "output_type": "stream",
     "text": [
      "Processing class: 57\n"
     ]
    },
    {
     "name": "stderr",
     "output_type": "stream",
     "text": [
      "100%|██████████| 4.00/4.00 [00:00<00:00, 5.36kit/s]\n"
     ]
    },
    {
     "name": "stdout",
     "output_type": "stream",
     "text": [
      "Processing class: 58\n"
     ]
    },
    {
     "name": "stderr",
     "output_type": "stream",
     "text": [
      "100%|██████████| 4.00/4.00 [00:00<00:00, 2.64kit/s]\n"
     ]
    },
    {
     "name": "stdout",
     "output_type": "stream",
     "text": [
      "Processing class: 59\n"
     ]
    },
    {
     "name": "stderr",
     "output_type": "stream",
     "text": [
      "100%|██████████| 4.00/4.00 [00:00<00:00, 755it/s]\n"
     ]
    },
    {
     "name": "stdout",
     "output_type": "stream",
     "text": [
      "Processing class: 60\n"
     ]
    },
    {
     "name": "stderr",
     "output_type": "stream",
     "text": [
      "100%|██████████| 4.00/4.00 [00:00<00:00, 782it/s]\n"
     ]
    },
    {
     "name": "stdout",
     "output_type": "stream",
     "text": [
      "Processing class: 61\n"
     ]
    },
    {
     "name": "stderr",
     "output_type": "stream",
     "text": [
      "100%|██████████| 4.00/4.00 [00:00<00:00, 1.03kit/s]\n"
     ]
    },
    {
     "name": "stdout",
     "output_type": "stream",
     "text": [
      "Processing class: 62\n"
     ]
    },
    {
     "name": "stderr",
     "output_type": "stream",
     "text": [
      "100%|██████████| 4.00/4.00 [00:00<00:00, 2.44kit/s]\n"
     ]
    },
    {
     "name": "stdout",
     "output_type": "stream",
     "text": [
      "Processing class: 63\n"
     ]
    },
    {
     "name": "stderr",
     "output_type": "stream",
     "text": [
      "100%|██████████| 4.00/4.00 [00:00<00:00, 5.66kit/s]\n"
     ]
    },
    {
     "name": "stdout",
     "output_type": "stream",
     "text": [
      "Processing class: 64\n"
     ]
    },
    {
     "name": "stderr",
     "output_type": "stream",
     "text": [
      "100%|██████████| 4.00/4.00 [00:00<00:00, 2.18kit/s]\n"
     ]
    },
    {
     "name": "stdout",
     "output_type": "stream",
     "text": [
      "Processing class: 65\n"
     ]
    },
    {
     "name": "stderr",
     "output_type": "stream",
     "text": [
      "100%|██████████| 4.00/4.00 [00:00<00:00, 3.64kit/s]\n"
     ]
    },
    {
     "name": "stdout",
     "output_type": "stream",
     "text": [
      "Processing class: 66\n"
     ]
    },
    {
     "name": "stderr",
     "output_type": "stream",
     "text": [
      "100%|██████████| 4.00/4.00 [00:00<00:00, 601it/s]\n"
     ]
    },
    {
     "name": "stdout",
     "output_type": "stream",
     "text": [
      "Processing class: 67\n"
     ]
    },
    {
     "name": "stderr",
     "output_type": "stream",
     "text": [
      "100%|██████████| 4.00/4.00 [00:00<00:00, 704it/s]\n"
     ]
    },
    {
     "name": "stdout",
     "output_type": "stream",
     "text": [
      "Processing class: 68\n"
     ]
    },
    {
     "name": "stderr",
     "output_type": "stream",
     "text": [
      "100%|██████████| 4.00/4.00 [00:00<00:00, 3.28kit/s]\n"
     ]
    },
    {
     "name": "stdout",
     "output_type": "stream",
     "text": [
      "Processing class: 69\n"
     ]
    },
    {
     "name": "stderr",
     "output_type": "stream",
     "text": [
      "100%|██████████| 4.00/4.00 [00:00<00:00, 705it/s]\n"
     ]
    },
    {
     "name": "stdout",
     "output_type": "stream",
     "text": [
      "Processing class: 70\n"
     ]
    },
    {
     "name": "stderr",
     "output_type": "stream",
     "text": [
      "100%|██████████| 4.00/4.00 [00:00<00:00, 2.35kit/s]\n"
     ]
    },
    {
     "name": "stdout",
     "output_type": "stream",
     "text": [
      "Processing class: 71\n"
     ]
    },
    {
     "name": "stderr",
     "output_type": "stream",
     "text": [
      "100%|██████████| 4.00/4.00 [00:00<00:00, 1.76kit/s]\n"
     ]
    },
    {
     "name": "stdout",
     "output_type": "stream",
     "text": [
      "Processing class: 72\n"
     ]
    },
    {
     "name": "stderr",
     "output_type": "stream",
     "text": [
      "100%|██████████| 4.00/4.00 [00:00<00:00, 737it/s]\n"
     ]
    },
    {
     "name": "stdout",
     "output_type": "stream",
     "text": [
      "Processing class: 73\n"
     ]
    },
    {
     "name": "stderr",
     "output_type": "stream",
     "text": [
      "100%|██████████| 4.00/4.00 [00:00<00:00, 2.45kit/s]\n"
     ]
    },
    {
     "name": "stdout",
     "output_type": "stream",
     "text": [
      "Processing class: 74\n"
     ]
    },
    {
     "name": "stderr",
     "output_type": "stream",
     "text": [
      "100%|██████████| 4.00/4.00 [00:00<00:00, 3.87kit/s]\n"
     ]
    },
    {
     "name": "stdout",
     "output_type": "stream",
     "text": [
      "Processing class: 75\n"
     ]
    },
    {
     "name": "stderr",
     "output_type": "stream",
     "text": [
      "100%|██████████| 4.00/4.00 [00:00<00:00, 1.63kit/s]\n"
     ]
    },
    {
     "name": "stdout",
     "output_type": "stream",
     "text": [
      "Processing class: 76\n"
     ]
    },
    {
     "name": "stderr",
     "output_type": "stream",
     "text": [
      "100%|██████████| 4.00/4.00 [00:00<00:00, 2.60kit/s]\n"
     ]
    },
    {
     "name": "stdout",
     "output_type": "stream",
     "text": [
      "Processing class: 77\n"
     ]
    },
    {
     "name": "stderr",
     "output_type": "stream",
     "text": [
      "100%|██████████| 4.00/4.00 [00:00<00:00, 1.86kit/s]\n"
     ]
    },
    {
     "name": "stdout",
     "output_type": "stream",
     "text": [
      "Processing class: 78\n"
     ]
    },
    {
     "name": "stderr",
     "output_type": "stream",
     "text": [
      "100%|██████████| 4.00/4.00 [00:00<00:00, 622it/s]\n"
     ]
    },
    {
     "name": "stdout",
     "output_type": "stream",
     "text": [
      "Processing class: 79\n"
     ]
    },
    {
     "name": "stderr",
     "output_type": "stream",
     "text": [
      "100%|██████████| 4.00/4.00 [00:00<00:00, 1.80kit/s]\n"
     ]
    },
    {
     "name": "stdout",
     "output_type": "stream",
     "text": [
      "Processing class: 80\n"
     ]
    },
    {
     "name": "stderr",
     "output_type": "stream",
     "text": [
      "100%|██████████| 4.00/4.00 [00:00<00:00, 704it/s]\n"
     ]
    },
    {
     "name": "stdout",
     "output_type": "stream",
     "text": [
      "Processing class: 81\n"
     ]
    },
    {
     "name": "stderr",
     "output_type": "stream",
     "text": [
      "100%|██████████| 4.00/4.00 [00:00<00:00, 691it/s]\n"
     ]
    },
    {
     "name": "stdout",
     "output_type": "stream",
     "text": [
      "Processing class: 82\n"
     ]
    },
    {
     "name": "stderr",
     "output_type": "stream",
     "text": [
      "100%|██████████| 4.00/4.00 [00:00<00:00, 2.53kit/s]\n"
     ]
    },
    {
     "name": "stdout",
     "output_type": "stream",
     "text": [
      "Processing class: 83\n"
     ]
    },
    {
     "name": "stderr",
     "output_type": "stream",
     "text": [
      "100%|██████████| 4.00/4.00 [00:00<00:00, 726it/s]\n"
     ]
    },
    {
     "name": "stdout",
     "output_type": "stream",
     "text": [
      "Processing class: 84\n"
     ]
    },
    {
     "name": "stderr",
     "output_type": "stream",
     "text": [
      "100%|██████████| 4.00/4.00 [00:00<00:00, 684it/s]\n"
     ]
    },
    {
     "name": "stdout",
     "output_type": "stream",
     "text": [
      "Processing class: 85\n"
     ]
    },
    {
     "name": "stderr",
     "output_type": "stream",
     "text": [
      "100%|██████████| 4.00/4.00 [00:00<00:00, 1.94kit/s]\n"
     ]
    },
    {
     "name": "stdout",
     "output_type": "stream",
     "text": [
      "Processing class: 86\n"
     ]
    },
    {
     "name": "stderr",
     "output_type": "stream",
     "text": [
      "100%|██████████| 4.00/4.00 [00:00<00:00, 2.75kit/s]\n"
     ]
    },
    {
     "name": "stdout",
     "output_type": "stream",
     "text": [
      "Processing class: 87\n"
     ]
    },
    {
     "name": "stderr",
     "output_type": "stream",
     "text": [
      "100%|██████████| 4.00/4.00 [00:00<00:00, 4.36kit/s]\n"
     ]
    },
    {
     "name": "stdout",
     "output_type": "stream",
     "text": [
      "Processing class: 88\n"
     ]
    },
    {
     "name": "stderr",
     "output_type": "stream",
     "text": [
      "100%|██████████| 4.00/4.00 [00:00<00:00, 684it/s]\n"
     ]
    },
    {
     "name": "stdout",
     "output_type": "stream",
     "text": [
      "Processing class: 89\n"
     ]
    },
    {
     "name": "stderr",
     "output_type": "stream",
     "text": [
      "100%|██████████| 4.00/4.00 [00:00<00:00, 1.12kit/s]\n"
     ]
    },
    {
     "name": "stdout",
     "output_type": "stream",
     "text": [
      "Processing class: 90\n"
     ]
    },
    {
     "name": "stderr",
     "output_type": "stream",
     "text": [
      "100%|██████████| 4.00/4.00 [00:00<00:00, 760it/s]\n"
     ]
    },
    {
     "name": "stdout",
     "output_type": "stream",
     "text": [
      "Processing class: 91\n"
     ]
    },
    {
     "name": "stderr",
     "output_type": "stream",
     "text": [
      "100%|██████████| 4.00/4.00 [00:00<00:00, 1.55kit/s]\n"
     ]
    },
    {
     "name": "stdout",
     "output_type": "stream",
     "text": [
      "Processing class: 92\n"
     ]
    },
    {
     "name": "stderr",
     "output_type": "stream",
     "text": [
      "100%|██████████| 4.00/4.00 [00:00<00:00, 4.21kit/s]\n"
     ]
    },
    {
     "name": "stdout",
     "output_type": "stream",
     "text": [
      "Processing class: 93\n"
     ]
    },
    {
     "name": "stderr",
     "output_type": "stream",
     "text": [
      "100%|██████████| 4.00/4.00 [00:00<00:00, 4.19kit/s]\n"
     ]
    },
    {
     "name": "stdout",
     "output_type": "stream",
     "text": [
      "Processing class: 94\n"
     ]
    },
    {
     "name": "stderr",
     "output_type": "stream",
     "text": [
      "100%|██████████| 4.00/4.00 [00:00<00:00, 631it/s]\n"
     ]
    },
    {
     "name": "stdout",
     "output_type": "stream",
     "text": [
      "Processing class: 95\n"
     ]
    },
    {
     "name": "stderr",
     "output_type": "stream",
     "text": [
      "100%|██████████| 4.00/4.00 [00:00<00:00, 833it/s]\n"
     ]
    },
    {
     "name": "stdout",
     "output_type": "stream",
     "text": [
      "Processing class: 96\n"
     ]
    },
    {
     "name": "stderr",
     "output_type": "stream",
     "text": [
      "100%|██████████| 4.00/4.00 [00:00<00:00, 3.98kit/s]\n"
     ]
    },
    {
     "name": "stdout",
     "output_type": "stream",
     "text": [
      "Processing class: 97\n"
     ]
    },
    {
     "name": "stderr",
     "output_type": "stream",
     "text": [
      "100%|██████████| 4.00/4.00 [00:00<00:00, 2.69kit/s]\n"
     ]
    },
    {
     "name": "stdout",
     "output_type": "stream",
     "text": [
      "Processing class: 98\n"
     ]
    },
    {
     "name": "stderr",
     "output_type": "stream",
     "text": [
      "100%|██████████| 4.00/4.00 [00:00<00:00, 677it/s]\n"
     ]
    },
    {
     "name": "stdout",
     "output_type": "stream",
     "text": [
      "Processing class: 99\n"
     ]
    },
    {
     "name": "stderr",
     "output_type": "stream",
     "text": [
      "100%|██████████| 4.00/4.00 [00:00<00:00, 833it/s]\n"
     ]
    },
    {
     "name": "stdout",
     "output_type": "stream",
     "text": [
      "Processing class: 100\n"
     ]
    },
    {
     "name": "stderr",
     "output_type": "stream",
     "text": [
      "100%|██████████| 4.00/4.00 [00:00<00:00, 1.24kit/s]\n"
     ]
    },
    {
     "name": "stdout",
     "output_type": "stream",
     "text": [
      "Processing class: 101\n"
     ]
    },
    {
     "name": "stderr",
     "output_type": "stream",
     "text": [
      "100%|██████████| 4.00/4.00 [00:00<00:00, 817it/s]\n"
     ]
    },
    {
     "name": "stdout",
     "output_type": "stream",
     "text": [
      "Processing class: 102\n"
     ]
    },
    {
     "name": "stderr",
     "output_type": "stream",
     "text": [
      "100%|██████████| 4.00/4.00 [00:00<00:00, 2.86kit/s]\n"
     ]
    },
    {
     "name": "stdout",
     "output_type": "stream",
     "text": [
      "Processing class: 103\n"
     ]
    },
    {
     "name": "stderr",
     "output_type": "stream",
     "text": [
      "100%|██████████| 4.00/4.00 [00:00<00:00, 4.90kit/s]\n"
     ]
    },
    {
     "name": "stdout",
     "output_type": "stream",
     "text": [
      "Processing class: 104\n"
     ]
    },
    {
     "name": "stderr",
     "output_type": "stream",
     "text": [
      "100%|██████████| 4.00/4.00 [00:00<00:00, 629it/s]\n"
     ]
    },
    {
     "name": "stdout",
     "output_type": "stream",
     "text": [
      "Processing class: 105\n"
     ]
    },
    {
     "name": "stderr",
     "output_type": "stream",
     "text": [
      "100%|██████████| 4.00/4.00 [00:00<00:00, 1.60kit/s]\n"
     ]
    },
    {
     "name": "stdout",
     "output_type": "stream",
     "text": [
      "Processing class: 106\n"
     ]
    },
    {
     "name": "stderr",
     "output_type": "stream",
     "text": [
      "100%|██████████| 4.00/4.00 [00:00<00:00, 4.37kit/s]\n"
     ]
    },
    {
     "name": "stdout",
     "output_type": "stream",
     "text": [
      "Processing class: 107\n"
     ]
    },
    {
     "name": "stderr",
     "output_type": "stream",
     "text": [
      "100%|██████████| 4.00/4.00 [00:00<00:00, 694it/s]\n"
     ]
    },
    {
     "name": "stdout",
     "output_type": "stream",
     "text": [
      "Processing class: 108\n"
     ]
    },
    {
     "name": "stderr",
     "output_type": "stream",
     "text": [
      "100%|██████████| 4.00/4.00 [00:00<00:00, 749it/s]\n"
     ]
    },
    {
     "name": "stdout",
     "output_type": "stream",
     "text": [
      "Processing class: 109\n"
     ]
    },
    {
     "name": "stderr",
     "output_type": "stream",
     "text": [
      "100%|██████████| 4.00/4.00 [00:00<00:00, 3.15kit/s]\n"
     ]
    },
    {
     "name": "stdout",
     "output_type": "stream",
     "text": [
      "Processing class: 110\n"
     ]
    },
    {
     "name": "stderr",
     "output_type": "stream",
     "text": [
      "100%|██████████| 4.00/4.00 [00:00<00:00, 1.32kit/s]\n"
     ]
    },
    {
     "name": "stdout",
     "output_type": "stream",
     "text": [
      "Processing class: 111\n"
     ]
    },
    {
     "name": "stderr",
     "output_type": "stream",
     "text": [
      "100%|██████████| 4.00/4.00 [00:00<00:00, 722it/s]\n"
     ]
    },
    {
     "name": "stdout",
     "output_type": "stream",
     "text": [
      "Processing class: 112\n"
     ]
    },
    {
     "name": "stderr",
     "output_type": "stream",
     "text": [
      "100%|██████████| 4.00/4.00 [00:00<00:00, 3.83kit/s]\n"
     ]
    },
    {
     "name": "stdout",
     "output_type": "stream",
     "text": [
      "Processing class: 113\n"
     ]
    },
    {
     "name": "stderr",
     "output_type": "stream",
     "text": [
      "100%|██████████| 4.00/4.00 [00:00<00:00, 698it/s]\n"
     ]
    },
    {
     "name": "stdout",
     "output_type": "stream",
     "text": [
      "Processing class: 114\n"
     ]
    },
    {
     "name": "stderr",
     "output_type": "stream",
     "text": [
      "100%|██████████| 4.00/4.00 [00:00<00:00, 3.42kit/s]\n"
     ]
    },
    {
     "name": "stdout",
     "output_type": "stream",
     "text": [
      "Processing class: 115\n"
     ]
    },
    {
     "name": "stderr",
     "output_type": "stream",
     "text": [
      "100%|██████████| 4.00/4.00 [00:00<00:00, 1.08kit/s]\n"
     ]
    },
    {
     "name": "stdout",
     "output_type": "stream",
     "text": [
      "Processing class: 116\n"
     ]
    },
    {
     "name": "stderr",
     "output_type": "stream",
     "text": [
      "100%|██████████| 4.00/4.00 [00:00<00:00, 1.97kit/s]\n"
     ]
    },
    {
     "name": "stdout",
     "output_type": "stream",
     "text": [
      "Processing class: 117\n"
     ]
    },
    {
     "name": "stderr",
     "output_type": "stream",
     "text": [
      "100%|██████████| 4.00/4.00 [00:00<00:00, 993it/s]\n"
     ]
    },
    {
     "name": "stdout",
     "output_type": "stream",
     "text": [
      "Processing class: 118\n"
     ]
    },
    {
     "name": "stderr",
     "output_type": "stream",
     "text": [
      "100%|██████████| 4.00/4.00 [00:00<00:00, 725it/s]\n"
     ]
    },
    {
     "name": "stdout",
     "output_type": "stream",
     "text": [
      "Processing class: 119\n"
     ]
    },
    {
     "name": "stderr",
     "output_type": "stream",
     "text": [
      "100%|██████████| 4.00/4.00 [00:00<00:00, 637it/s]\n"
     ]
    },
    {
     "name": "stdout",
     "output_type": "stream",
     "text": [
      "Processing class: 120\n"
     ]
    },
    {
     "name": "stderr",
     "output_type": "stream",
     "text": [
      "100%|██████████| 4.00/4.00 [00:00<00:00, 646it/s]\n"
     ]
    },
    {
     "name": "stdout",
     "output_type": "stream",
     "text": [
      "Processing class: 121\n"
     ]
    },
    {
     "name": "stderr",
     "output_type": "stream",
     "text": [
      "100%|██████████| 4.00/4.00 [00:00<00:00, 1.18kit/s]\n"
     ]
    },
    {
     "name": "stdout",
     "output_type": "stream",
     "text": [
      "Processing class: 122\n"
     ]
    },
    {
     "name": "stderr",
     "output_type": "stream",
     "text": [
      "100%|██████████| 4.00/4.00 [00:00<00:00, 3.33kit/s]\n"
     ]
    },
    {
     "name": "stdout",
     "output_type": "stream",
     "text": [
      "Processing class: 123\n"
     ]
    },
    {
     "name": "stderr",
     "output_type": "stream",
     "text": [
      "100%|██████████| 4.00/4.00 [00:00<00:00, 716it/s]\n"
     ]
    },
    {
     "name": "stdout",
     "output_type": "stream",
     "text": [
      "Processing class: 124\n"
     ]
    },
    {
     "name": "stderr",
     "output_type": "stream",
     "text": [
      "100%|██████████| 4.00/4.00 [00:00<00:00, 753it/s]\n"
     ]
    },
    {
     "name": "stdout",
     "output_type": "stream",
     "text": [
      "Processing class: 125\n"
     ]
    },
    {
     "name": "stderr",
     "output_type": "stream",
     "text": [
      "100%|██████████| 4.00/4.00 [00:00<00:00, 711it/s]\n"
     ]
    },
    {
     "name": "stdout",
     "output_type": "stream",
     "text": [
      "Processing class: 126\n"
     ]
    },
    {
     "name": "stderr",
     "output_type": "stream",
     "text": [
      "100%|██████████| 4.00/4.00 [00:00<00:00, 706it/s]\n"
     ]
    },
    {
     "name": "stdout",
     "output_type": "stream",
     "text": [
      "Processing class: 127\n"
     ]
    },
    {
     "name": "stderr",
     "output_type": "stream",
     "text": [
      "100%|██████████| 4.00/4.00 [00:00<00:00, 2.38kit/s]\n"
     ]
    },
    {
     "name": "stdout",
     "output_type": "stream",
     "text": [
      "Processing class: 128\n"
     ]
    },
    {
     "name": "stderr",
     "output_type": "stream",
     "text": [
      "100%|██████████| 4.00/4.00 [00:00<00:00, 1.30kit/s]\n"
     ]
    },
    {
     "name": "stdout",
     "output_type": "stream",
     "text": [
      "Processing class: 129\n"
     ]
    },
    {
     "name": "stderr",
     "output_type": "stream",
     "text": [
      "100%|██████████| 4.00/4.00 [00:00<00:00, 573it/s]\n"
     ]
    },
    {
     "name": "stdout",
     "output_type": "stream",
     "text": [
      "Processing class: 130\n"
     ]
    },
    {
     "name": "stderr",
     "output_type": "stream",
     "text": [
      "100%|██████████| 4.00/4.00 [00:00<00:00, 745it/s]\n"
     ]
    },
    {
     "name": "stdout",
     "output_type": "stream",
     "text": [
      "Processing class: 131\n"
     ]
    },
    {
     "name": "stderr",
     "output_type": "stream",
     "text": [
      "100%|██████████| 4.00/4.00 [00:00<00:00, 3.64kit/s]\n"
     ]
    },
    {
     "name": "stdout",
     "output_type": "stream",
     "text": [
      "Processing class: 132\n"
     ]
    },
    {
     "name": "stderr",
     "output_type": "stream",
     "text": [
      "100%|██████████| 4.00/4.00 [00:00<00:00, 703it/s]\n"
     ]
    },
    {
     "name": "stdout",
     "output_type": "stream",
     "text": [
      "Processing class: 133\n"
     ]
    },
    {
     "name": "stderr",
     "output_type": "stream",
     "text": [
      "100%|██████████| 4.00/4.00 [00:00<00:00, 1.81kit/s]\n"
     ]
    },
    {
     "name": "stdout",
     "output_type": "stream",
     "text": [
      "Processing class: 134\n"
     ]
    },
    {
     "name": "stderr",
     "output_type": "stream",
     "text": [
      "100%|██████████| 4.00/4.00 [00:00<00:00, 807it/s]\n"
     ]
    },
    {
     "name": "stdout",
     "output_type": "stream",
     "text": [
      "Processing class: 135\n"
     ]
    },
    {
     "name": "stderr",
     "output_type": "stream",
     "text": [
      "100%|██████████| 4.00/4.00 [00:00<00:00, 721it/s]\n"
     ]
    },
    {
     "name": "stdout",
     "output_type": "stream",
     "text": [
      "Processing class: 136\n"
     ]
    },
    {
     "name": "stderr",
     "output_type": "stream",
     "text": [
      "100%|██████████| 4.00/4.00 [00:00<00:00, 4.04kit/s]\n"
     ]
    },
    {
     "name": "stdout",
     "output_type": "stream",
     "text": [
      "Processing class: 137\n"
     ]
    },
    {
     "name": "stderr",
     "output_type": "stream",
     "text": [
      "100%|██████████| 4.00/4.00 [00:00<00:00, 1.70kit/s]\n"
     ]
    },
    {
     "name": "stdout",
     "output_type": "stream",
     "text": [
      "Processing class: 138\n"
     ]
    },
    {
     "name": "stderr",
     "output_type": "stream",
     "text": [
      "100%|██████████| 4.00/4.00 [00:00<00:00, 1.51kit/s]\n"
     ]
    },
    {
     "name": "stdout",
     "output_type": "stream",
     "text": [
      "Processing class: 139\n"
     ]
    },
    {
     "name": "stderr",
     "output_type": "stream",
     "text": [
      "100%|██████████| 4.00/4.00 [00:00<00:00, 2.48kit/s]\n"
     ]
    },
    {
     "name": "stdout",
     "output_type": "stream",
     "text": [
      "Processing class: 140\n"
     ]
    },
    {
     "name": "stderr",
     "output_type": "stream",
     "text": [
      "100%|██████████| 4.00/4.00 [00:00<00:00, 698it/s]\n"
     ]
    },
    {
     "name": "stdout",
     "output_type": "stream",
     "text": [
      "Processing class: 141\n"
     ]
    },
    {
     "name": "stderr",
     "output_type": "stream",
     "text": [
      "100%|██████████| 4.00/4.00 [00:00<00:00, 2.00kit/s]\n"
     ]
    },
    {
     "name": "stdout",
     "output_type": "stream",
     "text": [
      "Processing class: 142\n"
     ]
    },
    {
     "name": "stderr",
     "output_type": "stream",
     "text": [
      "100%|██████████| 4.00/4.00 [00:00<00:00, 552it/s]\n"
     ]
    },
    {
     "name": "stdout",
     "output_type": "stream",
     "text": [
      "Processing class: 143\n"
     ]
    },
    {
     "name": "stderr",
     "output_type": "stream",
     "text": [
      "100%|██████████| 4.00/4.00 [00:00<00:00, 4.67kit/s]\n"
     ]
    },
    {
     "name": "stdout",
     "output_type": "stream",
     "text": [
      "Processing class: 144\n"
     ]
    },
    {
     "name": "stderr",
     "output_type": "stream",
     "text": [
      "100%|██████████| 4.00/4.00 [00:00<00:00, 709it/s]\n"
     ]
    },
    {
     "name": "stdout",
     "output_type": "stream",
     "text": [
      "Processing class: 145\n"
     ]
    },
    {
     "name": "stderr",
     "output_type": "stream",
     "text": [
      "100%|██████████| 4.00/4.00 [00:00<00:00, 707it/s]\n"
     ]
    },
    {
     "name": "stdout",
     "output_type": "stream",
     "text": [
      "Processing class: 146\n"
     ]
    },
    {
     "name": "stderr",
     "output_type": "stream",
     "text": [
      "100%|██████████| 4.00/4.00 [00:00<00:00, 746it/s]\n"
     ]
    },
    {
     "name": "stdout",
     "output_type": "stream",
     "text": [
      "Processing class: 147\n"
     ]
    },
    {
     "name": "stderr",
     "output_type": "stream",
     "text": [
      "100%|██████████| 4.00/4.00 [00:00<00:00, 699it/s]\n"
     ]
    },
    {
     "name": "stdout",
     "output_type": "stream",
     "text": [
      "Processing class: 148\n"
     ]
    },
    {
     "name": "stderr",
     "output_type": "stream",
     "text": [
      "100%|██████████| 4.00/4.00 [00:00<00:00, 853it/s]\n"
     ]
    },
    {
     "name": "stdout",
     "output_type": "stream",
     "text": [
      "Processing class: 149\n"
     ]
    },
    {
     "name": "stderr",
     "output_type": "stream",
     "text": [
      "100%|██████████| 4.00/4.00 [00:00<00:00, 1.12kit/s]\n"
     ]
    },
    {
     "name": "stdout",
     "output_type": "stream",
     "text": [
      "Processing class: 150\n"
     ]
    },
    {
     "name": "stderr",
     "output_type": "stream",
     "text": [
      "100%|██████████| 4.00/4.00 [00:00<00:00, 3.87kit/s]\n"
     ]
    },
    {
     "name": "stdout",
     "output_type": "stream",
     "text": [
      "Processing class: 151\n"
     ]
    },
    {
     "name": "stderr",
     "output_type": "stream",
     "text": [
      "100%|██████████| 4.00/4.00 [00:00<00:00, 674it/s]\n"
     ]
    },
    {
     "name": "stdout",
     "output_type": "stream",
     "text": [
      "Processing class: 152\n"
     ]
    },
    {
     "name": "stderr",
     "output_type": "stream",
     "text": [
      "100%|██████████| 4.00/4.00 [00:00<00:00, 1.04kit/s]\n"
     ]
    },
    {
     "name": "stdout",
     "output_type": "stream",
     "text": [
      "Processing class: 153\n"
     ]
    },
    {
     "name": "stderr",
     "output_type": "stream",
     "text": [
      "100%|██████████| 4.00/4.00 [00:00<00:00, 4.25kit/s]\n"
     ]
    },
    {
     "name": "stdout",
     "output_type": "stream",
     "text": [
      "Processing class: 154\n"
     ]
    },
    {
     "name": "stderr",
     "output_type": "stream",
     "text": [
      "100%|██████████| 4.00/4.00 [00:00<00:00, 4.38kit/s]\n"
     ]
    },
    {
     "name": "stdout",
     "output_type": "stream",
     "text": [
      "Processing class: 155\n"
     ]
    },
    {
     "name": "stderr",
     "output_type": "stream",
     "text": [
      "100%|██████████| 4.00/4.00 [00:00<00:00, 4.87kit/s]\n"
     ]
    },
    {
     "name": "stdout",
     "output_type": "stream",
     "text": [
      "Processing class: 156\n"
     ]
    },
    {
     "name": "stderr",
     "output_type": "stream",
     "text": [
      "100%|██████████| 4.00/4.00 [00:00<00:00, 2.76kit/s]\n"
     ]
    },
    {
     "name": "stdout",
     "output_type": "stream",
     "text": [
      "Processing class: 157\n"
     ]
    },
    {
     "name": "stderr",
     "output_type": "stream",
     "text": [
      "100%|██████████| 4.00/4.00 [00:00<00:00, 731it/s]\n"
     ]
    },
    {
     "name": "stdout",
     "output_type": "stream",
     "text": [
      "Processing class: 158\n"
     ]
    },
    {
     "name": "stderr",
     "output_type": "stream",
     "text": [
      "100%|██████████| 4.00/4.00 [00:00<00:00, 4.13kit/s]\n"
     ]
    },
    {
     "name": "stdout",
     "output_type": "stream",
     "text": [
      "Processing class: 159\n"
     ]
    },
    {
     "name": "stderr",
     "output_type": "stream",
     "text": [
      "100%|██████████| 4.00/4.00 [00:00<00:00, 919it/s]\n"
     ]
    },
    {
     "name": "stdout",
     "output_type": "stream",
     "text": [
      "Processing class: 160\n"
     ]
    },
    {
     "name": "stderr",
     "output_type": "stream",
     "text": [
      "100%|██████████| 4.00/4.00 [00:00<00:00, 1.40kit/s]\n"
     ]
    },
    {
     "name": "stdout",
     "output_type": "stream",
     "text": [
      "Processing class: 161\n"
     ]
    },
    {
     "name": "stderr",
     "output_type": "stream",
     "text": [
      "100%|██████████| 4.00/4.00 [00:00<00:00, 1.53kit/s]\n"
     ]
    },
    {
     "name": "stdout",
     "output_type": "stream",
     "text": [
      "Processing class: 162\n"
     ]
    },
    {
     "name": "stderr",
     "output_type": "stream",
     "text": [
      "100%|██████████| 4.00/4.00 [00:00<00:00, 1.11kit/s]\n"
     ]
    },
    {
     "name": "stdout",
     "output_type": "stream",
     "text": [
      "Processing class: 163\n"
     ]
    },
    {
     "name": "stderr",
     "output_type": "stream",
     "text": [
      "100%|██████████| 4.00/4.00 [00:00<00:00, 1.44kit/s]\n"
     ]
    },
    {
     "name": "stdout",
     "output_type": "stream",
     "text": [
      "Processing class: 164\n"
     ]
    },
    {
     "name": "stderr",
     "output_type": "stream",
     "text": [
      "100%|██████████| 4.00/4.00 [00:00<00:00, 668it/s]\n"
     ]
    },
    {
     "name": "stdout",
     "output_type": "stream",
     "text": [
      "Processing class: 165\n"
     ]
    },
    {
     "name": "stderr",
     "output_type": "stream",
     "text": [
      "100%|██████████| 4.00/4.00 [00:00<00:00, 5.16kit/s]\n"
     ]
    },
    {
     "name": "stdout",
     "output_type": "stream",
     "text": [
      "Processing class: 166\n"
     ]
    },
    {
     "name": "stderr",
     "output_type": "stream",
     "text": [
      "100%|██████████| 4.00/4.00 [00:00<00:00, 4.02kit/s]\n"
     ]
    },
    {
     "name": "stdout",
     "output_type": "stream",
     "text": [
      "Processing class: 167\n"
     ]
    },
    {
     "name": "stderr",
     "output_type": "stream",
     "text": [
      "100%|██████████| 4.00/4.00 [00:00<00:00, 719it/s]\n"
     ]
    },
    {
     "name": "stdout",
     "output_type": "stream",
     "text": [
      "Processing class: 168\n"
     ]
    },
    {
     "name": "stderr",
     "output_type": "stream",
     "text": [
      "100%|██████████| 4.00/4.00 [00:00<00:00, 690it/s]\n"
     ]
    },
    {
     "name": "stdout",
     "output_type": "stream",
     "text": [
      "Processing class: 169\n"
     ]
    },
    {
     "name": "stderr",
     "output_type": "stream",
     "text": [
      "100%|██████████| 4.00/4.00 [00:00<00:00, 880it/s]\n"
     ]
    },
    {
     "name": "stdout",
     "output_type": "stream",
     "text": [
      "Processing class: 170\n"
     ]
    },
    {
     "name": "stderr",
     "output_type": "stream",
     "text": [
      "100%|██████████| 4.00/4.00 [00:00<00:00, 708it/s]\n"
     ]
    },
    {
     "name": "stdout",
     "output_type": "stream",
     "text": [
      "Processing class: 171\n"
     ]
    },
    {
     "name": "stderr",
     "output_type": "stream",
     "text": [
      "100%|██████████| 4.00/4.00 [00:00<00:00, 1.87kit/s]\n"
     ]
    },
    {
     "name": "stdout",
     "output_type": "stream",
     "text": [
      "Processing class: 172\n"
     ]
    },
    {
     "name": "stderr",
     "output_type": "stream",
     "text": [
      "100%|██████████| 4.00/4.00 [00:00<00:00, 693it/s]\n"
     ]
    },
    {
     "name": "stdout",
     "output_type": "stream",
     "text": [
      "Processing class: 173\n"
     ]
    },
    {
     "name": "stderr",
     "output_type": "stream",
     "text": [
      "100%|██████████| 4.00/4.00 [00:00<00:00, 1.80kit/s]\n"
     ]
    },
    {
     "name": "stdout",
     "output_type": "stream",
     "text": [
      "Processing class: 174\n"
     ]
    },
    {
     "name": "stderr",
     "output_type": "stream",
     "text": [
      "100%|██████████| 4.00/4.00 [00:00<00:00, 700it/s]\n"
     ]
    },
    {
     "name": "stdout",
     "output_type": "stream",
     "text": [
      "Processing class: 175\n"
     ]
    },
    {
     "name": "stderr",
     "output_type": "stream",
     "text": [
      "100%|██████████| 4.00/4.00 [00:00<00:00, 716it/s]\n"
     ]
    },
    {
     "name": "stdout",
     "output_type": "stream",
     "text": [
      "Processing class: 176\n"
     ]
    },
    {
     "name": "stderr",
     "output_type": "stream",
     "text": [
      "100%|██████████| 4.00/4.00 [00:00<00:00, 4.33kit/s]\n"
     ]
    },
    {
     "name": "stdout",
     "output_type": "stream",
     "text": [
      "Processing class: 177\n"
     ]
    },
    {
     "name": "stderr",
     "output_type": "stream",
     "text": [
      "100%|██████████| 4.00/4.00 [00:00<00:00, 2.48kit/s]\n"
     ]
    },
    {
     "name": "stdout",
     "output_type": "stream",
     "text": [
      "Processing class: 178\n"
     ]
    },
    {
     "name": "stderr",
     "output_type": "stream",
     "text": [
      "100%|██████████| 4.00/4.00 [00:00<00:00, 4.62kit/s]\n"
     ]
    },
    {
     "name": "stdout",
     "output_type": "stream",
     "text": [
      "Processing class: 179\n"
     ]
    },
    {
     "name": "stderr",
     "output_type": "stream",
     "text": [
      "100%|██████████| 4.00/4.00 [00:00<00:00, 944it/s]\n"
     ]
    },
    {
     "name": "stdout",
     "output_type": "stream",
     "text": [
      "Processing class: 180\n"
     ]
    },
    {
     "name": "stderr",
     "output_type": "stream",
     "text": [
      "100%|██████████| 4.00/4.00 [00:00<00:00, 2.89kit/s]\n"
     ]
    },
    {
     "name": "stdout",
     "output_type": "stream",
     "text": [
      "Processing class: 181\n"
     ]
    },
    {
     "name": "stderr",
     "output_type": "stream",
     "text": [
      "100%|██████████| 4.00/4.00 [00:00<00:00, 659it/s]\n"
     ]
    },
    {
     "name": "stdout",
     "output_type": "stream",
     "text": [
      "Processing class: 182\n"
     ]
    },
    {
     "name": "stderr",
     "output_type": "stream",
     "text": [
      "100%|██████████| 4.00/4.00 [00:00<00:00, 710it/s]\n"
     ]
    },
    {
     "name": "stdout",
     "output_type": "stream",
     "text": [
      "Processing class: 183\n"
     ]
    },
    {
     "name": "stderr",
     "output_type": "stream",
     "text": [
      "100%|██████████| 4.00/4.00 [00:00<00:00, 722it/s]\n"
     ]
    },
    {
     "name": "stdout",
     "output_type": "stream",
     "text": [
      "Processing class: 184\n"
     ]
    },
    {
     "name": "stderr",
     "output_type": "stream",
     "text": [
      "100%|██████████| 4.00/4.00 [00:00<00:00, 2.69kit/s]\n"
     ]
    },
    {
     "name": "stdout",
     "output_type": "stream",
     "text": [
      "Processing class: 185\n"
     ]
    },
    {
     "name": "stderr",
     "output_type": "stream",
     "text": [
      "100%|██████████| 4.00/4.00 [00:00<00:00, 2.39kit/s]\n"
     ]
    },
    {
     "name": "stdout",
     "output_type": "stream",
     "text": [
      "Processing class: 186\n"
     ]
    },
    {
     "name": "stderr",
     "output_type": "stream",
     "text": [
      "100%|██████████| 4.00/4.00 [00:00<00:00, 550it/s]\n"
     ]
    },
    {
     "name": "stdout",
     "output_type": "stream",
     "text": [
      "Processing class: 187\n"
     ]
    },
    {
     "name": "stderr",
     "output_type": "stream",
     "text": [
      "100%|██████████| 4.00/4.00 [00:00<00:00, 666it/s]\n"
     ]
    },
    {
     "name": "stdout",
     "output_type": "stream",
     "text": [
      "Processing class: 188\n"
     ]
    },
    {
     "name": "stderr",
     "output_type": "stream",
     "text": [
      "100%|██████████| 4.00/4.00 [00:00<00:00, 3.10kit/s]\n"
     ]
    },
    {
     "name": "stdout",
     "output_type": "stream",
     "text": [
      "Processing class: 189\n"
     ]
    },
    {
     "name": "stderr",
     "output_type": "stream",
     "text": [
      "100%|██████████| 4.00/4.00 [00:00<00:00, 769it/s]\n"
     ]
    },
    {
     "name": "stdout",
     "output_type": "stream",
     "text": [
      "Processing class: 190\n"
     ]
    },
    {
     "name": "stderr",
     "output_type": "stream",
     "text": [
      "100%|██████████| 4.00/4.00 [00:00<00:00, 809it/s]\n"
     ]
    },
    {
     "name": "stdout",
     "output_type": "stream",
     "text": [
      "Processing class: 191\n"
     ]
    },
    {
     "name": "stderr",
     "output_type": "stream",
     "text": [
      "100%|██████████| 4.00/4.00 [00:00<00:00, 696it/s]\n"
     ]
    },
    {
     "name": "stdout",
     "output_type": "stream",
     "text": [
      "Processing class: 192\n"
     ]
    },
    {
     "name": "stderr",
     "output_type": "stream",
     "text": [
      "100%|██████████| 4.00/4.00 [00:00<00:00, 1.03kit/s]\n"
     ]
    },
    {
     "name": "stdout",
     "output_type": "stream",
     "text": [
      "Processing class: 193\n"
     ]
    },
    {
     "name": "stderr",
     "output_type": "stream",
     "text": [
      "100%|██████████| 4.00/4.00 [00:00<00:00, 637it/s]\n"
     ]
    },
    {
     "name": "stdout",
     "output_type": "stream",
     "text": [
      "Processing class: 194\n"
     ]
    },
    {
     "name": "stderr",
     "output_type": "stream",
     "text": [
      "100%|██████████| 4.00/4.00 [00:00<00:00, 616it/s]\n"
     ]
    },
    {
     "name": "stdout",
     "output_type": "stream",
     "text": [
      "Processing class: 195\n"
     ]
    },
    {
     "name": "stderr",
     "output_type": "stream",
     "text": [
      "100%|██████████| 4.00/4.00 [00:00<00:00, 716it/s]\n"
     ]
    },
    {
     "name": "stdout",
     "output_type": "stream",
     "text": [
      "Processing class: 196\n"
     ]
    },
    {
     "name": "stderr",
     "output_type": "stream",
     "text": [
      "100%|██████████| 4.00/4.00 [00:00<00:00, 3.24kit/s]\n"
     ]
    },
    {
     "name": "stdout",
     "output_type": "stream",
     "text": [
      "Processing class: 197\n"
     ]
    },
    {
     "name": "stderr",
     "output_type": "stream",
     "text": [
      "100%|██████████| 4.00/4.00 [00:00<00:00, 2.63kit/s]\n"
     ]
    },
    {
     "name": "stdout",
     "output_type": "stream",
     "text": [
      "Processing class: 198\n"
     ]
    },
    {
     "name": "stderr",
     "output_type": "stream",
     "text": [
      "100%|██████████| 4.00/4.00 [00:00<00:00, 2.94kit/s]\n"
     ]
    },
    {
     "name": "stdout",
     "output_type": "stream",
     "text": [
      "Processing class: 199\n"
     ]
    },
    {
     "name": "stderr",
     "output_type": "stream",
     "text": [
      "100%|██████████| 4.00/4.00 [00:00<00:00, 3.62kit/s]\n"
     ]
    },
    {
     "name": "stdout",
     "output_type": "stream",
     "text": [
      "Processing class: 200\n"
     ]
    },
    {
     "name": "stderr",
     "output_type": "stream",
     "text": [
      "100%|██████████| 4.00/4.00 [00:00<00:00, 706it/s]\n"
     ]
    },
    {
     "name": "stdout",
     "output_type": "stream",
     "text": [
      "Processing class: 201\n"
     ]
    },
    {
     "name": "stderr",
     "output_type": "stream",
     "text": [
      "100%|██████████| 4.00/4.00 [00:00<00:00, 3.08kit/s]\n"
     ]
    },
    {
     "name": "stdout",
     "output_type": "stream",
     "text": [
      "Processing class: 202\n"
     ]
    },
    {
     "name": "stderr",
     "output_type": "stream",
     "text": [
      "100%|██████████| 4.00/4.00 [00:00<00:00, 738it/s]\n"
     ]
    },
    {
     "name": "stdout",
     "output_type": "stream",
     "text": [
      "Processing class: 203\n"
     ]
    },
    {
     "name": "stderr",
     "output_type": "stream",
     "text": [
      "100%|██████████| 4.00/4.00 [00:00<00:00, 629it/s]\n"
     ]
    },
    {
     "name": "stdout",
     "output_type": "stream",
     "text": [
      "Processing class: 204\n"
     ]
    },
    {
     "name": "stderr",
     "output_type": "stream",
     "text": [
      "100%|██████████| 4.00/4.00 [00:00<00:00, 3.40kit/s]\n"
     ]
    },
    {
     "name": "stdout",
     "output_type": "stream",
     "text": [
      "Processing class: 205\n"
     ]
    },
    {
     "name": "stderr",
     "output_type": "stream",
     "text": [
      "100%|██████████| 4.00/4.00 [00:00<00:00, 717it/s]\n"
     ]
    },
    {
     "name": "stdout",
     "output_type": "stream",
     "text": [
      "Processing class: 206\n"
     ]
    },
    {
     "name": "stderr",
     "output_type": "stream",
     "text": [
      "100%|██████████| 4.00/4.00 [00:00<00:00, 658it/s]\n"
     ]
    },
    {
     "name": "stdout",
     "output_type": "stream",
     "text": [
      "Processing class: 207\n"
     ]
    },
    {
     "name": "stderr",
     "output_type": "stream",
     "text": [
      "100%|██████████| 4.00/4.00 [00:00<00:00, 1.73kit/s]\n"
     ]
    },
    {
     "name": "stdout",
     "output_type": "stream",
     "text": [
      "Processing class: 208\n"
     ]
    },
    {
     "name": "stderr",
     "output_type": "stream",
     "text": [
      "100%|██████████| 4.00/4.00 [00:00<00:00, 2.38kit/s]\n"
     ]
    },
    {
     "name": "stdout",
     "output_type": "stream",
     "text": [
      "Processing class: 209\n"
     ]
    },
    {
     "name": "stderr",
     "output_type": "stream",
     "text": [
      "100%|██████████| 4.00/4.00 [00:00<00:00, 698it/s]\n"
     ]
    },
    {
     "name": "stdout",
     "output_type": "stream",
     "text": [
      "Processing class: 210\n"
     ]
    },
    {
     "name": "stderr",
     "output_type": "stream",
     "text": [
      "100%|██████████| 4.00/4.00 [00:00<00:00, 1.25kit/s]\n"
     ]
    },
    {
     "name": "stdout",
     "output_type": "stream",
     "text": [
      "Processing class: 211\n"
     ]
    },
    {
     "name": "stderr",
     "output_type": "stream",
     "text": [
      "100%|██████████| 4.00/4.00 [00:00<00:00, 502it/s]\n"
     ]
    },
    {
     "name": "stdout",
     "output_type": "stream",
     "text": [
      "Processing class: 212\n"
     ]
    },
    {
     "name": "stderr",
     "output_type": "stream",
     "text": [
      "100%|██████████| 4.00/4.00 [00:00<00:00, 709it/s]\n"
     ]
    },
    {
     "name": "stdout",
     "output_type": "stream",
     "text": [
      "Processing class: 213\n"
     ]
    },
    {
     "name": "stderr",
     "output_type": "stream",
     "text": [
      "100%|██████████| 4.00/4.00 [00:00<00:00, 646it/s]\n"
     ]
    },
    {
     "name": "stdout",
     "output_type": "stream",
     "text": [
      "Processing class: 214\n"
     ]
    },
    {
     "name": "stderr",
     "output_type": "stream",
     "text": [
      "100%|██████████| 4.00/4.00 [00:00<00:00, 2.72kit/s]\n"
     ]
    },
    {
     "name": "stdout",
     "output_type": "stream",
     "text": [
      "Processing class: 215\n"
     ]
    },
    {
     "name": "stderr",
     "output_type": "stream",
     "text": [
      "100%|██████████| 4.00/4.00 [00:00<00:00, 2.43kit/s]\n"
     ]
    },
    {
     "name": "stdout",
     "output_type": "stream",
     "text": [
      "Processing class: 216\n"
     ]
    },
    {
     "name": "stderr",
     "output_type": "stream",
     "text": [
      "100%|██████████| 4.00/4.00 [00:00<00:00, 4.13kit/s]\n"
     ]
    },
    {
     "name": "stdout",
     "output_type": "stream",
     "text": [
      "Processing class: 217\n"
     ]
    },
    {
     "name": "stderr",
     "output_type": "stream",
     "text": [
      "100%|██████████| 4.00/4.00 [00:00<00:00, 3.04kit/s]\n"
     ]
    },
    {
     "name": "stdout",
     "output_type": "stream",
     "text": [
      "Processing class: 218\n"
     ]
    },
    {
     "name": "stderr",
     "output_type": "stream",
     "text": [
      "100%|██████████| 4.00/4.00 [00:00<00:00, 1.68kit/s]"
     ]
    },
    {
     "name": "stdout",
     "output_type": "stream",
     "text": [
      "Dataset({\n",
      "    features: ['text', 'l1', 'l2', 'l3', 'label', 'target', 'token_length', '__index_level_0__', 'input_ids', 'token_type_ids', 'attention_mask'],\n",
      "    num_rows: 876\n",
      "})\n"
     ]
    },
    {
     "name": "stderr",
     "output_type": "stream",
     "text": [
      "\n"
     ]
    }
   ],
   "source": [
    "# Step 1: Import Necessary Libraries\n",
    "import pandas as pd\n",
    "import numpy as np\n",
    "from apricot import FacilityLocationSelection\n",
    "from datasets import Dataset\n",
    "\n",
    " \n",
    "\n",
    "# Step 3: Define a function to select representative samples for each class using apricot\n",
    "def select_representative_samples(tokenized_data, num_samples_per_class):\n",
    "    selected_indices = []\n",
    "    \n",
    "    # Iterate over each unique class label\n",
    "    for class_label in set(tokenized_data['label']):\n",
    "        print(f\"Processing class: {class_label}\")\n",
    "        class_indices = [i for i, label in enumerate(tokenized_data['label']) if label == class_label]\n",
    "        X_class = np.array(tokenized_data['input_ids'])[class_indices]\n",
    "\n",
    "        # Apply apricot's Facility Location Selection\n",
    "        selector = FacilityLocationSelection(n_samples=num_samples_per_class, metric='euclidean', verbose=True)\n",
    "        selector.fit(X_class)\n",
    "        selected = selector.ranking\n",
    "\n",
    "        # Collect the selected indices\n",
    "        selected_indices.extend([class_indices[i] for i in selected])\n",
    "\n",
    "    return selected_indices\n",
    "\n",
    " \n",
    " \n",
    "num_samples_per_class = 1000 // len(set(test_dataset['label']))   \n",
    "selected_indices = select_representative_samples(test_dataset, num_samples_per_class)\n",
    "\n",
    " \n",
    "test_dataset_subset = test_dataset.select(selected_indices)\n",
    "\n",
    "print(test_dataset_subset)"
   ]
  },
  {
   "cell_type": "code",
   "execution_count": 32,
   "metadata": {},
   "outputs": [],
   "source": [
    "# Convert to a pandas DataFrame first if not already one\n",
    "df_subset = pd.DataFrame(test_dataset_subset)\n",
    "df_subset.to_csv('/home/bhairavi/om/om5/dbp/test_dataset_subset.csv', index=False)\n"
   ]
  },
  {
   "cell_type": "code",
   "execution_count": 31,
   "metadata": {},
   "outputs": [
    {
     "name": "stdout",
     "output_type": "stream",
     "text": [
      "160\n",
      "1\n",
      "67\n",
      "64\n",
      "120\n",
      "100\n",
      "98\n",
      "140\n",
      "174\n",
      "200\n",
      "218\n",
      "85\n",
      "83\n",
      "34\n",
      "31\n",
      "138\n",
      "90\n",
      "7\n",
      "72\n",
      "191\n",
      "108\n",
      "105\n",
      "163\n",
      "53\n",
      "11\n",
      "17\n",
      "127\n",
      "195\n",
      "88\n",
      "205\n",
      "52\n",
      "59\n",
      "167\n",
      "47\n",
      "166\n",
      "28\n",
      "81\n",
      "152\n",
      "126\n",
      "180\n",
      "169\n",
      "179\n",
      "24\n",
      "21\n",
      "43\n",
      "35\n",
      "145\n",
      "123\n",
      "148\n",
      "146\n",
      "77\n",
      "192\n",
      "186\n",
      "12\n",
      "54\n",
      "13\n",
      "128\n",
      "151\n",
      "84\n",
      "106\n",
      "125\n",
      "194\n",
      "18\n",
      "135\n",
      "149\n",
      "175\n",
      "147\n",
      "189\n",
      "212\n",
      "181\n",
      "134\n",
      "129\n",
      "207\n",
      "185\n",
      "23\n",
      "19\n",
      "190\n",
      "211\n",
      "102\n",
      "214\n",
      "75\n",
      "89\n",
      "56\n",
      "37\n",
      "155\n",
      "110\n",
      "178\n",
      "193\n",
      "99\n",
      "187\n",
      "172\n",
      "42\n",
      "101\n",
      "164\n",
      "95\n",
      "61\n",
      "170\n",
      "113\n",
      "80\n",
      "168\n",
      "3\n",
      "144\n",
      "0\n",
      "198\n",
      "26\n",
      "133\n",
      "46\n",
      "32\n",
      "111\n",
      "14\n",
      "183\n",
      "141\n",
      "40\n",
      "142\n",
      "60\n",
      "173\n",
      "130\n",
      "121\n",
      "124\n",
      "117\n",
      "36\n",
      "45\n",
      "188\n",
      "79\n",
      "153\n",
      "38\n",
      "8\n",
      "10\n",
      "44\n",
      "94\n",
      "137\n",
      "132\n",
      "209\n",
      "157\n",
      "29\n",
      "116\n",
      "161\n",
      "118\n",
      "210\n",
      "217\n",
      "66\n",
      "48\n",
      "109\n",
      "182\n",
      "4\n",
      "20\n",
      "78\n",
      "16\n",
      "176\n",
      "150\n",
      "104\n",
      "27\n",
      "159\n",
      "119\n",
      "50\n",
      "162\n",
      "115\n",
      "203\n",
      "51\n",
      "184\n",
      "165\n",
      "91\n",
      "69\n",
      "86\n",
      "15\n",
      "30\n",
      "71\n",
      "82\n",
      "107\n",
      "206\n",
      "139\n",
      "22\n",
      "202\n",
      "2\n",
      "213\n",
      "49\n",
      "6\n",
      "87\n",
      "58\n",
      "70\n",
      "131\n",
      "136\n",
      "143\n",
      "215\n",
      "68\n",
      "199\n",
      "73\n",
      "114\n",
      "96\n",
      "171\n",
      "9\n",
      "5\n",
      "76\n",
      "39\n",
      "112\n",
      "154\n",
      "55\n",
      "197\n",
      "196\n",
      "122\n",
      "156\n",
      "33\n",
      "63\n",
      "41\n",
      "216\n",
      "62\n",
      "25\n",
      "57\n",
      "208\n",
      "92\n",
      "97\n",
      "201\n",
      "177\n",
      "74\n",
      "158\n",
      "65\n",
      "103\n",
      "93\n",
      "204\n",
      "                                                    text       l1          l2  \\\n",
      "48492  (In this name, the family name is Law, not Bon...    Agent  Politician   \n",
      "7209   Ilir Rexhep Meta (born March 24, 1969) is an A...    Agent  Politician   \n",
      "16156  Roy Stanley Jackson (1895–1964) was an Austral...    Agent  Politician   \n",
      "41212  Thomas George Rusden (1817 – 30 June 1882) was...    Agent  Politician   \n",
      "14811  Samuel Colt (born December 6, 1973) is an Amer...    Agent       Actor   \n",
      "...                                                  ...      ...         ...   \n",
      "5656   Pseudopringsheimia is a genus of green algae, ...  Species       Plant   \n",
      "29123  Wang Huiyuan (Chinese: 王会元) is a male former t...    Agent     Athlete   \n",
      "60786  (This is a Chinese name; the family name is Ni...    Agent     Athlete   \n",
      "52824  Qi Baoxiang is a former female table tennis pl...    Agent     Athlete   \n",
      "59539  Mariano Lukov (Bulgarian: Мариано Луков) (born...    Agent     Athlete   \n",
      "\n",
      "                      l3              label  target  token_length  \n",
      "48492      PrimeMinister      PrimeMinister     160           416  \n",
      "7209       PrimeMinister      PrimeMinister     160           180  \n",
      "16156      PrimeMinister      PrimeMinister     160           221  \n",
      "41212      PrimeMinister      PrimeMinister     160            46  \n",
      "14811         AdultActor         AdultActor       1            19  \n",
      "...                  ...                ...     ...           ...  \n",
      "5656           GreenAlga          GreenAlga      93            11  \n",
      "29123  TableTennisPlayer  TableTennisPlayer     204            40  \n",
      "60786  TableTennisPlayer  TableTennisPlayer     204           164  \n",
      "52824  TableTennisPlayer  TableTennisPlayer     204            38  \n",
      "59539  TableTennisPlayer  TableTennisPlayer     204            16  \n",
      "\n",
      "[876 rows x 7 columns]\n"
     ]
    }
   ],
   "source": [
    "# Step 1: Import Necessary Libraries\n",
    "import pandas as pd\n",
    "from sklearn.feature_extraction.text import TfidfVectorizer\n",
    "from sklearn.cluster import KMeans\n",
    "from sklearn.metrics import pairwise_distances_argmin_min\n",
    "import numpy as np\n",
    "\n",
    "# Step 2: Vectorize the Text Data\n",
    "X = test_df['text']\n",
    "vectorizer = TfidfVectorizer()\n",
    "X_vectorized = vectorizer.fit_transform(X)\n",
    "X_dense = X_vectorized.toarray()\n",
    "y = test_df['target']\n",
    "\n",
    "# Step 3: Define a function to select representative samples for each class\n",
    "def select_representative_samples(X, y, num_samples_per_class):\n",
    "    selected_indices = []\n",
    "    for class_label in y.unique():\n",
    "        print(class_label)\n",
    "        class_indices = y[y == class_label].index\n",
    "        X_class = X[class_indices]\n",
    "        \n",
    "        # Cluster the data\n",
    "        num_clusters = num_samples_per_class\n",
    "        kmeans = KMeans(n_clusters=num_clusters, random_state=0).fit(X_class)\n",
    "        \n",
    "        # Find the closest samples to the cluster centroids\n",
    "        closest, _ = pairwise_distances_argmin_min(kmeans.cluster_centers_, X_class)\n",
    "        \n",
    "        # Collect the selected indices\n",
    "        selected_indices.extend(class_indices[closest])\n",
    "    \n",
    "    return selected_indices\n",
    "\n",
    "# Step 4: Select samples for each class\n",
    "num_samples_per_class = 1000 // len(y.unique())  # Adjust the number of samples per class as needed\n",
    "selected_indices = select_representative_samples(X_dense, y, num_samples_per_class)\n",
    "\n",
    "# Step 5: Create the subset DataFrame\n",
    "df_subset = test_df.iloc[selected_indices]\n",
    "\n",
    "# Display the subset DataFrame\n",
    "print(df_subset)"
   ]
  },
  {
   "cell_type": "code",
   "execution_count": 32,
   "metadata": {},
   "outputs": [
    {
     "data": {
      "text/plain": [
       "(876, 7)"
      ]
     },
     "execution_count": 32,
     "metadata": {},
     "output_type": "execute_result"
    }
   ],
   "source": [
    "df_subset.shape"
   ]
  },
  {
   "cell_type": "code",
   "execution_count": 33,
   "metadata": {},
   "outputs": [
    {
     "data": {
      "text/plain": [
       "219"
      ]
     },
     "execution_count": 33,
     "metadata": {},
     "output_type": "execute_result"
    }
   ],
   "source": [
    "df_subset['label'].nunique()"
   ]
  },
  {
   "cell_type": "code",
   "execution_count": 35,
   "metadata": {},
   "outputs": [
    {
     "name": "stdout",
     "output_type": "stream",
     "text": [
      "4\n",
      "4\n",
      "4\n",
      "4\n",
      "4\n",
      "4\n",
      "4\n",
      "4\n",
      "4\n",
      "4\n",
      "4\n",
      "4\n",
      "4\n",
      "4\n",
      "4\n",
      "4\n",
      "4\n",
      "4\n",
      "4\n",
      "4\n",
      "4\n",
      "4\n",
      "4\n",
      "4\n",
      "4\n",
      "4\n",
      "4\n",
      "4\n",
      "4\n",
      "4\n",
      "4\n",
      "4\n",
      "4\n",
      "4\n",
      "4\n",
      "4\n",
      "4\n",
      "4\n",
      "4\n",
      "4\n",
      "4\n",
      "4\n",
      "4\n",
      "4\n",
      "4\n",
      "4\n",
      "4\n",
      "4\n",
      "4\n",
      "4\n",
      "4\n",
      "4\n",
      "4\n",
      "4\n",
      "4\n",
      "4\n",
      "4\n",
      "4\n",
      "4\n",
      "4\n",
      "4\n",
      "4\n",
      "4\n",
      "4\n",
      "4\n",
      "4\n",
      "4\n",
      "4\n",
      "4\n",
      "4\n",
      "4\n",
      "4\n",
      "4\n",
      "4\n",
      "4\n",
      "4\n",
      "4\n",
      "4\n",
      "4\n",
      "4\n",
      "4\n",
      "4\n",
      "4\n",
      "4\n",
      "4\n",
      "4\n",
      "4\n",
      "4\n",
      "4\n",
      "4\n",
      "4\n",
      "4\n",
      "4\n",
      "4\n",
      "4\n",
      "4\n",
      "4\n",
      "4\n",
      "4\n",
      "4\n",
      "4\n",
      "4\n",
      "4\n",
      "4\n",
      "4\n",
      "4\n",
      "4\n",
      "4\n",
      "4\n",
      "4\n",
      "4\n",
      "4\n",
      "4\n",
      "4\n",
      "4\n",
      "4\n",
      "4\n",
      "4\n",
      "4\n",
      "4\n",
      "4\n",
      "4\n",
      "4\n",
      "4\n",
      "4\n",
      "4\n",
      "4\n",
      "4\n",
      "4\n",
      "4\n",
      "4\n",
      "4\n",
      "4\n",
      "4\n",
      "4\n",
      "4\n",
      "4\n",
      "4\n",
      "4\n",
      "4\n",
      "4\n",
      "4\n",
      "4\n",
      "4\n",
      "4\n",
      "4\n",
      "4\n",
      "4\n",
      "4\n",
      "4\n",
      "4\n",
      "4\n",
      "4\n",
      "4\n",
      "4\n",
      "4\n",
      "4\n",
      "4\n",
      "4\n",
      "4\n",
      "4\n",
      "4\n",
      "4\n",
      "4\n",
      "4\n",
      "4\n",
      "4\n",
      "4\n",
      "4\n",
      "4\n",
      "4\n",
      "4\n",
      "4\n",
      "4\n",
      "4\n",
      "4\n",
      "4\n",
      "4\n",
      "4\n",
      "4\n",
      "4\n",
      "4\n",
      "4\n",
      "4\n",
      "4\n",
      "4\n",
      "4\n",
      "4\n",
      "4\n",
      "4\n",
      "4\n",
      "4\n",
      "4\n",
      "4\n",
      "4\n",
      "4\n",
      "4\n",
      "4\n",
      "4\n",
      "4\n",
      "4\n",
      "4\n",
      "4\n",
      "4\n",
      "4\n",
      "4\n",
      "4\n",
      "4\n",
      "4\n",
      "4\n",
      "4\n",
      "4\n",
      "4\n",
      "4\n",
      "4\n",
      "4\n",
      "4\n",
      "4\n",
      "4\n"
     ]
    }
   ],
   "source": [
    "for i in df_subset['target'].value_counts():\n",
    "    print(i)"
   ]
  },
  {
   "cell_type": "code",
   "execution_count": 36,
   "metadata": {},
   "outputs": [
    {
     "data": {
      "text/plain": [
       "'~/om5/dbp/debertaV3_dbp'"
      ]
     },
     "execution_count": 36,
     "metadata": {},
     "output_type": "execute_result"
    }
   ],
   "source": [
    "saveDIR"
   ]
  },
  {
   "cell_type": "code",
   "execution_count": 38,
   "metadata": {},
   "outputs": [
    {
     "name": "stderr",
     "output_type": "stream",
     "text": [
      "/home/bhairavi/om/lib/python3.10/site-packages/transformers/training_args.py:1525: FutureWarning: `evaluation_strategy` is deprecated and will be removed in version 4.46 of 🤗 Transformers. Use `eval_strategy` instead\n",
      "  warnings.warn(\n",
      "Exception ignored in: <bound method IPythonKernel._clean_thread_parent_frames of <ipykernel.ipkernel.IPythonKernel object at 0x7f16a2383d30>>\n",
      "Traceback (most recent call last):\n",
      "  File \"/home/bhairavi/om/lib/python3.10/site-packages/ipykernel/ipkernel.py\", line 775, in _clean_thread_parent_frames\n",
      "    def _clean_thread_parent_frames(\n",
      "KeyboardInterrupt: \n"
     ]
    },
    {
     "data": {
      "text/html": [
       "\n",
       "    <div>\n",
       "      \n",
       "      <progress value='7530' max='7530' style='width:300px; height:20px; vertical-align: middle;'></progress>\n",
       "      [7530/7530 2:41:08, Epoch 1/1]\n",
       "    </div>\n",
       "    <table border=\"1\" class=\"dataframe\">\n",
       "  <thead>\n",
       " <tr style=\"text-align: left;\">\n",
       "      <th>Epoch</th>\n",
       "      <th>Training Loss</th>\n",
       "      <th>Validation Loss</th>\n",
       "      <th>F1</th>\n",
       "      <th>Precision</th>\n",
       "      <th>Recall</th>\n",
       "    </tr>\n",
       "  </thead>\n",
       "  <tbody>\n",
       "    <tr>\n",
       "      <td>1</td>\n",
       "      <td>0.137500</td>\n",
       "      <td>0.172910</td>\n",
       "      <td>0.958429</td>\n",
       "      <td>0.958623</td>\n",
       "      <td>0.958948</td>\n",
       "    </tr>\n",
       "  </tbody>\n",
       "</table><p>"
      ],
      "text/plain": [
       "<IPython.core.display.HTML object>"
      ]
     },
     "metadata": {},
     "output_type": "display_data"
    },
    {
     "data": {
      "text/plain": [
       "('/home/bhairavi/om/om5/dbp/debertaV3_dbp/tokenizer_config.json',\n",
       " '/home/bhairavi/om/om5/dbp/debertaV3_dbp/special_tokens_map.json',\n",
       " '/home/bhairavi/om/om5/dbp/debertaV3_dbp/spm.model',\n",
       " '/home/bhairavi/om/om5/dbp/debertaV3_dbp/added_tokens.json',\n",
       " '/home/bhairavi/om/om5/dbp/debertaV3_dbp/tokenizer.json')"
      ]
     },
     "execution_count": 38,
     "metadata": {},
     "output_type": "execute_result"
    }
   ],
   "source": [
    "\n",
    "# %%\n",
    "\n",
    "training_args = TrainingArguments(\n",
    "    output_dir=\"./results\",\n",
    "    evaluation_strategy=\"epoch\",  # Use 'epoch' to evaluate at the end of each epoch\n",
    "    save_strategy=\"epoch\",  # Also use 'epoch' to save at the end of each epoch\n",
    "    learning_rate=2e-5,\n",
    "    per_device_train_batch_size=32,\n",
    "    per_device_eval_batch_size=32,\n",
    "    num_train_epochs=1,\n",
    "    weight_decay=0.01,\n",
    "    load_best_model_at_end=True,  # Load the best model at the end of training based on metric\n",
    "    metric_for_best_model='f1',  # Define the metric for evaluating the best model\n",
    "    logging_dir='./logs',\n",
    "    logging_steps=10,\n",
    ")\n",
    "\n",
    "\n",
    " \n",
    "\n",
    "trainer = Trainer(\n",
    "    model=model,\n",
    "    args=training_args ,  # Here you will need to make sure that the Trainer is set up correctly\n",
    "    compute_metrics=compute_metrics,\n",
    "    train_dataset=train_dataset,\n",
    "    eval_dataset=eval_dataset,\n",
    "    tokenizer=tokenizer\n",
    ")\n",
    "\n",
    " \n",
    "\n",
    "\n",
    "trainer.train()\n",
    "\n",
    "\n",
    "# %%\n",
    "\n",
    "\n",
    "# %%\n",
    "\n",
    "save_directory = saveDIR\n",
    " \n",
    "\n",
    "# Save the model\n",
    "model.save_pretrained(save_directory)\n",
    "\n",
    "# Save the tokenizer (optional, but recommended)\n",
    "tokenizer.save_pretrained(save_directory)\n",
    "\n",
    " \n"
   ]
  },
  {
   "cell_type": "code",
   "execution_count": 39,
   "metadata": {},
   "outputs": [
    {
     "data": {
      "text/html": [],
      "text/plain": [
       "<IPython.core.display.HTML object>"
      ]
     },
     "metadata": {},
     "output_type": "display_data"
    },
    {
     "name": "stdout",
     "output_type": "stream",
     "text": [
      "                                   precision    recall  f1-score   support\n",
      "\n",
      "                          Senator     0.9824    0.9721    0.9772       287\n",
      "                            Album     0.9381    0.8480    0.8908       125\n",
      "                         Mountain     0.9965    0.9965    0.9965       285\n",
      "                  AcademicJournal     1.0000    1.0000    1.0000       286\n",
      "                 HistoricBuilding     0.9860    0.9860    0.9860       285\n",
      "                          Reptile     0.8958    1.0000    0.9451        43\n",
      "                     MilitaryUnit     0.8413    0.8833    0.8618        60\n",
      "                            Judge     0.9722    0.9790    0.9756       286\n",
      "                      ChessPlayer     0.9964    0.9684    0.9822       285\n",
      "                       TradeUnion     1.0000    1.0000    1.0000        22\n",
      "                          Musical     0.9134    0.8992    0.9062       129\n",
      "                           Insect     0.9873    0.9873    0.9873       236\n",
      "                             Town     0.9777    0.9777    0.9777       269\n",
      "SupremeCourtOfTheUnitedStatesCase     1.0000    0.9957    0.9979       235\n",
      "                     TennisPlayer     0.9846    0.9697    0.9771       264\n",
      "                    SpeedwayRider     0.9508    0.9667    0.9587        60\n",
      "                        Publisher     1.0000    0.9773    0.9885        44\n",
      "                       GolfPlayer     0.9895    0.9965    0.9930       284\n",
      "                       HorseRider     1.0000    1.0000    1.0000        37\n",
      "                     ShoppingMall     1.0000    0.9926    0.9963       136\n",
      "                             Road     0.9677    0.9818    0.9747       275\n",
      "                   MilitaryPerson     0.9725    0.9930    0.9826       285\n",
      "                         Election     0.9211    0.9589    0.9396        73\n",
      "                ArtistDiscography     1.0000    1.0000    1.0000        32\n",
      "                     OfficeHolder     0.9890    0.9926    0.9908       272\n",
      "                  IceHockeyPlayer     0.9583    0.9583    0.9583        24\n",
      "                          Diocese     0.9636    1.0000    0.9815        53\n",
      "                          Library     0.9790    0.9825    0.9807       285\n",
      "                             Lake     0.9826    0.9713    0.9769       174\n",
      "                          Monarch     1.0000    1.0000    1.0000        20\n",
      "                          Conifer     0.9375    0.9657    0.9514       233\n",
      "                           Bridge     0.9500    1.0000    0.9744        19\n",
      "                              Dam     0.9965    1.0000    0.9983       286\n",
      "                 BasketballPlayer     0.9200    0.9200    0.9200        25\n",
      "                          Glacier     0.9630    1.0000    0.9811        26\n",
      "     NationalFootballLeagueSeason     0.9861    0.9895    0.9878       286\n",
      "                      RugbyPlayer     0.7177    0.7177    0.7177       124\n",
      "                           Single     0.9041    0.9429    0.9231       140\n",
      "                            Mayor     0.7808    0.7703    0.7755        74\n",
      "                       VoiceActor     1.0000    0.9500    0.9744        20\n",
      "                    SoccerManager     0.9524    1.0000    0.9756        40\n",
      "                        Economist     0.9778    1.0000    0.9888        44\n",
      "                            Skier     0.9459    0.9589    0.9524        73\n",
      "                   HandballPlayer     0.9528    1.0000    0.9758       121\n",
      "                            Saint     0.9434    1.0000    0.9709        50\n",
      "                      RecordLabel     0.9455    0.9455    0.9455        55\n",
      "                     AmateurBoxer     0.9926    0.9854    0.9890       137\n",
      "                 HollywoodCartoon     0.9146    0.9081    0.9113       283\n",
      "                          Theatre     0.9677    1.0000    0.9836        30\n",
      "                      Legislature     0.9841    0.9688    0.9764        64\n",
      "                    ComicsCreator     0.9713    0.9576    0.9644       283\n",
      "                   GolfTournament     0.9365    0.9291    0.9328       127\n",
      "                 MilitaryConflict     0.9730    1.0000    0.9863        36\n",
      "                     CollegeCoach     0.9743    0.9888    0.9815       268\n",
      "                AnimangaCharacter     0.8845    0.9437    0.9131       284\n",
      "                     OlympicEvent     1.0000    0.9714    0.9855        70\n",
      "                       Convention     0.9073    0.8651    0.8857       215\n",
      "                       University     0.9167    0.9167    0.9167        24\n",
      "                  BadmintonPlayer     0.9437    0.9710    0.9571        69\n",
      "                   NCAATeamSeason     0.9925    0.9777    0.9850       269\n",
      "                        VideoGame     0.9885    0.9885    0.9885       260\n",
      "                          Gymnast     0.9879    0.9879    0.9879       165\n",
      "                        Amphibian     0.9863    0.9863    0.9863        73\n",
      "                             Band     0.9130    0.9545    0.9333        22\n",
      "              PublicTransitSystem     0.9775    1.0000    0.9886        87\n",
      "                             Bird     1.0000    1.0000    1.0000        45\n",
      "                GaelicGamesPlayer     0.9965    1.0000    0.9983       286\n",
      "                          Volcano     0.9745    0.9338    0.9537       287\n",
      "                            Hotel     1.0000    1.0000    1.0000        53\n",
      "                        Architect     1.0000    0.9965    0.9983       287\n",
      "                    MartialArtist     1.0000    1.0000    1.0000        79\n",
      "                       BusCompany     0.8621    0.9009    0.8811       111\n",
      "                     RadioStation     0.9929    0.9929    0.9929       281\n",
      "                       Crustacean     0.8272    0.8933    0.8590        75\n",
      "                          Airport     0.9286    0.9750    0.9512        40\n",
      "                       Lighthouse     0.9636    1.0000    0.9815       106\n",
      "                           Castle     0.9565    0.9429    0.9496        70\n",
      "                     SoccerPlayer     0.9778    0.9888    0.9832        89\n",
      "                   BaseballPlayer     1.0000    1.0000    1.0000       288\n",
      "                        HorseRace     0.9271    0.9674    0.9468        92\n",
      "                          Swimmer     0.9894    0.9825    0.9859       285\n",
      "                      Congressman     0.9861    0.9861    0.9861       287\n",
      "                          Stadium     0.9726    0.9726    0.9726        73\n",
      "                          Painter     0.9928    1.0000    0.9964       274\n",
      "               MemberOfParliament     1.0000    0.9965    0.9982       286\n",
      "                  ChristianBishop     1.0000    1.0000    1.0000        83\n",
      "                      CyclingRace     1.0000    1.0000    1.0000        67\n",
      "                        RugbyClub     0.9706    0.9706    0.9706        34\n",
      "                     HorseTrainer     1.0000    0.9965    0.9982       285\n",
      "                         Engineer     1.0000    1.0000    1.0000       178\n",
      "                             Fish     0.8300    0.8108    0.8203       259\n",
      "                         Arachnid     1.0000    1.0000    1.0000       130\n",
      "                           Prison     0.9730    1.0000    0.9863        36\n",
      "                        GrandPrix     1.0000    0.9714    0.9855        35\n",
      "                           Fungus     0.9930    0.9895    0.9913       287\n",
      "                    MountainRange     0.9954    1.0000    0.9977       217\n",
      "                 BroadcastNetwork     0.9000    1.0000    0.9474        36\n",
      "                   PoliticalParty     0.8592    0.9242    0.8905        66\n",
      "                     Entomologist     0.9828    1.0000    0.9913       286\n",
      "                           Planet     0.9874    0.9958    0.9916       236\n",
      "                 AutomobileEngine     0.9877    1.0000    0.9938       160\n",
      "                             Moss     0.9957    0.9872    0.9914       234\n",
      "                   BaseballSeason     0.9683    1.0000    0.9839        61\n",
      "                          Baronet     0.7333    0.9565    0.8302        23\n",
      "              ArtificialSatellite     0.9965    0.9895    0.9930       286\n",
      "                            Manga     0.9528    0.9680    0.9603       125\n",
      "                             Play     0.9667    1.0000    0.9831        29\n",
      "                       HockeyTeam     1.0000    0.9965    0.9982       285\n",
      "                 SoccerTournament     0.9963    0.9927    0.9945       273\n",
      "                    SoapCharacter     0.9762    0.8039    0.8817        51\n",
      "                            Cycad     0.9018    0.9545    0.9274       154\n",
      "                          Cyclist     0.9132    0.9529    0.9326       276\n",
      "                         Medician     1.0000    1.0000    1.0000        41\n",
      "                        President     0.9456    0.9823    0.9636       283\n",
      "                           School     1.0000    1.0000    1.0000        48\n",
      "                TelevisionStation     0.9826    0.9941    0.9883       170\n",
      "                   BasketballTeam     0.9700    0.9700    0.9700       100\n",
      "                         Mollusca     0.9947    0.9842    0.9894       190\n",
      "                      BeautyQueen     0.9043    0.9614    0.9320       285\n",
      "                            Noble     0.9717    0.9549    0.9632       288\n",
      "                 SoccerClubSeason     0.9857    0.9684    0.9770       285\n",
      "                      CyclingTeam     0.8587    0.8977    0.8778       176\n",
      "                    FootballMatch     0.9348    0.9149    0.9247        47\n",
      "                    PrimeMinister     0.8449    0.9435    0.8915       283\n",
      "                    MusicFestival     1.0000    0.9925    0.9962       266\n",
      "                      Philosopher     0.9310    0.8901    0.9101       273\n",
      "                        RadioHost     0.9964    0.9964    0.9964       278\n",
      "                         Hospital     0.9630    1.0000    0.9811        78\n",
      "                        RaceHorse     0.8792    0.8344    0.8562       157\n",
      "                           Museum     0.9795    1.0000    0.9897       287\n",
      "                       Earthquake     0.9268    0.9500    0.9383       240\n",
      "                             Poem     0.9500    0.9500    0.9500        40\n",
      "                            Anime     0.9158    0.9255    0.9206       282\n",
      "                    RollerCoaster     0.9800    0.9423    0.9608       104\n",
      "                       AdultActor     0.9551    0.9590    0.9571       244\n",
      "                       Ambassador     0.9682    0.9614    0.9648       285\n",
      "                             Bank     0.7143    0.7500    0.7317        40\n",
      "                     FigureSkater     0.9915    0.9915    0.9915       117\n",
      "                      RailwayLine     0.9281    0.9556    0.9416       135\n",
      "                  FashionDesigner     0.9726    0.9595    0.9660        74\n",
      "                        Newspaper     0.9965    1.0000    0.9983       286\n",
      "                          Airline     0.9896    0.9896    0.9896        96\n",
      "                        Historian     1.0000    0.9930    0.9965       286\n",
      "               MythologicalFigure     1.0000    1.0000    1.0000        25\n",
      "       EurovisionSongContestEntry     0.9776    0.9291    0.9527       282\n",
      "                   WrestlingEvent     0.9021    0.9085    0.9053       284\n",
      "                       Journalist     0.5403    0.4222    0.4740       270\n",
      "                       Racecourse     0.9930    0.9895    0.9913       287\n",
      "                 BasketballLeague     0.9872    0.9914    0.9893       233\n",
      "                     SoccerLeague     0.9017    0.8667    0.8839       180\n",
      "                        Religious     0.9500    0.9268    0.9383        41\n",
      "                          Village     1.0000    1.0000    1.0000       282\n",
      "                           Jockey     0.9639    0.9541    0.9590       196\n",
      "                   BusinessPerson     1.0000    0.8846    0.9388        26\n",
      "                       MusicGenre     1.0000    0.9412    0.9697        34\n",
      "                     HandballTeam     0.8065    0.8929    0.8475        28\n",
      "           AmericanFootballPlayer     1.0000    0.9692    0.9844        65\n",
      "               BiologicalDatabase     0.9822    0.9892    0.9857       279\n",
      "                         Canoeist     0.9722    0.9722    0.9722        36\n",
      "                  FormulaOneRacer     0.6882    0.6244    0.6547       205\n",
      "                     SumoWrestler     0.7042    0.7463    0.7246       134\n",
      "                 TennisTournament     0.9924    0.9924    0.9924       132\n",
      "                            River     0.8765    0.8068    0.8402       176\n",
      "                            Grape     0.9929    0.9858    0.9893       141\n",
      "                           Skater     1.0000    1.0000    1.0000       284\n",
      "                      RugbyLeague     0.9630    1.0000    0.9811        26\n",
      "        ClassicalMusicComposition     0.8929    0.7353    0.8065        34\n",
      "                             Fern     0.9685    0.9858    0.9771       281\n",
      "                     NascarDriver     0.9223    0.9545    0.9381       286\n",
      "                       Restaurant     1.0000    0.9952    0.9976       210\n",
      "                        Cricketer     0.9861    0.9965    0.9913       285\n",
      "                      Bodybuilder     0.7500    0.7895    0.7692        95\n",
      "                             Chef     0.9685    0.9788    0.9736       283\n",
      "                CultivatedVariety     0.9818    0.9730    0.9774       111\n",
      "                         Governor     1.0000    0.9928    0.9964       279\n",
      "                         Cardinal     0.9930    0.9930    0.9930       285\n",
      "                     SolarEclipse     0.9655    0.9655    0.9655        29\n",
      "                TableTennisPlayer     1.0000    1.0000    1.0000        72\n",
      "                            Model     0.9630    0.9630    0.9630        27\n",
      "                     FilmFestival     0.9906    0.9724    0.9814       217\n",
      "                     ScreenWriter     0.9474    0.9818    0.9643        55\n",
      "                          Brewery     0.9860    0.9965    0.9912       283\n",
      "                     SquashPlayer     0.9220    0.9155    0.9187       284\n",
      "    AustralianRulesFootballPlayer     0.9600    0.9362    0.9479       282\n",
      "                         Magazine     0.9697    0.9697    0.9697        66\n",
      "                       GolfCourse     0.7534    0.7143    0.7333        77\n",
      "WomensTennisAssociationTournament     0.9880    0.9763    0.9821       253\n",
      "                          LawFirm     0.9929    0.9859    0.9894       284\n",
      "                         Comedian     0.9808    1.0000    0.9903        51\n",
      "                     MountainPass     0.9883    1.0000    0.9941       253\n",
      "                           Winery     1.0000    1.0000    1.0000       251\n",
      "                        GreenAlga     0.9552    0.9788    0.9668       283\n",
      "                   RailwayStation     0.9741    0.9691    0.9716       194\n",
      "                  PlayboyPlaymate     0.9234    0.7668    0.8378       283\n",
      "                           Galaxy     0.8006    0.9298    0.8604       285\n",
      "                       RoadTunnel     0.9590    0.9791    0.9690       287\n",
      "                            Rower     1.0000    1.0000    1.0000        35\n",
      "                 SportsTeamMember     0.9851    0.9851    0.9851        67\n",
      "            MixedMartialArtsEvent     0.8372    0.6316    0.7200        57\n",
      "                     Photographer     1.0000    1.0000    1.0000        40\n",
      "             CanadianFootballTeam     0.9965    0.9895    0.9930       285\n",
      "                      DartsPlayer     0.9778    0.9778    0.9778        45\n",
      "                      CricketTeam     0.9962    1.0000    0.9981       263\n",
      "             ClassicalMusicArtist     0.9965    0.9965    0.9965       285\n",
      "                             Cave     1.0000    1.0000    1.0000        49\n",
      "                    CricketGround     0.9176    0.8982    0.9078       285\n",
      "           AustralianFootballTeam     1.0000    1.0000    1.0000       286\n",
      "                      PokerPlayer     0.9907    0.9907    0.9907       108\n",
      "                             Poet     0.9620    0.9870    0.9744        77\n",
      "                           Curler     0.9822    0.9718    0.9770       284\n",
      "                        Astronaut     0.9509    0.9568    0.9538       162\n",
      "                   BaseballLeague     0.9458    0.9324    0.9391       281\n",
      "                             Pope     0.9759    0.9861    0.9809       287\n",
      "            BeachVolleyballPlayer     0.9824    0.9789    0.9807       285\n",
      "                       ComicStrip     1.0000    1.0000    1.0000        52\n",
      "                    NetballPlayer     0.8356    0.8243    0.8299        74\n",
      "                  IceHockeyLeague     1.0000    0.9688    0.9841        32\n",
      "                            Canal     0.9811    1.0000    0.9905        52\n",
      "                   LacrossePlayer     1.0000    0.9915    0.9957       118\n",
      "\n",
      "                         accuracy                         0.9589     36003\n",
      "                        macro avg     0.9538    0.9559    0.9544     36003\n",
      "                     weighted avg     0.9586    0.9589    0.9584     36003\n",
      "\n",
      "\u001b[31mTEST DATA IS OUR SKYLINE RESULT\n"
     ]
    },
    {
     "data": {
      "text/html": [],
      "text/plain": [
       "<IPython.core.display.HTML object>"
      ]
     },
     "metadata": {},
     "output_type": "display_data"
    },
    {
     "name": "stdout",
     "output_type": "stream",
     "text": [
      "                                   precision    recall  f1-score   support\n",
      "\n",
      "                          Senator     0.9688    0.9608    0.9648       485\n",
      "                            Album     0.9275    0.8483    0.8861       211\n",
      "                         Mountain     0.9979    0.9979    0.9979       481\n",
      "                  AcademicJournal     0.9979    0.9959    0.9969       483\n",
      "                 HistoricBuilding     0.9938    1.0000    0.9969       480\n",
      "                          Reptile     0.9600    1.0000    0.9796        72\n",
      "                     MilitaryUnit     0.7838    0.8529    0.8169       102\n",
      "                            Judge     0.9726    0.9565    0.9645       483\n",
      "                      ChessPlayer     0.9979    0.9667    0.9820       481\n",
      "                       TradeUnion     1.0000    0.9730    0.9863        37\n",
      "                          Musical     0.9327    0.8899    0.9108       218\n",
      "                           Insect     0.9565    0.9925    0.9742       399\n",
      "                             Town     0.9760    0.9846    0.9803       454\n",
      "SupremeCourtOfTheUnitedStatesCase     1.0000    0.9975    0.9987       398\n",
      "                     TennisPlayer     0.9883    0.9461    0.9667       445\n",
      "                    SpeedwayRider     1.0000    0.9804    0.9901       102\n",
      "                        Publisher     1.0000    0.9865    0.9932        74\n",
      "                       GolfPlayer     0.9917    0.9979    0.9948       480\n",
      "                       HorseRider     1.0000    1.0000    1.0000        62\n",
      "                     ShoppingMall     1.0000    1.0000    1.0000       229\n",
      "                             Road     0.9539    0.9806    0.9671       464\n",
      "                   MilitaryPerson     0.9855    0.9917    0.9886       481\n",
      "                         Election     0.9453    0.9837    0.9641       123\n",
      "                ArtistDiscography     0.9310    1.0000    0.9643        54\n",
      "                     OfficeHolder     0.9978    0.9978    0.9978       459\n",
      "                  IceHockeyPlayer     0.9756    1.0000    0.9877        40\n",
      "                          Diocese     0.9674    1.0000    0.9834        89\n",
      "                          Library     0.9814    0.9876    0.9845       482\n",
      "                             Lake     0.9897    0.9863    0.9880       293\n",
      "                          Monarch     0.9459    1.0000    0.9722        35\n",
      "                          Conifer     0.9412    0.9771    0.9588       393\n",
      "                           Bridge     0.9697    0.9697    0.9697        33\n",
      "                              Dam     0.9958    0.9917    0.9938       482\n",
      "                 BasketballPlayer     1.0000    0.9762    0.9880        42\n",
      "                          Glacier     0.9565    1.0000    0.9778        44\n",
      "     NationalFootballLeagueSeason     0.9897    0.9917    0.9907       483\n",
      "                      RugbyPlayer     0.7554    0.6651    0.7074       209\n",
      "                           Single     0.8664    0.9619    0.9116       236\n",
      "                            Mayor     0.8214    0.7419    0.7797       124\n",
      "                       VoiceActor     0.9706    0.9706    0.9706        34\n",
      "                    SoccerManager     0.9571    0.9853    0.9710        68\n",
      "                        Economist     0.9867    1.0000    0.9933        74\n",
      "                            Skier     0.9435    0.9590    0.9512       122\n",
      "                   HandballPlayer     0.9667    0.9902    0.9783       205\n",
      "                            Saint     0.9326    0.9881    0.9595        84\n",
      "                      RecordLabel     0.9394    1.0000    0.9688        93\n",
      "                     AmateurBoxer     0.9957    1.0000    0.9978       232\n",
      "                 HollywoodCartoon     0.9231    0.9269    0.9250       479\n",
      "                          Theatre     0.9074    0.9800    0.9423        50\n",
      "                      Legislature     0.9725    0.9725    0.9725       109\n",
      "                    ComicsCreator     0.9478    0.9478    0.9478       479\n",
      "                   GolfTournament     0.9393    0.9393    0.9393       214\n",
      "                 MilitaryConflict     0.9344    0.9500    0.9421        60\n",
      "                     CollegeCoach     0.9739    0.9890    0.9814       453\n",
      "                AnimangaCharacter     0.8913    0.9563    0.9226       480\n",
      "                     OlympicEvent     0.9750    0.9915    0.9832       118\n",
      "                       Convention     0.9062    0.8512    0.8778       363\n",
      "                       University     0.8837    0.9268    0.9048        41\n",
      "                  BadmintonPlayer     1.0000    0.9914    0.9957       116\n",
      "                   NCAATeamSeason     0.9978    0.9868    0.9922       454\n",
      "                        VideoGame     0.9841    0.9886    0.9864       439\n",
      "                          Gymnast     0.9927    0.9784    0.9855       278\n",
      "                        Amphibian     1.0000    0.9919    0.9959       123\n",
      "                             Band     0.8947    0.9189    0.9067        37\n",
      "              PublicTransitSystem     0.9932    0.9932    0.9932       147\n",
      "                             Bird     1.0000    1.0000    1.0000        76\n",
      "                GaelicGamesPlayer     0.9979    0.9979    0.9979       484\n",
      "                          Volcano     0.9934    0.9339    0.9627       484\n",
      "                            Hotel     0.9783    1.0000    0.9890        90\n",
      "                        Architect     0.9938    0.9938    0.9938       484\n",
      "                    MartialArtist     1.0000    1.0000    1.0000       134\n",
      "                       BusCompany     0.9337    0.9037    0.9185       187\n",
      "                     RadioStation     0.9979    0.9958    0.9968       475\n",
      "                       Crustacean     0.8273    0.9127    0.8679       126\n",
      "                          Airport     0.9855    1.0000    0.9927        68\n",
      "                       Lighthouse     0.9727    1.0000    0.9861       178\n",
      "                           Castle     0.9496    0.9576    0.9536       118\n",
      "                     SoccerPlayer     0.9929    0.9272    0.9589       151\n",
      "                   BaseballPlayer     0.9979    1.0000    0.9990       485\n",
      "                        HorseRace     0.9494    0.9677    0.9585       155\n",
      "                          Swimmer     0.9833    0.9833    0.9833       480\n",
      "                      Congressman     0.9896    0.9773    0.9834       485\n",
      "                          Stadium     0.9385    0.9839    0.9606       124\n",
      "                          Painter     0.9893    0.9978    0.9935       462\n",
      "               MemberOfParliament     0.9979    0.9979    0.9979       483\n",
      "                  ChristianBishop     0.9860    1.0000    0.9930       141\n",
      "                      CyclingRace     1.0000    0.9823    0.9911       113\n",
      "                        RugbyClub     0.9194    0.9828    0.9500        58\n",
      "                     HorseTrainer     1.0000    0.9979    0.9990       482\n",
      "                         Engineer     1.0000    0.9900    0.9950       300\n",
      "                             Fish     0.8124    0.8402    0.8260       438\n",
      "                         Arachnid     1.0000    0.9909    0.9954       219\n",
      "                           Prison     0.9839    1.0000    0.9919        61\n",
      "                        GrandPrix     0.9825    0.9492    0.9655        59\n",
      "                           Fungus     1.0000    0.9979    0.9990       485\n",
      "                    MountainRange     1.0000    0.9973    0.9986       366\n",
      "                 BroadcastNetwork     0.9091    1.0000    0.9524        60\n",
      "                   PoliticalParty     0.8609    0.8919    0.8761       111\n",
      "                     Entomologist     0.9896    0.9896    0.9896       482\n",
      "                           Planet     0.9949    0.9799    0.9873       398\n",
      "                 AutomobileEngine     0.9852    0.9926    0.9889       269\n",
      "                             Moss     1.0000    1.0000    1.0000       395\n",
      "                   BaseballSeason     0.9901    0.9709    0.9804       103\n",
      "                          Baronet     0.7600    0.9744    0.8539        39\n",
      "              ArtificialSatellite     0.9958    0.9938    0.9948       482\n",
      "                            Manga     0.9628    0.9810    0.9718       211\n",
      "                             Play     0.8596    1.0000    0.9245        49\n",
      "                       HockeyTeam     0.9876    0.9938    0.9907       482\n",
      "                 SoccerTournament     0.9978    0.9870    0.9924       461\n",
      "                    SoapCharacter     0.9740    0.8721    0.9202        86\n",
      "                            Cycad     0.8587    0.9346    0.8950       260\n",
      "                          Cyclist     0.9296    0.9356    0.9326       466\n",
      "                         Medician     0.9857    0.9857    0.9857        70\n",
      "                        President     0.9421    0.9895    0.9652       477\n",
      "                           School     0.9756    0.9877    0.9816        81\n",
      "                TelevisionStation     0.9861    0.9895    0.9878       287\n",
      "                   BasketballTeam     0.9708    0.9822    0.9765       169\n",
      "                         Mollusca     0.9875    0.9844    0.9859       320\n",
      "                      BeautyQueen     0.8791    0.9357    0.9065       482\n",
      "                            Noble     0.9533    0.9691    0.9611       485\n",
      "                 SoccerClubSeason     0.9916    0.9813    0.9864       481\n",
      "                      CyclingTeam     0.9107    0.8923    0.9014       297\n",
      "                    FootballMatch     0.8750    0.8750    0.8750        80\n",
      "                    PrimeMinister     0.8644    0.8933    0.8786       478\n",
      "                    MusicFestival     0.9823    0.9866    0.9844       449\n",
      "                      Philosopher     0.9301    0.9221    0.9261       462\n",
      "                        RadioHost     0.9893    0.9809    0.9850       470\n",
      "                         Hospital     0.9778    1.0000    0.9888       132\n",
      "                        RaceHorse     0.8638    0.8377    0.8506       265\n",
      "                           Museum     0.9959    0.9918    0.9938       485\n",
      "                       Earthquake     0.9253    0.9458    0.9354       406\n",
      "                             Poem     0.8767    0.9552    0.9143        67\n",
      "                            Anime     0.9566    0.9265    0.9413       476\n",
      "                    RollerCoaster     0.9718    0.9829    0.9773       175\n",
      "                       AdultActor     0.9592    0.9709    0.9650       412\n",
      "                       Ambassador     0.9722    0.9419    0.9568       482\n",
      "                             Bank     0.7162    0.7910    0.7518        67\n",
      "                     FigureSkater     0.9895    0.9545    0.9717       198\n",
      "                      RailwayLine     0.9532    0.9825    0.9676       228\n",
      "                  FashionDesigner     0.9917    0.9677    0.9796       124\n",
      "                        Newspaper     1.0000    0.9917    0.9958       483\n",
      "                          Airline     0.9806    0.9441    0.9620       161\n",
      "                        Historian     0.9959    0.9959    0.9959       482\n",
      "               MythologicalFigure     1.0000    1.0000    1.0000        42\n",
      "       EurovisionSongContestEntry     0.9668    0.9181    0.9418       476\n",
      "                   WrestlingEvent     0.9172    0.9019    0.9095       479\n",
      "                       Journalist     0.5299    0.4276    0.4733       456\n",
      "                       Racecourse     0.9877    0.9938    0.9908       485\n",
      "                 BasketballLeague     0.9820    0.9720    0.9770       393\n",
      "                     SoccerLeague     0.8900    0.9046    0.8972       304\n",
      "                        Religious     0.8333    0.9286    0.8784        70\n",
      "                          Village     0.9958    0.9979    0.9969       476\n",
      "                           Jockey     0.9907    0.9698    0.9802       331\n",
      "                   BusinessPerson     0.9000    0.8182    0.8571        44\n",
      "                       MusicGenre     0.9636    0.9298    0.9464        57\n",
      "                     HandballTeam     0.8269    0.8958    0.8600        48\n",
      "           AmericanFootballPlayer     1.0000    1.0000    1.0000       110\n",
      "               BiologicalDatabase     0.9851    0.9788    0.9819       472\n",
      "                         Canoeist     0.9683    1.0000    0.9839        61\n",
      "                  FormulaOneRacer     0.6940    0.6358    0.6637       346\n",
      "                     SumoWrestler     0.6752    0.6960    0.6855       227\n",
      "                 TennisTournament     0.9910    0.9910    0.9910       223\n",
      "                            River     0.8496    0.7584    0.8014       298\n",
      "                            Grape     0.9412    0.9412    0.9412       238\n",
      "                           Skater     1.0000    1.0000    1.0000       480\n",
      "                      RugbyLeague     0.9762    0.9535    0.9647        43\n",
      "        ClassicalMusicComposition     0.8750    0.7368    0.8000        57\n",
      "                             Fern     0.9768    0.9789    0.9779       474\n",
      "                     NascarDriver     0.9220    0.9296    0.9258       483\n",
      "                       Restaurant     0.9889    1.0000    0.9944       356\n",
      "                        Cricketer     0.9896    0.9917    0.9907       481\n",
      "                      Bodybuilder     0.8250    0.8250    0.8250       160\n",
      "                             Chef     0.9649    0.9770    0.9709       478\n",
      "                CultivatedVariety     0.9840    0.9787    0.9813       188\n",
      "                         Governor     0.9895    0.9979    0.9937       472\n",
      "                         Cardinal     0.9937    0.9834    0.9885       482\n",
      "                     SolarEclipse     0.9423    1.0000    0.9703        49\n",
      "                TableTennisPlayer     1.0000    1.0000    1.0000       121\n",
      "                            Model     1.0000    1.0000    1.0000        45\n",
      "                     FilmFestival     0.9780    0.9727    0.9753       366\n",
      "                     ScreenWriter     0.8627    0.9462    0.9026        93\n",
      "                          Brewery     0.9896    1.0000    0.9948       478\n",
      "                     SquashPlayer     0.9371    0.9625    0.9496       480\n",
      "    AustralianRulesFootballPlayer     0.9745    0.9622    0.9683       476\n",
      "                         Magazine     0.9630    0.9286    0.9455       112\n",
      "                       GolfCourse     0.7500    0.7154    0.7323       130\n",
      "WomensTennisAssociationTournament     0.9907    0.9930    0.9918       427\n",
      "                          LawFirm     0.9896    0.9875    0.9885       480\n",
      "                         Comedian     0.9886    1.0000    0.9943        87\n",
      "                     MountainPass     0.9953    0.9977    0.9965       428\n",
      "                           Winery     1.0000    0.9953    0.9976       424\n",
      "                        GreenAlga     0.9557    0.9937    0.9744       478\n",
      "                   RailwayStation     0.9684    0.9358    0.9518       327\n",
      "                  PlayboyPlaymate     0.8991    0.8013    0.8473       478\n",
      "                           Galaxy     0.8277    0.9170    0.8701       482\n",
      "                       RoadTunnel     0.9617    0.9835    0.9725       485\n",
      "                            Rower     1.0000    1.0000    1.0000        60\n",
      "                 SportsTeamMember     0.9828    1.0000    0.9913       114\n",
      "            MixedMartialArtsEvent     0.8987    0.7320    0.8068        97\n",
      "                     Photographer     0.9853    0.9853    0.9853        68\n",
      "             CanadianFootballTeam     0.9854    0.9834    0.9844       481\n",
      "                      DartsPlayer     1.0000    0.9870    0.9935        77\n",
      "                      CricketTeam     1.0000    1.0000    1.0000       444\n",
      "             ClassicalMusicArtist     1.0000    1.0000    1.0000       482\n",
      "                             Cave     0.9765    1.0000    0.9881        83\n",
      "                    CricketGround     0.8860    0.9191    0.9022       482\n",
      "           AustralianFootballTeam     0.9979    0.9834    0.9906       483\n",
      "                      PokerPlayer     0.9834    0.9727    0.9780       183\n",
      "                             Poet     0.9760    0.9457    0.9606       129\n",
      "                           Curler     0.9623    0.9603    0.9613       479\n",
      "                        Astronaut     0.9539    0.9818    0.9676       274\n",
      "                   BaseballLeague     0.9462    0.9641    0.9551       474\n",
      "                             Pope     0.9959    0.9959    0.9959       484\n",
      "            BeachVolleyballPlayer     0.9651    0.9771    0.9711       481\n",
      "                       ComicStrip     0.9884    0.9770    0.9827        87\n",
      "                    NetballPlayer     0.8485    0.8960    0.8716       125\n",
      "                  IceHockeyLeague     0.9636    0.9636    0.9636        55\n",
      "                            Canal     0.9886    0.9886    0.9886        88\n",
      "                   LacrossePlayer     0.9950    1.0000    0.9975       198\n",
      "\n",
      "                         accuracy                         0.9587     60794\n",
      "                        macro avg     0.9516    0.9558    0.9532     60794\n",
      "                     weighted avg     0.9583    0.9587    0.9582     60794\n",
      "\n"
     ]
    }
   ],
   "source": [
    "\n",
    "\n",
    "# %%\n",
    "\n",
    "\n",
    "# %% [markdown]\n",
    "# eval dataset performance so that keywords_classes can be fixed\n",
    "\n",
    "# %%\n",
    "results = trainer.evaluate()\n",
    "\n",
    "# Predict using the trained model to get labels and predictions\n",
    "predictions, labels, _ = trainer.predict(eval_dataset)\n",
    "predictions = np.argmax(predictions, axis=1)\n",
    "\n",
    "\n",
    "# %%\n",
    "from sklearn.metrics import classification_report\n",
    "# Generate the classification report\n",
    "report = classification_report(\n",
    "    labels,\n",
    "    predictions,\n",
    "    target_names=df['label'].unique() , # Adjust this line as per your dataset\n",
    "    digits=4\n",
    ")\n",
    "\n",
    "print(report)\n",
    "\n",
    "\n",
    "# %% [markdown]\n",
    "# skyline\n",
    "\n",
    "# %%\n",
    "from colorama import Fore, Style\n",
    "\n",
    "# %%\n",
    "print(Fore.RED +\"TEST DATA IS OUR SKYLINE RESULT\")\n",
    " \n",
    "results = trainer.evaluate()\n",
    "\n",
    "# Predict using the trained model to get labels and predictions\n",
    "predictions, labels, _ = trainer.predict(test_dataset)\n",
    "predictions = np.argmax(predictions, axis=1)\n",
    "\n",
    "\n",
    "# %%\n",
    "from sklearn.metrics import classification_report\n",
    "# Generate the classification report\n",
    "report = classification_report(\n",
    "    labels,\n",
    "    predictions,\n",
    "    target_names=df['label'].unique() , # Adjust this line as per your dataset\n",
    "    digits=4\n",
    ")\n",
    "\n",
    "print(report)\n",
    "\n",
    "\n",
    "# %%\n",
    " \n",
    "\n",
    "\n",
    "\n",
    "\n",
    "\n",
    "\n",
    "\n",
    "\n"
   ]
  }
 ],
 "metadata": {
  "kernelspec": {
   "display_name": "om",
   "language": "python",
   "name": "python3"
  },
  "language_info": {
   "codemirror_mode": {
    "name": "ipython",
    "version": 3
   },
   "file_extension": ".py",
   "mimetype": "text/x-python",
   "name": "python",
   "nbconvert_exporter": "python",
   "pygments_lexer": "ipython3",
   "version": "3.10.12"
  }
 },
 "nbformat": 4,
 "nbformat_minor": 2
}
