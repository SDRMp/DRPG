{
 "cells": [
  {
   "cell_type": "code",
   "execution_count": 18,
   "metadata": {},
   "outputs": [],
   "source": [
    "dstype = 'cnews' \n",
    "mname = 'debertaV3'"
   ]
  },
  {
   "cell_type": "code",
   "execution_count": 19,
   "metadata": {},
   "outputs": [
    {
     "name": "stdout",
     "output_type": "stream",
     "text": [
      "/home/bhairavi/om/om5/cnews/debertaV3_cnews\n"
     ]
    }
   ],
   "source": [
    " \n",
    "modelpath = 'microsoft/deberta-v3-base'\n",
    "# modelpath = \"bert-base-uncased\"\n",
    "\n",
    "\n",
    "datapath = None\n",
    "saveDIR = f\"/home/bhairavi/om/om5/{dstype}/{mname}_{dstype}\"\n",
    "print(saveDIR)\n",
    "# %%"
   ]
  },
  {
   "cell_type": "code",
   "execution_count": null,
   "metadata": {},
   "outputs": [],
   "source": []
  },
  {
   "cell_type": "code",
   "execution_count": 20,
   "metadata": {},
   "outputs": [],
   "source": [
    "\n",
    "\n",
    "# %%\n",
    "# %%\n",
    " \n",
    "import os\n",
    "import torch  \n",
    "\n",
    "torch.cuda.empty_cache() \n",
    "\n",
    "import pandas as pd\n",
    "from datasets import Dataset, DatasetDict, load_metric\n",
    "from transformers import AutoTokenizer, AutoModelForSequenceClassification, TrainingArguments, Trainer\n",
    "import numpy as np\n",
    "import matplotlib.pyplot as plt\n",
    "from sklearn.model_selection import train_test_split\n",
    "from sklearn.metrics import accuracy_score, precision_recall_fscore_support, classification_report\n",
    " \n",
    "\n",
    " \n",
    "\n",
    "\n",
    "# %%\n",
    " \n"
   ]
  },
  {
   "cell_type": "code",
   "execution_count": 34,
   "metadata": {},
   "outputs": [],
   "source": [
    "df = pd.read_csv('/home/bhairavi/om/om5/cnews/cryptonews.csv')\n",
    "\n",
    "\n",
    "\n",
    " \n",
    " \n",
    " \n",
    " \n"
   ]
  },
  {
   "cell_type": "code",
   "execution_count": 35,
   "metadata": {},
   "outputs": [
    {
     "data": {
      "text/html": [
       "<div>\n",
       "<style scoped>\n",
       "    .dataframe tbody tr th:only-of-type {\n",
       "        vertical-align: middle;\n",
       "    }\n",
       "\n",
       "    .dataframe tbody tr th {\n",
       "        vertical-align: top;\n",
       "    }\n",
       "\n",
       "    .dataframe thead th {\n",
       "        text-align: right;\n",
       "    }\n",
       "</style>\n",
       "<table border=\"1\" class=\"dataframe\">\n",
       "  <thead>\n",
       "    <tr style=\"text-align: right;\">\n",
       "      <th></th>\n",
       "      <th>date</th>\n",
       "      <th>sentiment</th>\n",
       "      <th>source</th>\n",
       "      <th>subject</th>\n",
       "      <th>text</th>\n",
       "      <th>title</th>\n",
       "      <th>url</th>\n",
       "    </tr>\n",
       "  </thead>\n",
       "  <tbody>\n",
       "    <tr>\n",
       "      <th>11784</th>\n",
       "      <td>2023-04-22 10:52:00</td>\n",
       "      <td>{'class': 'positive', 'polarity': 0.35, 'subje...</td>\n",
       "      <td>CryptoPotato</td>\n",
       "      <td>bitcoin</td>\n",
       "      <td>The controversial model sees bitcoin more than...</td>\n",
       "      <td>This Will Be Bitcoin’s Price During the Next H...</td>\n",
       "      <td>https://cryptopotato.com/this-will-be-bitcoins...</td>\n",
       "    </tr>\n",
       "    <tr>\n",
       "      <th>16508</th>\n",
       "      <td>2022-12-30 11:54:44</td>\n",
       "      <td>{'class': 'positive', 'polarity': 0.22, 'subje...</td>\n",
       "      <td>CoinTelegraph</td>\n",
       "      <td>ethereum</td>\n",
       "      <td>ETH price bulls struggle as futures remain tra...</td>\n",
       "      <td>Ethereum needs to defend $1,180 to sustain thi...</td>\n",
       "      <td>https://cointelegraph.com/news/ethereum-needs-...</td>\n",
       "    </tr>\n",
       "    <tr>\n",
       "      <th>22570</th>\n",
       "      <td>2022-07-28 11:21:20</td>\n",
       "      <td>{'class': 'neutral', 'polarity': 0.0, 'subject...</td>\n",
       "      <td>CoinTelegraph</td>\n",
       "      <td>altcoin</td>\n",
       "      <td>LDO has recently witnessed a growing bearish d...</td>\n",
       "      <td>Lido DAO: Ethereum's biggest 'Merge' staker so...</td>\n",
       "      <td>https://cointelegraph.com/news/lido-dao-ethere...</td>\n",
       "    </tr>\n",
       "    <tr>\n",
       "      <th>17491</th>\n",
       "      <td>2022-12-03 14:34:02</td>\n",
       "      <td>{'class': 'positive', 'polarity': 0.03, 'subje...</td>\n",
       "      <td>CoinTelegraph</td>\n",
       "      <td>defi</td>\n",
       "      <td>Smart contacts capable of handling complex com...</td>\n",
       "      <td>The future of smart contract adoption for ente...</td>\n",
       "      <td>https://cointelegraph.com/news/the-future-of-s...</td>\n",
       "    </tr>\n",
       "    <tr>\n",
       "      <th>21982</th>\n",
       "      <td>2022-08-15 02:01:00</td>\n",
       "      <td>{'class': 'positive', 'polarity': 0.15, 'subje...</td>\n",
       "      <td>CryptoPotato</td>\n",
       "      <td>altcoin</td>\n",
       "      <td>Monero executed a hard fork to be more secure ...</td>\n",
       "      <td>Monero Executes Hard Fork To Improve Security ...</td>\n",
       "      <td>https://cryptopotato.com/monero-executes-hard-...</td>\n",
       "    </tr>\n",
       "  </tbody>\n",
       "</table>\n",
       "</div>"
      ],
      "text/plain": [
       "                      date                                          sentiment  \\\n",
       "11784  2023-04-22 10:52:00  {'class': 'positive', 'polarity': 0.35, 'subje...   \n",
       "16508  2022-12-30 11:54:44  {'class': 'positive', 'polarity': 0.22, 'subje...   \n",
       "22570  2022-07-28 11:21:20  {'class': 'neutral', 'polarity': 0.0, 'subject...   \n",
       "17491  2022-12-03 14:34:02  {'class': 'positive', 'polarity': 0.03, 'subje...   \n",
       "21982  2022-08-15 02:01:00  {'class': 'positive', 'polarity': 0.15, 'subje...   \n",
       "\n",
       "              source   subject  \\\n",
       "11784   CryptoPotato   bitcoin   \n",
       "16508  CoinTelegraph  ethereum   \n",
       "22570  CoinTelegraph   altcoin   \n",
       "17491  CoinTelegraph      defi   \n",
       "21982   CryptoPotato   altcoin   \n",
       "\n",
       "                                                    text  \\\n",
       "11784  The controversial model sees bitcoin more than...   \n",
       "16508  ETH price bulls struggle as futures remain tra...   \n",
       "22570  LDO has recently witnessed a growing bearish d...   \n",
       "17491  Smart contacts capable of handling complex com...   \n",
       "21982  Monero executed a hard fork to be more secure ...   \n",
       "\n",
       "                                                   title  \\\n",
       "11784  This Will Be Bitcoin’s Price During the Next H...   \n",
       "16508  Ethereum needs to defend $1,180 to sustain thi...   \n",
       "22570  Lido DAO: Ethereum's biggest 'Merge' staker so...   \n",
       "17491  The future of smart contract adoption for ente...   \n",
       "21982  Monero Executes Hard Fork To Improve Security ...   \n",
       "\n",
       "                                                     url  \n",
       "11784  https://cryptopotato.com/this-will-be-bitcoins...  \n",
       "16508  https://cointelegraph.com/news/ethereum-needs-...  \n",
       "22570  https://cointelegraph.com/news/lido-dao-ethere...  \n",
       "17491  https://cointelegraph.com/news/the-future-of-s...  \n",
       "21982  https://cryptopotato.com/monero-executes-hard-...  "
      ]
     },
     "execution_count": 35,
     "metadata": {},
     "output_type": "execute_result"
    }
   ],
   "source": [
    "\n",
    "# %%\n",
    "\n",
    "# %%\n",
    "df.sample(5)\n",
    "\n",
    "\n",
    "# %%\n"
   ]
  },
  {
   "cell_type": "code",
   "execution_count": 36,
   "metadata": {},
   "outputs": [],
   "source": [
    "df['text']  = df['text'] + df['title']"
   ]
  },
  {
   "cell_type": "code",
   "execution_count": 37,
   "metadata": {},
   "outputs": [],
   "source": [
    "df['label'] = df['subject']"
   ]
  },
  {
   "cell_type": "code",
   "execution_count": 38,
   "metadata": {},
   "outputs": [
    {
     "data": {
      "text/plain": [
       "Index(['date', 'sentiment', 'source', 'subject', 'text', 'title', 'url',\n",
       "       'label'],\n",
       "      dtype='object')"
      ]
     },
     "execution_count": 38,
     "metadata": {},
     "output_type": "execute_result"
    }
   ],
   "source": [
    "df.columns"
   ]
  },
  {
   "cell_type": "code",
   "execution_count": 39,
   "metadata": {},
   "outputs": [],
   "source": [
    "\n",
    "\n",
    "# %%\n",
    "\n",
    "# %%\n",
    "from sklearn.preprocessing import LabelEncoder\n",
    "\n",
    "# %%\n",
    "le = LabelEncoder()\n",
    "df['target'] = le.fit_transform(df['label'])\n",
    "\n",
    "# %%\n"
   ]
  },
  {
   "cell_type": "code",
   "execution_count": 40,
   "metadata": {},
   "outputs": [
    {
     "data": {
      "text/plain": [
       "6"
      ]
     },
     "execution_count": 40,
     "metadata": {},
     "output_type": "execute_result"
    },
    {
     "data": {
      "image/png": "[encoded data removed]",
      "text/plain": [
       "<Figure size 800x600 with 1 Axes>"
      ]
     },
     "metadata": {},
     "output_type": "display_data"
    }
   ],
   "source": [
    "\n",
    "\n",
    "\n",
    "# %%\n",
    "\n",
    "# %%\n",
    "fig = plt.figure(figsize=(8,6)) \n",
    "df.groupby('label').text.count().sort_values().plot.barh(\n",
    "    ylim=0,   title= 'NUMBER OF text IN EACH label CATEGORY\\n')\n",
    "plt.xlabel('Number of ocurrences', fontsize = 10);\n",
    "\n",
    "\n",
    "# %%\n",
    "\n",
    "\n",
    "# %%\n",
    "\n",
    "# %%\n",
    "numlabel = df['target'].nunique()\n",
    "numlabel\n"
   ]
  },
  {
   "cell_type": "code",
   "execution_count": 41,
   "metadata": {},
   "outputs": [],
   "source": [
    "df = df[['text', 'target','label']]\n"
   ]
  },
  {
   "cell_type": "code",
   "execution_count": 42,
   "metadata": {},
   "outputs": [
    {
     "data": {
      "text/plain": [
       "Index(['text', 'target', 'label'], dtype='object')"
      ]
     },
     "execution_count": 42,
     "metadata": {},
     "output_type": "execute_result"
    }
   ],
   "source": [
    "df.columns"
   ]
  },
  {
   "cell_type": "code",
   "execution_count": 43,
   "metadata": {},
   "outputs": [
    {
     "data": {
      "text/plain": [
       "6"
      ]
     },
     "execution_count": 43,
     "metadata": {},
     "output_type": "execute_result"
    }
   ],
   "source": [
    "numlabel = df['target'].nunique()\n",
    "numlabel\n"
   ]
  },
  {
   "cell_type": "code",
   "execution_count": 44,
   "metadata": {},
   "outputs": [
    {
     "name": "stderr",
     "output_type": "stream",
     "text": [
      "/home/bhairavi/om/lib/python3.10/site-packages/transformers/tokenization_utils_base.py:1601: FutureWarning: `clean_up_tokenization_spaces` was not set. It will be set to `True` by default. This behavior will be depracted in transformers v4.45, and will be then set to `False` by default. For more details check this issue: https://github.com/huggingface/transformers/issues/31884\n",
      "  warnings.warn(\n",
      "/home/bhairavi/om/lib/python3.10/site-packages/transformers/convert_slow_tokenizer.py:551: UserWarning: The sentencepiece tokenizer that you are converting to a fast tokenizer uses the byte fallback option which is not implemented in the fast tokenizers. In practice this means that the fast version of the tokenizer can produce unknown tokens whereas the sentencepiece version would have converted these unknown tokens into a sequence of byte tokens matching the original piece of text.\n",
      "  warnings.warn(\n",
      "Some weights of DebertaV2ForSequenceClassification were not initialized from the model checkpoint at microsoft/deberta-v3-base and are newly initialized: ['classifier.bias', 'classifier.weight', 'pooler.dense.bias', 'pooler.dense.weight']\n",
      "You should probably TRAIN this model on a down-stream task to be able to use it for predictions and inference.\n"
     ]
    },
    {
     "data": {
      "text/plain": [
       "DebertaV2ForSequenceClassification(\n",
       "  (deberta): DebertaV2Model(\n",
       "    (embeddings): DebertaV2Embeddings(\n",
       "      (word_embeddings): Embedding(128100, 768, padding_idx=0)\n",
       "      (LayerNorm): LayerNorm((768,), eps=1e-07, elementwise_affine=True)\n",
       "      (dropout): StableDropout()\n",
       "    )\n",
       "    (encoder): DebertaV2Encoder(\n",
       "      (layer): ModuleList(\n",
       "        (0-11): 12 x DebertaV2Layer(\n",
       "          (attention): DebertaV2Attention(\n",
       "            (self): DisentangledSelfAttention(\n",
       "              (query_proj): Linear(in_features=768, out_features=768, bias=True)\n",
       "              (key_proj): Linear(in_features=768, out_features=768, bias=True)\n",
       "              (value_proj): Linear(in_features=768, out_features=768, bias=True)\n",
       "              (pos_dropout): StableDropout()\n",
       "              (dropout): StableDropout()\n",
       "            )\n",
       "            (output): DebertaV2SelfOutput(\n",
       "              (dense): Linear(in_features=768, out_features=768, bias=True)\n",
       "              (LayerNorm): LayerNorm((768,), eps=1e-07, elementwise_affine=True)\n",
       "              (dropout): StableDropout()\n",
       "            )\n",
       "          )\n",
       "          (intermediate): DebertaV2Intermediate(\n",
       "            (dense): Linear(in_features=768, out_features=3072, bias=True)\n",
       "            (intermediate_act_fn): GELUActivation()\n",
       "          )\n",
       "          (output): DebertaV2Output(\n",
       "            (dense): Linear(in_features=3072, out_features=768, bias=True)\n",
       "            (LayerNorm): LayerNorm((768,), eps=1e-07, elementwise_affine=True)\n",
       "            (dropout): StableDropout()\n",
       "          )\n",
       "        )\n",
       "      )\n",
       "      (rel_embeddings): Embedding(512, 768)\n",
       "      (LayerNorm): LayerNorm((768,), eps=1e-07, elementwise_affine=True)\n",
       "    )\n",
       "  )\n",
       "  (pooler): ContextPooler(\n",
       "    (dense): Linear(in_features=768, out_features=768, bias=True)\n",
       "    (dropout): StableDropout()\n",
       "  )\n",
       "  (classifier): Linear(in_features=768, out_features=6, bias=True)\n",
       "  (dropout): StableDropout()\n",
       ")"
      ]
     },
     "execution_count": 44,
     "metadata": {},
     "output_type": "execute_result"
    }
   ],
   "source": [
    "from transformers import AutoTokenizer, AutoModelForSequenceClassification\n",
    "\n",
    "device = \"cuda\"  # the device to load the model onto\n",
    "\n",
    "# Load the tokenizer and model\n",
    "tokenizer = AutoTokenizer.from_pretrained(modelpath)\n",
    "model = AutoModelForSequenceClassification.from_pretrained(modelpath, num_labels=numlabel)\n",
    "\n",
    "# Move the model to the specified device\n",
    "model.to(device)"
   ]
  },
  {
   "cell_type": "code",
   "execution_count": null,
   "metadata": {},
   "outputs": [],
   "source": []
  },
  {
   "cell_type": "code",
   "execution_count": 45,
   "metadata": {},
   "outputs": [
    {
     "name": "stdout",
     "output_type": "stream",
     "text": [
      "Maximum token length: 102\n",
      "Next maximum token length: 95\n",
      "Average token length: 32.94\n"
     ]
    },
    {
     "data": {
      "text/plain": [
       "11"
      ]
     },
     "execution_count": 45,
     "metadata": {},
     "output_type": "execute_result"
    }
   ],
   "source": [
    "df['token_length'] = df['text'].apply(lambda x: len(x.split()))\n",
    "\n",
    "# Calculate the maximum token length\n",
    "max_length = df['token_length'].max()\n",
    "# Calculate the next maximum token length\n",
    "next_max_token_length = df['token_length'].nlargest(2).iloc[1] \n",
    "\n",
    "\n",
    "# Calculate the average token length\n",
    "average_token_length = df['token_length'].mean()\n",
    "\n",
    "# Display the results\n",
    "print(f\"Maximum token length: {max_length}\")\n",
    "print(f\"Next maximum token length: {next_max_token_length}\") \n",
    "print(f\"Average token length: {average_token_length:.2f}\")\n",
    "\n",
    "# %%\n",
    "min(df['token_length'])\n"
   ]
  },
  {
   "cell_type": "code",
   "execution_count": 46,
   "metadata": {},
   "outputs": [
    {
     "name": "stderr",
     "output_type": "stream",
     "text": [
      "Map: 100%|██████████| 25062/25062 [00:06<00:00, 4080.57 examples/s]\n",
      "Map: 100%|██████████| 4423/4423 [00:00<00:00, 4501.67 examples/s]\n",
      "Map: 100%|██████████| 1552/1552 [00:00<00:00, 4013.43 examples/s]\n"
     ]
    }
   ],
   "source": [
    "\n",
    "# %%\n",
    "from sklearn.model_selection import StratifiedShuffleSplit\n",
    "\n",
    "# Splitting off the test set with 5% of the data\n",
    "sss = StratifiedShuffleSplit(n_splits=1, test_size=0.05, random_state=42)  # 5% for test\n",
    "for train_val_idx, test_idx in sss.split(df, df['target']):\n",
    "    train_val_df = df.iloc[train_val_idx]\n",
    "    test_df = df.iloc[test_idx]\n",
    "\n",
    "# Further split train_val_df into train and validation sets with validation set being 15.79% of the remaining data\n",
    "# (which is equivalent to 15% of the original dataset size)\n",
    "sss_val = StratifiedShuffleSplit(n_splits=1, test_size=0.15, random_state=42)  # ~15.79% of remaining data\n",
    "for train_idx, val_idx in sss_val.split(train_val_df, train_val_df['target']):\n",
    "    train_df = train_val_df.iloc[train_idx]\n",
    "    val_df = train_val_df.iloc[val_idx]\n",
    " \n",
    "\n",
    "def tokenize_and_format(examples):\n",
    "    # Tokenize the texts\n",
    "    tokenized_inputs = tokenizer(examples['text'], padding=\"max_length\", truncation=True, max_length=max_length)\n",
    "    tokenized_inputs['label'] = list(map(int, examples['target']))\n",
    "    return tokenized_inputs\n",
    "\n",
    "# Convert pandas DataFrame to Hugging Face's Dataset\n",
    "train_dataset = Dataset.from_pandas(train_df)\n",
    "eval_dataset = Dataset.from_pandas(val_df) \n",
    "test_dataset = Dataset.from_pandas(test_df)\n",
    "\n",
    "# Map the tokenization function across the datasets\n",
    "train_dataset = train_dataset.map(tokenize_and_format, batched=True,batch_size=16)\n",
    "eval_dataset = eval_dataset.map(tokenize_and_format, batched=True,batch_size=16) \n",
    "test_dataset = test_dataset.map(tokenize_and_format, batched=True,batch_size=16)\n",
    "\n",
    "\n"
   ]
  },
  {
   "cell_type": "code",
   "execution_count": 47,
   "metadata": {},
   "outputs": [
    {
     "name": "stderr",
     "output_type": "stream",
     "text": [
      "/home/bhairavi/om/lib/python3.10/site-packages/transformers/training_args.py:1525: FutureWarning: `evaluation_strategy` is deprecated and will be removed in version 4.46 of 🤗 Transformers. Use `eval_strategy` instead\n",
      "  warnings.warn(\n"
     ]
    },
    {
     "data": {
      "text/html": [
       "\n",
       "    <div>\n",
       "      \n",
       "      <progress value='9399' max='9399' style='width:300px; height:20px; vertical-align: middle;'></progress>\n",
       "      [9399/9399 29:55, Epoch 3/3]\n",
       "    </div>\n",
       "    <table border=\"1\" class=\"dataframe\">\n",
       "  <thead>\n",
       " <tr style=\"text-align: left;\">\n",
       "      <th>Epoch</th>\n",
       "      <th>Training Loss</th>\n",
       "      <th>Validation Loss</th>\n",
       "      <th>F1</th>\n",
       "      <th>Precision</th>\n",
       "      <th>Recall</th>\n",
       "    </tr>\n",
       "  </thead>\n",
       "  <tbody>\n",
       "    <tr>\n",
       "      <td>1</td>\n",
       "      <td>0.636200</td>\n",
       "      <td>0.730531</td>\n",
       "      <td>0.758987</td>\n",
       "      <td>0.772809</td>\n",
       "      <td>0.759891</td>\n",
       "    </tr>\n",
       "    <tr>\n",
       "      <td>2</td>\n",
       "      <td>0.575500</td>\n",
       "      <td>0.633030</td>\n",
       "      <td>0.778956</td>\n",
       "      <td>0.786721</td>\n",
       "      <td>0.780014</td>\n",
       "    </tr>\n",
       "    <tr>\n",
       "      <td>3</td>\n",
       "      <td>0.282300</td>\n",
       "      <td>0.701260</td>\n",
       "      <td>0.777560</td>\n",
       "      <td>0.787370</td>\n",
       "      <td>0.776622</td>\n",
       "    </tr>\n",
       "  </tbody>\n",
       "</table><p>"
      ],
      "text/plain": [
       "<IPython.core.display.HTML object>"
      ]
     },
     "metadata": {},
     "output_type": "display_data"
    },
    {
     "data": {
      "text/plain": [
       "TrainOutput(global_step=9399, training_loss=0.6487288855532278, metrics={'train_runtime': 1796.5929, 'train_samples_per_second': 41.849, 'train_steps_per_second': 5.232, 'total_flos': 3941210880727344.0, 'train_loss': 0.6487288855532278, 'epoch': 3.0})"
      ]
     },
     "execution_count": 47,
     "metadata": {},
     "output_type": "execute_result"
    }
   ],
   "source": [
    "\n",
    "\n",
    "# %%\n",
    "from sklearn.metrics import f1_score, precision_score, recall_score\n",
    "\n",
    "def compute_metrics(pred):\n",
    "    labels = pred.label_ids\n",
    "    preds = pred.predictions.argmax(-1)\n",
    "    f1 = f1_score(labels, preds, average='weighted')\n",
    "    precision = precision_score(labels, preds, average='weighted')\n",
    "    recall = recall_score(labels, preds, average='weighted')\n",
    "    return {\n",
    "        'eval_f1': f1,\n",
    "        'eval_precision': precision,\n",
    "        'eval_recall': recall,\n",
    "    }\n",
    "\n",
    " \n",
    "\n",
    "\n",
    "# %%\n",
    "\n",
    "# %%\n",
    " \n",
    "\n",
    "training_args = TrainingArguments(\n",
    "    output_dir=\"./results\",\n",
    "    evaluation_strategy=\"epoch\",  # Use 'epoch' to evaluate at the end of each epoch\n",
    "    save_strategy=\"epoch\",  # Also use 'epoch' to save at the end of each epoch\n",
    "    learning_rate=2e-5,\n",
    "    per_device_train_batch_size=8,\n",
    "    per_device_eval_batch_size=8,\n",
    "    num_train_epochs=3,\n",
    "    weight_decay=0.01,\n",
    "    load_best_model_at_end=True,  # Load the best model at the end of training based on metric\n",
    "    metric_for_best_model='f1',  # Define the metric for evaluating the best model\n",
    "    logging_dir='./logs',\n",
    "    logging_steps=10,\n",
    "    report_to=[] \n",
    ")\n",
    "\n",
    "\n",
    " \n",
    "\n",
    "trainer = Trainer(\n",
    "    model=model,\n",
    "    args=training_args ,  # Here you will need to make sure that the Trainer is set up correctly\n",
    "    compute_metrics=compute_metrics,\n",
    "    train_dataset=train_dataset,\n",
    "    eval_dataset=eval_dataset,\n",
    "    tokenizer=tokenizer\n",
    ")\n",
    "\n",
    "# Start training\n",
    "trainer.train()\n",
    "\n",
    " \n",
    " \n",
    "\n"
   ]
  },
  {
   "cell_type": "code",
   "execution_count": 48,
   "metadata": {},
   "outputs": [
    {
     "data": {
      "text/plain": [
       "('/home/bhairavi/om/om5/cnews/debertaV3_cnews/tokenizer_config.json',\n",
       " '/home/bhairavi/om/om5/cnews/debertaV3_cnews/special_tokens_map.json',\n",
       " '/home/bhairavi/om/om5/cnews/debertaV3_cnews/spm.model',\n",
       " '/home/bhairavi/om/om5/cnews/debertaV3_cnews/added_tokens.json',\n",
       " '/home/bhairavi/om/om5/cnews/debertaV3_cnews/tokenizer.json')"
      ]
     },
     "execution_count": 48,
     "metadata": {},
     "output_type": "execute_result"
    }
   ],
   "source": [
    "save_directory = saveDIR\n",
    " \n",
    "\n",
    "# Save the model\n",
    "model.save_pretrained(save_directory)\n",
    "\n",
    "# Save the tokenizer (optional, but recommended)\n",
    "tokenizer.save_pretrained(save_directory)"
   ]
  },
  {
   "cell_type": "code",
   "execution_count": 49,
   "metadata": {},
   "outputs": [
    {
     "data": {
      "text/html": [],
      "text/plain": [
       "<IPython.core.display.HTML object>"
      ]
     },
     "metadata": {},
     "output_type": "display_data"
    },
    {
     "name": "stdout",
     "output_type": "stream",
     "text": [
      "\u001b[36m keywords class evaluation detection RESULTS\n",
      "              precision    recall  f1-score   support\n",
      "\n",
      "     altcoin     0.8680    0.8404    0.8540      1322\n",
      "  blockchain     0.8776    0.8276    0.8519      1421\n",
      "    ethereum     0.6110    0.7646    0.6792       990\n",
      "     bitcoin     0.5161    0.2162    0.3048       148\n",
      "         nft     0.7360    0.6883    0.7113       324\n",
      "        defi     0.7588    0.6927    0.7242       218\n",
      "\n",
      "    accuracy                         0.7800      4423\n",
      "   macro avg     0.7279    0.6716    0.6876      4423\n",
      "weighted avg     0.7867    0.7800    0.7790      4423\n",
      "\n"
     ]
    }
   ],
   "source": [
    "\n",
    "# %%\n",
    "from colorama import Fore, Style\n",
    "\n",
    "\n",
    "# %% [markdown]\n",
    "# eval dataset performance so that keywords_classes can be fixed\n",
    "\n",
    "# %%\n",
    "results = trainer.evaluate()\n",
    "\n",
    "# Predict using the trained model to get labels and predictions\n",
    "predictions, labels, _ = trainer.predict(eval_dataset)\n",
    "predictions = np.argmax(predictions, axis=1)\n",
    "\n",
    "\n",
    "# %%\n",
    "from sklearn.metrics import classification_report\n",
    "# Generate the classification report\n",
    "report = classification_report(\n",
    "    labels,\n",
    "    predictions,\n",
    "    target_names=df['label'].unique() , # Adjust this line as per your dataset\n",
    "    digits=4\n",
    ")\n",
    "print(Fore.CYAN,\"keywords class evaluation detection RESULTS\")\n",
    "print(report)\n",
    "\n",
    "\n",
    "# %% [markdown]\n",
    "# skyline\n",
    "\n",
    "# %%\n"
   ]
  },
  {
   "cell_type": "code",
   "execution_count": 50,
   "metadata": {},
   "outputs": [
    {
     "name": "stdout",
     "output_type": "stream",
     "text": [
      "\u001b[31mTEST DATA IS OUR SKYLINE RESULT\n"
     ]
    },
    {
     "data": {
      "text/html": [],
      "text/plain": [
       "<IPython.core.display.HTML object>"
      ]
     },
     "metadata": {},
     "output_type": "display_data"
    },
    {
     "name": "stdout",
     "output_type": "stream",
     "text": [
      "              precision    recall  f1-score   support\n",
      "\n",
      "     altcoin     0.8810    0.8297    0.8546       464\n",
      "  blockchain     0.8866    0.8474    0.8665       498\n",
      "    ethereum     0.6152    0.7925    0.6927       347\n",
      "     bitcoin     0.4000    0.1923    0.2597        52\n",
      "         nft     0.6875    0.5789    0.6286       114\n",
      "        defi     0.6620    0.6104    0.6351        77\n",
      "\n",
      "    accuracy                         0.7764      1552\n",
      "   macro avg     0.6887    0.6419    0.6562      1552\n",
      "weighted avg     0.7822    0.7764    0.7748      1552\n",
      "\n"
     ]
    }
   ],
   "source": [
    "\n",
    "\n",
    "# %%\n",
    "print(Fore.RED +\"TEST DATA IS OUR SKYLINE RESULT\")\n",
    " \n",
    "results = trainer.evaluate()\n",
    "\n",
    "# Predict using the trained model to get labels and predictions\n",
    "predictions, labels, _ = trainer.predict(test_dataset)\n",
    "predictions = np.argmax(predictions, axis=1)\n",
    "\n",
    "\n",
    "# %%\n",
    "from sklearn.metrics import classification_report\n",
    "# Generate the classification report\n",
    "report = classification_report(\n",
    "    labels,\n",
    "    predictions,\n",
    "    target_names=df['label'].unique() , # Adjust this line as per your dataset\n",
    "    digits=4\n",
    ")\n",
    "\n",
    "print(report)\n"
   ]
  }
 ],
 "metadata": {
  "kernelspec": {
   "display_name": "om",
   "language": "python",
   "name": "python3"
  },
  "language_info": {
   "codemirror_mode": {
    "name": "ipython",
    "version": 3
   },
   "file_extension": ".py",
   "mimetype": "text/x-python",
   "name": "python",
   "nbconvert_exporter": "python",
   "pygments_lexer": "ipython3",
   "version": "3.10.12"
  }
 },
 "nbformat": 4,
 "nbformat_minor": 2
}
