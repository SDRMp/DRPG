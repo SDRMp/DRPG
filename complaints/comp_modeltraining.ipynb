{
 "cells": [
  {
   "cell_type": "code",
   "execution_count": 1,
   "metadata": {},
   "outputs": [],
   "source": [
    "dstype = 'comp' \n",
    "mname = 'debertaV3'"
   ]
  },
  {
   "cell_type": "code",
   "execution_count": 2,
   "metadata": {},
   "outputs": [
    {
     "name": "stdout",
     "output_type": "stream",
     "text": [
      "/home/bhairavi/om/om5/comp/debertaV3_comp\n"
     ]
    }
   ],
   "source": [
    " \n",
    "modelpath = 'microsoft/deberta-v3-base'\n",
    "# modelpath = \"bert-base-uncased\"\n",
    "\n",
    "\n",
    "datapath = None\n",
    "saveDIR = f\"/home/bhairavi/om/om5/{dstype}/{mname}_{dstype}\"\n",
    "print(saveDIR)\n",
    "# %%"
   ]
  },
  {
   "cell_type": "code",
   "execution_count": null,
   "metadata": {},
   "outputs": [],
   "source": []
  },
  {
   "cell_type": "code",
   "execution_count": 3,
   "metadata": {},
   "outputs": [
    {
     "name": "stderr",
     "output_type": "stream",
     "text": [
      "/home/bhairavi/om/lib/python3.10/site-packages/tqdm/auto.py:21: TqdmWarning: IProgress not found. Please update jupyter and ipywidgets. See https://ipywidgets.readthedocs.io/en/stable/user_install.html\n",
      "  from .autonotebook import tqdm as notebook_tqdm\n"
     ]
    }
   ],
   "source": [
    "\n",
    "\n",
    "# %%\n",
    "# %%\n",
    " \n",
    "import os\n",
    "import torch  \n",
    "\n",
    "torch.cuda.empty_cache() \n",
    "\n",
    "import pandas as pd\n",
    "from datasets import Dataset, DatasetDict, load_metric\n",
    "from transformers import AutoTokenizer, AutoModelForSequenceClassification, TrainingArguments, Trainer\n",
    "import numpy as np\n",
    "import matplotlib.pyplot as plt\n",
    "from sklearn.model_selection import train_test_split\n",
    "from sklearn.metrics import accuracy_score, precision_recall_fscore_support, classification_report\n",
    " \n",
    "\n",
    " \n",
    "\n",
    "\n",
    "# %%\n",
    " \n"
   ]
  },
  {
   "cell_type": "code",
   "execution_count": 4,
   "metadata": {},
   "outputs": [
    {
     "data": {
      "text/plain": [
       "(162421, 3)"
      ]
     },
     "execution_count": 4,
     "metadata": {},
     "output_type": "execute_result"
    }
   ],
   "source": [
    "df = pd.read_csv('/home/bhairavi/om/om5/complaints/complaints.csv')\n",
    "df.shape"
   ]
  },
  {
   "cell_type": "code",
   "execution_count": 5,
   "metadata": {},
   "outputs": [
    {
     "data": {
      "text/plain": [
       "(162421, 3)"
      ]
     },
     "execution_count": 5,
     "metadata": {},
     "output_type": "execute_result"
    }
   ],
   "source": [
    "df['narrative'].dropna(inplace=True)\n",
    "df.shape"
   ]
  },
  {
   "cell_type": "code",
   "execution_count": 6,
   "metadata": {},
   "outputs": [
    {
     "data": {
      "text/html": [
       "<div>\n",
       "<style scoped>\n",
       "    .dataframe tbody tr th:only-of-type {\n",
       "        vertical-align: middle;\n",
       "    }\n",
       "\n",
       "    .dataframe tbody tr th {\n",
       "        vertical-align: top;\n",
       "    }\n",
       "\n",
       "    .dataframe thead th {\n",
       "        text-align: right;\n",
       "    }\n",
       "</style>\n",
       "<table border=\"1\" class=\"dataframe\">\n",
       "  <thead>\n",
       "    <tr style=\"text-align: right;\">\n",
       "      <th></th>\n",
       "      <th>Unnamed: 0</th>\n",
       "      <th>product</th>\n",
       "      <th>narrative</th>\n",
       "    </tr>\n",
       "  </thead>\n",
       "  <tbody>\n",
       "    <tr>\n",
       "      <th>160703</th>\n",
       "      <td>160703</td>\n",
       "      <td>credit_reporting</td>\n",
       "      <td>ga letter remove inaccurate credit information...</td>\n",
       "    </tr>\n",
       "    <tr>\n",
       "      <th>107834</th>\n",
       "      <td>107834</td>\n",
       "      <td>credit_reporting</td>\n",
       "      <td>received alert equifax subscription service eq...</td>\n",
       "    </tr>\n",
       "    <tr>\n",
       "      <th>132474</th>\n",
       "      <td>132474</td>\n",
       "      <td>credit_reporting</td>\n",
       "      <td>unknown hard inquiry credit report im requeste...</td>\n",
       "    </tr>\n",
       "    <tr>\n",
       "      <th>29511</th>\n",
       "      <td>29511</td>\n",
       "      <td>credit_reporting</td>\n",
       "      <td>victim identity notified collection creditor s...</td>\n",
       "    </tr>\n",
       "    <tr>\n",
       "      <th>155427</th>\n",
       "      <td>155427</td>\n",
       "      <td>credit_card</td>\n",
       "      <td>charged car rental card car rental used contac...</td>\n",
       "    </tr>\n",
       "  </tbody>\n",
       "</table>\n",
       "</div>"
      ],
      "text/plain": [
       "        Unnamed: 0           product  \\\n",
       "160703      160703  credit_reporting   \n",
       "107834      107834  credit_reporting   \n",
       "132474      132474  credit_reporting   \n",
       "29511        29511  credit_reporting   \n",
       "155427      155427       credit_card   \n",
       "\n",
       "                                                narrative  \n",
       "160703  ga letter remove inaccurate credit information...  \n",
       "107834  received alert equifax subscription service eq...  \n",
       "132474  unknown hard inquiry credit report im requeste...  \n",
       "29511   victim identity notified collection creditor s...  \n",
       "155427  charged car rental card car rental used contac...  "
      ]
     },
     "execution_count": 6,
     "metadata": {},
     "output_type": "execute_result"
    }
   ],
   "source": [
    "\n",
    "# %%\n",
    "\n",
    "# %%\n",
    "df.sample(5)\n",
    "\n",
    "\n",
    "# %%\n"
   ]
  },
  {
   "cell_type": "code",
   "execution_count": 7,
   "metadata": {},
   "outputs": [],
   "source": [
    "df.drop(columns=[\"Unnamed: 0\"], inplace=True)\n",
    "df.columns = (['label','text' ])\n"
   ]
  },
  {
   "cell_type": "code",
   "execution_count": 8,
   "metadata": {},
   "outputs": [
    {
     "data": {
      "text/html": [
       "<div>\n",
       "<style scoped>\n",
       "    .dataframe tbody tr th:only-of-type {\n",
       "        vertical-align: middle;\n",
       "    }\n",
       "\n",
       "    .dataframe tbody tr th {\n",
       "        vertical-align: top;\n",
       "    }\n",
       "\n",
       "    .dataframe thead th {\n",
       "        text-align: right;\n",
       "    }\n",
       "</style>\n",
       "<table border=\"1\" class=\"dataframe\">\n",
       "  <thead>\n",
       "    <tr style=\"text-align: right;\">\n",
       "      <th></th>\n",
       "      <th>label</th>\n",
       "      <th>text</th>\n",
       "    </tr>\n",
       "  </thead>\n",
       "  <tbody>\n",
       "    <tr>\n",
       "      <th>0</th>\n",
       "      <td>credit_card</td>\n",
       "      <td>purchase order day shipping amount receive pro...</td>\n",
       "    </tr>\n",
       "    <tr>\n",
       "      <th>1</th>\n",
       "      <td>credit_card</td>\n",
       "      <td>forwarded message date tue subject please inve...</td>\n",
       "    </tr>\n",
       "    <tr>\n",
       "      <th>2</th>\n",
       "      <td>retail_banking</td>\n",
       "      <td>forwarded message cc sent friday pdt subject f...</td>\n",
       "    </tr>\n",
       "  </tbody>\n",
       "</table>\n",
       "</div>"
      ],
      "text/plain": [
       "            label                                               text\n",
       "0     credit_card  purchase order day shipping amount receive pro...\n",
       "1     credit_card  forwarded message date tue subject please inve...\n",
       "2  retail_banking  forwarded message cc sent friday pdt subject f..."
      ]
     },
     "execution_count": 8,
     "metadata": {},
     "output_type": "execute_result"
    }
   ],
   "source": [
    "df[0:3]"
   ]
  },
  {
   "cell_type": "code",
   "execution_count": null,
   "metadata": {},
   "outputs": [],
   "source": []
  },
  {
   "cell_type": "code",
   "execution_count": 9,
   "metadata": {},
   "outputs": [
    {
     "data": {
      "text/plain": [
       "5"
      ]
     },
     "execution_count": 9,
     "metadata": {},
     "output_type": "execute_result"
    },
    {
     "data": {
      "image/png": "[encoded data removed]",
      "text/plain": [
       "<Figure size 800x600 with 1 Axes>"
      ]
     },
     "metadata": {},
     "output_type": "display_data"
    }
   ],
   "source": [
    "\n",
    "\n",
    "# %%\n",
    "\n",
    "# %%\n",
    "from sklearn.preprocessing import LabelEncoder\n",
    "\n",
    "# %%\n",
    "le = LabelEncoder()\n",
    "df['target'] = le.fit_transform(df['label'])\n",
    "\n",
    "# %%\n",
    "\n",
    "\n",
    "\n",
    "# %%\n",
    "\n",
    "# %%\n",
    "fig = plt.figure(figsize=(8,6)) \n",
    "df.groupby('label').text.count().sort_values().plot.barh(\n",
    "    ylim=0,   title= 'NUMBER OF text IN EACH label CATEGORY\\n')\n",
    "plt.xlabel('Number of ocurrences', fontsize = 10);\n",
    "\n",
    "\n",
    "# %%\n",
    "\n",
    "\n",
    "# %%\n",
    "\n",
    "# %%\n",
    "numlabel = df['target'].nunique()\n",
    "numlabel\n"
   ]
  },
  {
   "cell_type": "code",
   "execution_count": 10,
   "metadata": {},
   "outputs": [
    {
     "data": {
      "text/plain": [
       "Index(['label', 'text', 'target'], dtype='object')"
      ]
     },
     "execution_count": 10,
     "metadata": {},
     "output_type": "execute_result"
    }
   ],
   "source": [
    "df.columns"
   ]
  },
  {
   "cell_type": "code",
   "execution_count": 11,
   "metadata": {},
   "outputs": [
    {
     "data": {
      "text/plain": [
       "5"
      ]
     },
     "execution_count": 11,
     "metadata": {},
     "output_type": "execute_result"
    }
   ],
   "source": [
    "numlabel = df['target'].nunique()\n",
    "numlabel\n"
   ]
  },
  {
   "cell_type": "code",
   "execution_count": 13,
   "metadata": {},
   "outputs": [],
   "source": [
    "df['text'] = df['text'].apply(lambda x: str(x)[:512] if isinstance(x, float) else x[:512])\n"
   ]
  },
  {
   "cell_type": "code",
   "execution_count": 14,
   "metadata": {},
   "outputs": [
    {
     "name": "stderr",
     "output_type": "stream",
     "text": [
      "/home/bhairavi/om/lib/python3.10/site-packages/transformers/tokenization_utils_base.py:1601: FutureWarning: `clean_up_tokenization_spaces` was not set. It will be set to `True` by default. This behavior will be depracted in transformers v4.45, and will be then set to `False` by default. For more details check this issue: https://github.com/huggingface/transformers/issues/31884\n",
      "  warnings.warn(\n",
      "/home/bhairavi/om/lib/python3.10/site-packages/transformers/convert_slow_tokenizer.py:551: UserWarning: The sentencepiece tokenizer that you are converting to a fast tokenizer uses the byte fallback option which is not implemented in the fast tokenizers. In practice this means that the fast version of the tokenizer can produce unknown tokens whereas the sentencepiece version would have converted these unknown tokens into a sequence of byte tokens matching the original piece of text.\n",
      "  warnings.warn(\n",
      "Some weights of DebertaV2ForSequenceClassification were not initialized from the model checkpoint at microsoft/deberta-v3-base and are newly initialized: ['classifier.bias', 'classifier.weight', 'pooler.dense.bias', 'pooler.dense.weight']\n",
      "You should probably TRAIN this model on a down-stream task to be able to use it for predictions and inference.\n"
     ]
    },
    {
     "data": {
      "text/plain": [
       "DebertaV2ForSequenceClassification(\n",
       "  (deberta): DebertaV2Model(\n",
       "    (embeddings): DebertaV2Embeddings(\n",
       "      (word_embeddings): Embedding(128100, 768, padding_idx=0)\n",
       "      (LayerNorm): LayerNorm((768,), eps=1e-07, elementwise_affine=True)\n",
       "      (dropout): StableDropout()\n",
       "    )\n",
       "    (encoder): DebertaV2Encoder(\n",
       "      (layer): ModuleList(\n",
       "        (0-11): 12 x DebertaV2Layer(\n",
       "          (attention): DebertaV2Attention(\n",
       "            (self): DisentangledSelfAttention(\n",
       "              (query_proj): Linear(in_features=768, out_features=768, bias=True)\n",
       "              (key_proj): Linear(in_features=768, out_features=768, bias=True)\n",
       "              (value_proj): Linear(in_features=768, out_features=768, bias=True)\n",
       "              (pos_dropout): StableDropout()\n",
       "              (dropout): StableDropout()\n",
       "            )\n",
       "            (output): DebertaV2SelfOutput(\n",
       "              (dense): Linear(in_features=768, out_features=768, bias=True)\n",
       "              (LayerNorm): LayerNorm((768,), eps=1e-07, elementwise_affine=True)\n",
       "              (dropout): StableDropout()\n",
       "            )\n",
       "          )\n",
       "          (intermediate): DebertaV2Intermediate(\n",
       "            (dense): Linear(in_features=768, out_features=3072, bias=True)\n",
       "            (intermediate_act_fn): GELUActivation()\n",
       "          )\n",
       "          (output): DebertaV2Output(\n",
       "            (dense): Linear(in_features=3072, out_features=768, bias=True)\n",
       "            (LayerNorm): LayerNorm((768,), eps=1e-07, elementwise_affine=True)\n",
       "            (dropout): StableDropout()\n",
       "          )\n",
       "        )\n",
       "      )\n",
       "      (rel_embeddings): Embedding(512, 768)\n",
       "      (LayerNorm): LayerNorm((768,), eps=1e-07, elementwise_affine=True)\n",
       "    )\n",
       "  )\n",
       "  (pooler): ContextPooler(\n",
       "    (dense): Linear(in_features=768, out_features=768, bias=True)\n",
       "    (dropout): StableDropout()\n",
       "  )\n",
       "  (classifier): Linear(in_features=768, out_features=5, bias=True)\n",
       "  (dropout): StableDropout()\n",
       ")"
      ]
     },
     "execution_count": 14,
     "metadata": {},
     "output_type": "execute_result"
    }
   ],
   "source": [
    "from transformers import AutoTokenizer, AutoModelForSequenceClassification\n",
    "\n",
    "device = \"cuda\"  # the device to load the model onto\n",
    "\n",
    "# Load the tokenizer and model\n",
    "tokenizer = AutoTokenizer.from_pretrained(modelpath)\n",
    "model = AutoModelForSequenceClassification.from_pretrained(modelpath, num_labels=numlabel)\n",
    "\n",
    "# Move the model to the specified device\n",
    "model.to(device)"
   ]
  },
  {
   "cell_type": "code",
   "execution_count": null,
   "metadata": {},
   "outputs": [],
   "source": [
    "# df['token_length'] = df['text'].apply(lambda x: len(tokenizer.tokenize(x)))\n",
    "\n",
    "# # Calculate the maximum token length\n",
    "# max_length = df['token_length'].max()\n",
    "\n",
    "# # Calculate the next maximum token length\n",
    "# next_max_token_length = df['token_length'].nlargest(2).iloc[1]\n",
    "\n",
    "# # Calculate the average token length\n",
    "# average_token_length = df['token_length'].mean()\n",
    "\n",
    "# # Display the results\n",
    "# print(f\"Maximum token length: {max_length}\")\n",
    "# print(f\"Next maximum token length: {next_max_token_length}\")\n",
    "# print(f\"Average token length: {average_token_length:.2f}\")"
   ]
  },
  {
   "cell_type": "code",
   "execution_count": 15,
   "metadata": {},
   "outputs": [],
   "source": [
    "max_length = 512"
   ]
  },
  {
   "cell_type": "code",
   "execution_count": 16,
   "metadata": {},
   "outputs": [
    {
     "name": "stderr",
     "output_type": "stream",
     "text": [
      "Map: 100%|██████████| 131154/131154 [00:47<00:00, 2773.27 examples/s]\n",
      "Map: 100%|██████████| 23145/23145 [00:08<00:00, 2755.10 examples/s]\n",
      "Map: 100%|██████████| 8122/8122 [00:02<00:00, 2749.27 examples/s]\n"
     ]
    }
   ],
   "source": [
    "\n",
    "# %%\n",
    "from sklearn.model_selection import StratifiedShuffleSplit\n",
    "\n",
    "# Splitting off the test set with 5% of the data\n",
    "sss = StratifiedShuffleSplit(n_splits=1, test_size=0.05, random_state=42)  # 5% for test\n",
    "for train_val_idx, test_idx in sss.split(df, df['target']):\n",
    "    train_val_df = df.iloc[train_val_idx]\n",
    "    test_df = df.iloc[test_idx]\n",
    "\n",
    "# Further split train_val_df into train and validation sets with validation set being 15.79% of the remaining data\n",
    "# (which is equivalent to 15% of the original dataset size)\n",
    "sss_val = StratifiedShuffleSplit(n_splits=1, test_size=0.15, random_state=42)  # ~15.79% of remaining data\n",
    "for train_idx, val_idx in sss_val.split(train_val_df, train_val_df['target']):\n",
    "    train_df = train_val_df.iloc[train_idx]\n",
    "    val_df = train_val_df.iloc[val_idx]\n",
    " \n",
    "\n",
    "def tokenize_and_format(examples):\n",
    "    # Tokenize the texts\n",
    "    tokenized_inputs = tokenizer(examples['text'], padding=\"max_length\", truncation=True, max_length=max_length)\n",
    "    tokenized_inputs['label'] = list(map(int, examples['target']))\n",
    "    return tokenized_inputs\n",
    "\n",
    "# Convert pandas DataFrame to Hugging Face's Dataset\n",
    "train_dataset = Dataset.from_pandas(train_df)\n",
    "eval_dataset = Dataset.from_pandas(val_df) \n",
    "test_dataset = Dataset.from_pandas(test_df)\n",
    "\n",
    "# Map the tokenization function across the datasets\n",
    "train_dataset = train_dataset.map(tokenize_and_format, batched=True,batch_size=16)\n",
    "eval_dataset = eval_dataset.map(tokenize_and_format, batched=True,batch_size=16) \n",
    "test_dataset = test_dataset.map(tokenize_and_format, batched=True,batch_size=16)\n",
    "\n",
    "\n"
   ]
  },
  {
   "cell_type": "code",
   "execution_count": 17,
   "metadata": {},
   "outputs": [
    {
     "name": "stderr",
     "output_type": "stream",
     "text": [
      "/home/bhairavi/om/lib/python3.10/site-packages/transformers/training_args.py:1525: FutureWarning: `evaluation_strategy` is deprecated and will be removed in version 4.46 of 🤗 Transformers. Use `eval_strategy` instead\n",
      "  warnings.warn(\n"
     ]
    },
    {
     "data": {
      "text/html": [
       "\n",
       "    <div>\n",
       "      \n",
       "      <progress value='20097' max='49185' style='width:300px; height:20px; vertical-align: middle;'></progress>\n",
       "      [20097/49185 5:08:44 < 7:26:53, 1.08 it/s, Epoch 1.23/3]\n",
       "    </div>\n",
       "    <table border=\"1\" class=\"dataframe\">\n",
       "  <thead>\n",
       " <tr style=\"text-align: left;\">\n",
       "      <th>Epoch</th>\n",
       "      <th>Training Loss</th>\n",
       "      <th>Validation Loss</th>\n",
       "      <th>F1</th>\n",
       "      <th>Precision</th>\n",
       "      <th>Recall</th>\n",
       "    </tr>\n",
       "  </thead>\n",
       "  <tbody>\n",
       "    <tr>\n",
       "      <td>1</td>\n",
       "      <td>0.318800</td>\n",
       "      <td>0.417662</td>\n",
       "      <td>0.878357</td>\n",
       "      <td>0.879644</td>\n",
       "      <td>0.878419</td>\n",
       "    </tr>\n",
       "  </tbody>\n",
       "</table><p>\n",
       "    <div>\n",
       "      \n",
       "      <progress value='1016' max='1016' style='width:300px; height:20px; vertical-align: middle;'></progress>\n",
       "      [1016/1016 05:58]\n",
       "    </div>\n",
       "    "
      ],
      "text/plain": [
       "<IPython.core.display.HTML object>"
      ]
     },
     "metadata": {},
     "output_type": "display_data"
    },
    {
     "ename": "KeyboardInterrupt",
     "evalue": "",
     "output_type": "error",
     "traceback": [
      "\u001b[0;31m---------------------------------------------------------------------------\u001b[0m",
      "\u001b[0;31mKeyboardInterrupt\u001b[0m                         Traceback (most recent call last)",
      "Cell \u001b[0;32mIn[17], line 53\u001b[0m\n\u001b[1;32m     43\u001b[0m trainer \u001b[38;5;241m=\u001b[39m Trainer(\n\u001b[1;32m     44\u001b[0m     model\u001b[38;5;241m=\u001b[39mmodel,\n\u001b[1;32m     45\u001b[0m     args\u001b[38;5;241m=\u001b[39mtraining_args ,  \u001b[38;5;66;03m# Here you will need to make sure that the Trainer is set up correctly\u001b[39;00m\n\u001b[0;32m   (...)\u001b[0m\n\u001b[1;32m     49\u001b[0m     tokenizer\u001b[38;5;241m=\u001b[39mtokenizer\n\u001b[1;32m     50\u001b[0m )\n\u001b[1;32m     52\u001b[0m \u001b[38;5;66;03m# Start training\u001b[39;00m\n\u001b[0;32m---> 53\u001b[0m \u001b[43mtrainer\u001b[49m\u001b[38;5;241;43m.\u001b[39;49m\u001b[43mtrain\u001b[49m\u001b[43m(\u001b[49m\u001b[43m)\u001b[49m\n",
      "File \u001b[0;32m~/om/lib/python3.10/site-packages/transformers/trainer.py:1948\u001b[0m, in \u001b[0;36mTrainer.train\u001b[0;34m(self, resume_from_checkpoint, trial, ignore_keys_for_eval, **kwargs)\u001b[0m\n\u001b[1;32m   1946\u001b[0m         hf_hub_utils\u001b[38;5;241m.\u001b[39menable_progress_bars()\n\u001b[1;32m   1947\u001b[0m \u001b[38;5;28;01melse\u001b[39;00m:\n\u001b[0;32m-> 1948\u001b[0m     \u001b[38;5;28;01mreturn\u001b[39;00m \u001b[43minner_training_loop\u001b[49m\u001b[43m(\u001b[49m\n\u001b[1;32m   1949\u001b[0m \u001b[43m        \u001b[49m\u001b[43margs\u001b[49m\u001b[38;5;241;43m=\u001b[39;49m\u001b[43margs\u001b[49m\u001b[43m,\u001b[49m\n\u001b[1;32m   1950\u001b[0m \u001b[43m        \u001b[49m\u001b[43mresume_from_checkpoint\u001b[49m\u001b[38;5;241;43m=\u001b[39;49m\u001b[43mresume_from_checkpoint\u001b[49m\u001b[43m,\u001b[49m\n\u001b[1;32m   1951\u001b[0m \u001b[43m        \u001b[49m\u001b[43mtrial\u001b[49m\u001b[38;5;241;43m=\u001b[39;49m\u001b[43mtrial\u001b[49m\u001b[43m,\u001b[49m\n\u001b[1;32m   1952\u001b[0m \u001b[43m        \u001b[49m\u001b[43mignore_keys_for_eval\u001b[49m\u001b[38;5;241;43m=\u001b[39;49m\u001b[43mignore_keys_for_eval\u001b[49m\u001b[43m,\u001b[49m\n\u001b[1;32m   1953\u001b[0m \u001b[43m    \u001b[49m\u001b[43m)\u001b[49m\n",
      "File \u001b[0;32m~/om/lib/python3.10/site-packages/transformers/trainer.py:2294\u001b[0m, in \u001b[0;36mTrainer._inner_training_loop\u001b[0;34m(self, batch_size, args, resume_from_checkpoint, trial, ignore_keys_for_eval)\u001b[0m\n\u001b[1;32m   2288\u001b[0m \u001b[38;5;28;01mwith\u001b[39;00m \u001b[38;5;28mself\u001b[39m\u001b[38;5;241m.\u001b[39maccelerator\u001b[38;5;241m.\u001b[39maccumulate(model):\n\u001b[1;32m   2289\u001b[0m     tr_loss_step \u001b[38;5;241m=\u001b[39m \u001b[38;5;28mself\u001b[39m\u001b[38;5;241m.\u001b[39mtraining_step(model, inputs)\n\u001b[1;32m   2291\u001b[0m \u001b[38;5;28;01mif\u001b[39;00m (\n\u001b[1;32m   2292\u001b[0m     args\u001b[38;5;241m.\u001b[39mlogging_nan_inf_filter\n\u001b[1;32m   2293\u001b[0m     \u001b[38;5;129;01mand\u001b[39;00m \u001b[38;5;129;01mnot\u001b[39;00m is_torch_xla_available()\n\u001b[0;32m-> 2294\u001b[0m     \u001b[38;5;129;01mand\u001b[39;00m (torch\u001b[38;5;241m.\u001b[39misnan(tr_loss_step) \u001b[38;5;129;01mor\u001b[39;00m \u001b[43mtorch\u001b[49m\u001b[38;5;241;43m.\u001b[39;49m\u001b[43misinf\u001b[49m\u001b[43m(\u001b[49m\u001b[43mtr_loss_step\u001b[49m\u001b[43m)\u001b[49m)\n\u001b[1;32m   2295\u001b[0m ):\n\u001b[1;32m   2296\u001b[0m     \u001b[38;5;66;03m# if loss is nan or inf simply add the average of previous logged losses\u001b[39;00m\n\u001b[1;32m   2297\u001b[0m     tr_loss \u001b[38;5;241m+\u001b[39m\u001b[38;5;241m=\u001b[39m tr_loss \u001b[38;5;241m/\u001b[39m (\u001b[38;5;241m1\u001b[39m \u001b[38;5;241m+\u001b[39m \u001b[38;5;28mself\u001b[39m\u001b[38;5;241m.\u001b[39mstate\u001b[38;5;241m.\u001b[39mglobal_step \u001b[38;5;241m-\u001b[39m \u001b[38;5;28mself\u001b[39m\u001b[38;5;241m.\u001b[39m_globalstep_last_logged)\n\u001b[1;32m   2298\u001b[0m \u001b[38;5;28;01melse\u001b[39;00m:\n",
      "\u001b[0;31mKeyboardInterrupt\u001b[0m: "
     ]
    }
   ],
   "source": [
    "\n",
    "\n",
    "# %%\n",
    "from sklearn.metrics import f1_score, precision_score, recall_score\n",
    "\n",
    "def compute_metrics(pred):\n",
    "    labels = pred.label_ids\n",
    "    preds = pred.predictions.argmax(-1)\n",
    "    f1 = f1_score(labels, preds, average='weighted')\n",
    "    precision = precision_score(labels, preds, average='weighted')\n",
    "    recall = recall_score(labels, preds, average='weighted')\n",
    "    return {\n",
    "        'eval_f1': f1,\n",
    "        'eval_precision': precision,\n",
    "        'eval_recall': recall,\n",
    "    }\n",
    "\n",
    " \n",
    "\n",
    "\n",
    "# %%\n",
    "\n",
    "# %%\n",
    " \n",
    "\n",
    "training_args = TrainingArguments(\n",
    "    output_dir=\"./results\",\n",
    "    evaluation_strategy=\"epoch\",  # Use 'epoch' to evaluate at the end of each epoch\n",
    "    save_strategy=\"epoch\",  # Also use 'epoch' to save at the end of each epoch\n",
    "    learning_rate=2e-5,\n",
    "    per_device_train_batch_size=8,\n",
    "    per_device_eval_batch_size=8,\n",
    "    num_train_epochs=3,\n",
    "    weight_decay=0.01,\n",
    "    load_best_model_at_end=True,  # Load the best model at the end of training based on metric\n",
    "    metric_for_best_model='f1',  # Define the metric for evaluating the best model\n",
    "    logging_dir='./logs',\n",
    "    logging_steps=10,\n",
    "    report_to=[] \n",
    ")\n",
    "\n",
    "\n",
    " \n",
    "\n",
    "trainer = Trainer(\n",
    "    model=model,\n",
    "    args=training_args ,  # Here you will need to make sure that the Trainer is set up correctly\n",
    "    compute_metrics=compute_metrics,\n",
    "    train_dataset=train_dataset,\n",
    "    eval_dataset=eval_dataset,\n",
    "    tokenizer=tokenizer\n",
    ")\n",
    "\n",
    "# Start training\n",
    "trainer.train()\n",
    "\n",
    " \n",
    " \n",
    "\n"
   ]
  },
  {
   "cell_type": "code",
   "execution_count": 18,
   "metadata": {},
   "outputs": [
    {
     "data": {
      "text/plain": [
       "'/home/bhairavi/om/om5/comp/debertaV3_comp'"
      ]
     },
     "execution_count": 18,
     "metadata": {},
     "output_type": "execute_result"
    }
   ],
   "source": [
    "saveDIR"
   ]
  },
  {
   "cell_type": "code",
   "execution_count": 19,
   "metadata": {},
   "outputs": [
    {
     "data": {
      "text/plain": [
       "('/home/bhairavi/om/om5/comp/debertaV3_comp/tokenizer_config.json',\n",
       " '/home/bhairavi/om/om5/comp/debertaV3_comp/special_tokens_map.json',\n",
       " '/home/bhairavi/om/om5/comp/debertaV3_comp/spm.model',\n",
       " '/home/bhairavi/om/om5/comp/debertaV3_comp/added_tokens.json',\n",
       " '/home/bhairavi/om/om5/comp/debertaV3_comp/tokenizer.json')"
      ]
     },
     "execution_count": 19,
     "metadata": {},
     "output_type": "execute_result"
    }
   ],
   "source": [
    "save_directory = saveDIR\n",
    " \n",
    "\n",
    "# Save the model\n",
    "model.save_pretrained(save_directory)\n",
    "\n",
    "# Save the tokenizer (optional, but recommended)\n",
    "tokenizer.save_pretrained(save_directory)"
   ]
  },
  {
   "cell_type": "code",
   "execution_count": 20,
   "metadata": {},
   "outputs": [
    {
     "name": "stdout",
     "output_type": "stream",
     "text": [
      "\u001b[36m keywords class evaluation detection RESULTS\n",
      "                     precision    recall  f1-score   support\n",
      "\n",
      "        credit_card     0.7522    0.8431    0.7951      2218\n",
      "     retail_banking     0.9179    0.9319    0.9248     12993\n",
      "   credit_reporting     0.7967    0.7866    0.7916      3299\n",
      "mortgages_and_loans     0.8802    0.7982    0.8372      2706\n",
      "    debt_collection     0.9095    0.8284    0.8671      1929\n",
      "\n",
      "           accuracy                         0.8784     23145\n",
      "          macro avg     0.8513    0.8376    0.8432     23145\n",
      "       weighted avg     0.8796    0.8784    0.8784     23145\n",
      "\n"
     ]
    }
   ],
   "source": [
    "\n",
    "# %%\n",
    "from colorama import Fore, Style\n",
    "\n",
    "\n",
    "# %% [markdown]\n",
    "# eval dataset performance so that keywords_classes can be fixed\n",
    "\n",
    "# %%\n",
    "results = trainer.evaluate()\n",
    "\n",
    "# Predict using the trained model to get labels and predictions\n",
    "predictions, labels, _ = trainer.predict(eval_dataset)\n",
    "predictions = np.argmax(predictions, axis=1)\n",
    "\n",
    "\n",
    "# %%\n",
    "from sklearn.metrics import classification_report\n",
    "# Generate the classification report\n",
    "report = classification_report(\n",
    "    labels,\n",
    "    predictions,\n",
    "    target_names=df['label'].unique() , # Adjust this line as per your dataset\n",
    "    digits=4\n",
    ")\n",
    "print(Fore.CYAN,\"keywords class evaluation detection RESULTS\")\n",
    "print(report)\n",
    "\n",
    "\n",
    "# %% [markdown]\n",
    "# skyline\n",
    "\n",
    "# %%\n"
   ]
  },
  {
   "cell_type": "code",
   "execution_count": 21,
   "metadata": {},
   "outputs": [
    {
     "name": "stdout",
     "output_type": "stream",
     "text": [
      "\u001b[31mTEST DATA IS OUR SKYLINE RESULT\n",
      "                     precision    recall  f1-score   support\n",
      "\n",
      "        credit_card     0.7623    0.8535    0.8053       778\n",
      "     retail_banking     0.9143    0.9270    0.9206      4559\n",
      "   credit_reporting     0.7870    0.7720    0.7794      1158\n",
      "mortgages_and_loans     0.8640    0.7758    0.8175       950\n",
      "    debt_collection     0.8922    0.8434    0.8671       677\n",
      "\n",
      "           accuracy                         0.8732      8122\n",
      "          macro avg     0.8440    0.8343    0.8380      8122\n",
      "       weighted avg     0.8739    0.8732    0.8729      8122\n",
      "\n"
     ]
    }
   ],
   "source": [
    "\n",
    "\n",
    "# %%\n",
    "print(Fore.RED +\"TEST DATA IS OUR SKYLINE RESULT\")\n",
    " \n",
    "results = trainer.evaluate()\n",
    "\n",
    "# Predict using the trained model to get labels and predictions\n",
    "predictions, labels, _ = trainer.predict(test_dataset)\n",
    "predictions = np.argmax(predictions, axis=1)\n",
    "\n",
    "\n",
    "# %%\n",
    "from sklearn.metrics import classification_report\n",
    "# Generate the classification report\n",
    "report = classification_report(\n",
    "    labels,\n",
    "    predictions,\n",
    "    target_names=df['label'].unique() , # Adjust this line as per your dataset\n",
    "    digits=4\n",
    ")\n",
    "\n",
    "print(report)\n"
   ]
  }
 ],
 "metadata": {
  "kernelspec": {
   "display_name": "om",
   "language": "python",
   "name": "python3"
  },
  "language_info": {
   "codemirror_mode": {
    "name": "ipython",
    "version": 3
   },
   "file_extension": ".py",
   "mimetype": "text/x-python",
   "name": "python",
   "nbconvert_exporter": "python",
   "pygments_lexer": "ipython3",
   "version": "3.10.12"
  }
 },
 "nbformat": 4,
 "nbformat_minor": 2
}
